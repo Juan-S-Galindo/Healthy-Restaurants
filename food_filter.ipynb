{
 "cells": [
  {
   "cell_type": "code",
   "execution_count": 2,
   "metadata": {},
   "outputs": [
    {
     "output_type": "execute_result",
     "data": {
      "text/plain": "                        Restaurant                               Food_Name  \\\n0                           Subway                            Cheese Pizza   \n1                           Subway                           Sausage Pizza   \n2                           Subway                          Meatball Pizza   \n3                           Subway                         Pepperoni Pizza   \n4                           Subway                             Bacon Pizza   \n...                            ...                                     ...   \n2782  La Salsa Fresh Mexican Grill      Overstuffed Grilled Burrito, Steak   \n2783  La Salsa Fresh Mexican Grill              Side of Chips for Burritos   \n2784  La Salsa Fresh Mexican Grill     California Burrito with Pinto Beans   \n2785  La Salsa Fresh Mexican Grill     California Burrito with Black Beans   \n2786  La Salsa Fresh Mexican Grill  Bean & Cheese Burrito with Black Beans   \n\n                                              Nutrients  Calories  \n0     [{'value': 28, 'attr_id': 203}, {'value': 23, ...       720  \n1     [{'value': 35, 'attr_id': 203}, {'value': 35, ...       860  \n2     [{'value': 37, 'attr_id': 203}, {'value': 33, ...       860  \n3     [{'value': 35, 'attr_id': 203}, {'value': 33, ...       840  \n4     [{'value': 37, 'attr_id': 203}, {'value': 31, ...       840  \n...                                                 ...       ...  \n2782  [{'value': 66, 'attr_id': 203}, {'value': 66, ...      1290  \n2783  [{'value': 3, 'attr_id': 203}, {'value': 10, '...       200  \n2784  [{'value': 27, 'attr_id': 203}, {'value': 29, ...       690  \n2785  [{'value': 28, 'attr_id': 203}, {'value': 29, ...       710  \n2786  [{'value': 48, 'attr_id': 203}, {'value': 48, ...      1100  \n\n[2787 rows x 4 columns]",
      "text/html": "<div>\n<style scoped>\n    .dataframe tbody tr th:only-of-type {\n        vertical-align: middle;\n    }\n\n    .dataframe tbody tr th {\n        vertical-align: top;\n    }\n\n    .dataframe thead th {\n        text-align: right;\n    }\n</style>\n<table border=\"1\" class=\"dataframe\">\n  <thead>\n    <tr style=\"text-align: right;\">\n      <th></th>\n      <th>Restaurant</th>\n      <th>Food_Name</th>\n      <th>Nutrients</th>\n      <th>Calories</th>\n    </tr>\n  </thead>\n  <tbody>\n    <tr>\n      <th>0</th>\n      <td>Subway</td>\n      <td>Cheese Pizza</td>\n      <td>[{'value': 28, 'attr_id': 203}, {'value': 23, ...</td>\n      <td>720</td>\n    </tr>\n    <tr>\n      <th>1</th>\n      <td>Subway</td>\n      <td>Sausage Pizza</td>\n      <td>[{'value': 35, 'attr_id': 203}, {'value': 35, ...</td>\n      <td>860</td>\n    </tr>\n    <tr>\n      <th>2</th>\n      <td>Subway</td>\n      <td>Meatball Pizza</td>\n      <td>[{'value': 37, 'attr_id': 203}, {'value': 33, ...</td>\n      <td>860</td>\n    </tr>\n    <tr>\n      <th>3</th>\n      <td>Subway</td>\n      <td>Pepperoni Pizza</td>\n      <td>[{'value': 35, 'attr_id': 203}, {'value': 33, ...</td>\n      <td>840</td>\n    </tr>\n    <tr>\n      <th>4</th>\n      <td>Subway</td>\n      <td>Bacon Pizza</td>\n      <td>[{'value': 37, 'attr_id': 203}, {'value': 31, ...</td>\n      <td>840</td>\n    </tr>\n    <tr>\n      <th>...</th>\n      <td>...</td>\n      <td>...</td>\n      <td>...</td>\n      <td>...</td>\n    </tr>\n    <tr>\n      <th>2782</th>\n      <td>La Salsa Fresh Mexican Grill</td>\n      <td>Overstuffed Grilled Burrito, Steak</td>\n      <td>[{'value': 66, 'attr_id': 203}, {'value': 66, ...</td>\n      <td>1290</td>\n    </tr>\n    <tr>\n      <th>2783</th>\n      <td>La Salsa Fresh Mexican Grill</td>\n      <td>Side of Chips for Burritos</td>\n      <td>[{'value': 3, 'attr_id': 203}, {'value': 10, '...</td>\n      <td>200</td>\n    </tr>\n    <tr>\n      <th>2784</th>\n      <td>La Salsa Fresh Mexican Grill</td>\n      <td>California Burrito with Pinto Beans</td>\n      <td>[{'value': 27, 'attr_id': 203}, {'value': 29, ...</td>\n      <td>690</td>\n    </tr>\n    <tr>\n      <th>2785</th>\n      <td>La Salsa Fresh Mexican Grill</td>\n      <td>California Burrito with Black Beans</td>\n      <td>[{'value': 28, 'attr_id': 203}, {'value': 29, ...</td>\n      <td>710</td>\n    </tr>\n    <tr>\n      <th>2786</th>\n      <td>La Salsa Fresh Mexican Grill</td>\n      <td>Bean &amp; Cheese Burrito with Black Beans</td>\n      <td>[{'value': 48, 'attr_id': 203}, {'value': 48, ...</td>\n      <td>1100</td>\n    </tr>\n  </tbody>\n</table>\n<p>2787 rows × 4 columns</p>\n</div>"
     },
     "metadata": {},
     "execution_count": 2
    }
   ],
   "source": [
    "import pandas as pd\n",
    "\n",
    "foodFile = pd.read_csv('Resources/CSVs/all_food.csv')\n",
    "\n",
    "foodFile"
   ]
  },
  {
   "cell_type": "code",
   "execution_count": 61,
   "metadata": {},
   "outputs": [
    {
     "output_type": "execute_result",
     "data": {
      "text/plain": "[\"Schlotzsky's\",\n \"Domino's\",\n 'Pizza Hut',\n \"Chili's\",\n \"Doubledave's Pizzaworks\",\n \"Johnny Carino's\",\n 'Dairy Queen',\n 'Mod Pizza',\n \"Applebee's\",\n 'Peter Piper Pizza',\n \"Romano's Macaroni Grill\",\n 'Which Wich',\n 'Blaze Pizza',\n 'California Pizza Kitchen',\n 'Redbrick Pizza',\n 'Cheesecake Factory',\n \"Newk's Eatery\",\n \"BJ's Restaurants\",\n 'Extreme Pizza',\n \"Denny's\",\n 'Burger King',\n 'Jack in the Box',\n 'Sonic',\n \"McDonald's\",\n 'Whataburger',\n 'LongHorn Steakhouse',\n \"TGI Friday's\",\n \"Carl's Jr\",\n 'Perkins Restaurant And Bakery',\n \"Chuy's\",\n \"Mimi's Cafe\",\n 'Starbucks',\n 'Tropical Smoothie Cafe',\n \"Jersey Mike's Subs\",\n 'Taco Bueno',\n 'Panera Bread',\n 'Corner Bakery Cafe',\n 'La Salsa Fresh Mexican Grill',\n 'Frullati Cafe & Bakery']"
     },
     "metadata": {},
     "execution_count": 61
    }
   ],
   "source": [
    "\n",
    "restaurantsList = []\n",
    "\n",
    "for i in range(len(foodFile)):\n",
    "\n",
    "    if foodFile['Restaurant'].value_counts()[foodFile.loc[i,'Restaurant']] > 30:\n",
    "        if foodFile.loc[i,'Restaurant'] not in restaurantsList:\n",
    "            restaurantsList.append(foodFile.loc[i,'Restaurant'])\n",
    "\n",
    "restaurantsList"
   ]
  },
  {
   "cell_type": "code",
   "execution_count": 62,
   "metadata": {},
   "outputs": [
    {
     "output_type": "execute_result",
     "data": {
      "text/plain": "39"
     },
     "metadata": {},
     "execution_count": 62
    }
   ],
   "source": [
    "len(restaurantsList)"
   ]
  },
  {
   "cell_type": "code",
   "execution_count": 64,
   "metadata": {
    "tags": []
   },
   "outputs": [],
   "source": [
    "count = 0\n",
    "for i in restaurantsList:\n",
    "    if count > 0:\n",
    "        allMenu = allMenu.append(foodFile[foodFile['Restaurant'] == i])\n",
    "    else:\n",
    "        allMenu = foodFile[foodFile['Restaurant'] == i]\n",
    "    \n",
    "    count += 1"
   ]
  },
  {
   "cell_type": "code",
   "execution_count": 65,
   "metadata": {},
   "outputs": [
    {
     "output_type": "execute_result",
     "data": {
      "text/plain": "                  Restaurant                            Food_Name  \\\n9               Schlotzsky's                    Kids Cheese Pizza   \n10              Schlotzsky's                 Kids Pepperoni Pizza   \n11              Schlotzsky's        Pepperoni Double Cheese Pizza   \n12              Schlotzsky's             Double Cheese Pizza 10''   \n13              Schlotzsky's              Fresh Veggie Pizza 10''   \n...                      ...                                  ...   \n2631  Frullati Cafe & Bakery        Banana Banana Smoothie, Small   \n2632  Frullati Cafe & Bakery     Blueberry Banana Smoothie, Large   \n2633  Frullati Cafe & Bakery  Blueberry Pineapple Smoothie, Large   \n2634  Frullati Cafe & Bakery     Chocolate Banana Smoothie, Large   \n2635  Frullati Cafe & Bakery           Mocha Java Smoothie, Large   \n\n                                              Nutrients  Calories  \n9     [{'value': 18, 'attr_id': 203}, {'value': 17, ...       540  \n10    [{'value': 20, 'attr_id': 203}, {'value': 22, ...       590  \n11    [{'value': 39, 'attr_id': 203}, {'value': 42, ...       980  \n12    [{'value': 33, 'attr_id': 203}, {'value': 35, ...       920  \n13    [{'value': 33, 'attr_id': 203}, {'value': 35, ...       920  \n...                                                 ...       ...  \n2631  [{'value': 2, 'attr_id': 203}, {'value': 4, 'a...       290  \n2632  [{'value': 3, 'attr_id': 203}, {'value': 8, 'a...       550  \n2633  [{'value': 3, 'attr_id': 203}, {'value': 8, 'a...       540  \n2634  [{'value': 5, 'attr_id': 203}, {'value': 7, 'a...       670  \n2635  [{'value': 4, 'attr_id': 203}, {'value': 7, 'a...       620  \n\n[1653 rows x 4 columns]",
      "text/html": "<div>\n<style scoped>\n    .dataframe tbody tr th:only-of-type {\n        vertical-align: middle;\n    }\n\n    .dataframe tbody tr th {\n        vertical-align: top;\n    }\n\n    .dataframe thead th {\n        text-align: right;\n    }\n</style>\n<table border=\"1\" class=\"dataframe\">\n  <thead>\n    <tr style=\"text-align: right;\">\n      <th></th>\n      <th>Restaurant</th>\n      <th>Food_Name</th>\n      <th>Nutrients</th>\n      <th>Calories</th>\n    </tr>\n  </thead>\n  <tbody>\n    <tr>\n      <th>9</th>\n      <td>Schlotzsky's</td>\n      <td>Kids Cheese Pizza</td>\n      <td>[{'value': 18, 'attr_id': 203}, {'value': 17, ...</td>\n      <td>540</td>\n    </tr>\n    <tr>\n      <th>10</th>\n      <td>Schlotzsky's</td>\n      <td>Kids Pepperoni Pizza</td>\n      <td>[{'value': 20, 'attr_id': 203}, {'value': 22, ...</td>\n      <td>590</td>\n    </tr>\n    <tr>\n      <th>11</th>\n      <td>Schlotzsky's</td>\n      <td>Pepperoni Double Cheese Pizza</td>\n      <td>[{'value': 39, 'attr_id': 203}, {'value': 42, ...</td>\n      <td>980</td>\n    </tr>\n    <tr>\n      <th>12</th>\n      <td>Schlotzsky's</td>\n      <td>Double Cheese Pizza 10''</td>\n      <td>[{'value': 33, 'attr_id': 203}, {'value': 35, ...</td>\n      <td>920</td>\n    </tr>\n    <tr>\n      <th>13</th>\n      <td>Schlotzsky's</td>\n      <td>Fresh Veggie Pizza 10''</td>\n      <td>[{'value': 33, 'attr_id': 203}, {'value': 35, ...</td>\n      <td>920</td>\n    </tr>\n    <tr>\n      <th>...</th>\n      <td>...</td>\n      <td>...</td>\n      <td>...</td>\n      <td>...</td>\n    </tr>\n    <tr>\n      <th>2631</th>\n      <td>Frullati Cafe &amp; Bakery</td>\n      <td>Banana Banana Smoothie, Small</td>\n      <td>[{'value': 2, 'attr_id': 203}, {'value': 4, 'a...</td>\n      <td>290</td>\n    </tr>\n    <tr>\n      <th>2632</th>\n      <td>Frullati Cafe &amp; Bakery</td>\n      <td>Blueberry Banana Smoothie, Large</td>\n      <td>[{'value': 3, 'attr_id': 203}, {'value': 8, 'a...</td>\n      <td>550</td>\n    </tr>\n    <tr>\n      <th>2633</th>\n      <td>Frullati Cafe &amp; Bakery</td>\n      <td>Blueberry Pineapple Smoothie, Large</td>\n      <td>[{'value': 3, 'attr_id': 203}, {'value': 8, 'a...</td>\n      <td>540</td>\n    </tr>\n    <tr>\n      <th>2634</th>\n      <td>Frullati Cafe &amp; Bakery</td>\n      <td>Chocolate Banana Smoothie, Large</td>\n      <td>[{'value': 5, 'attr_id': 203}, {'value': 7, 'a...</td>\n      <td>670</td>\n    </tr>\n    <tr>\n      <th>2635</th>\n      <td>Frullati Cafe &amp; Bakery</td>\n      <td>Mocha Java Smoothie, Large</td>\n      <td>[{'value': 4, 'attr_id': 203}, {'value': 7, 'a...</td>\n      <td>620</td>\n    </tr>\n  </tbody>\n</table>\n<p>1653 rows × 4 columns</p>\n</div>"
     },
     "metadata": {},
     "execution_count": 65
    }
   ],
   "source": [
    "allMenu"
   ]
  },
  {
   "cell_type": "code",
   "execution_count": 66,
   "metadata": {},
   "outputs": [],
   "source": [
    "allMenu.to_csv(\"Resources/CSVs/all_menu_items.csv\", index=False, header=True)"
   ]
  },
  {
   "cell_type": "code",
   "execution_count": null,
   "metadata": {},
   "outputs": [],
   "source": []
  }
 ],
 "metadata": {
  "language_info": {
   "codemirror_mode": {
    "name": "ipython",
    "version": 3
   },
   "file_extension": ".py",
   "mimetype": "text/x-python",
   "name": "python",
   "nbconvert_exporter": "python",
   "pygments_lexer": "ipython3",
   "version": 3
  },
  "orig_nbformat": 2,
  "kernelspec": {
   "name": "python_defaultSpec_1593009792825",
   "display_name": "Python 3.7.6 64-bit ('base': conda)"
  }
 },
 "nbformat": 4,
 "nbformat_minor": 2
}