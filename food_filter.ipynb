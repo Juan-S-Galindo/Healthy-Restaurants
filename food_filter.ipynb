{
 "cells": [
  {
   "cell_type": "code",
   "execution_count": 7,
   "metadata": {},
   "outputs": [
    {
     "output_type": "execute_result",
     "data": {
      "text/plain": "                        Restaurant                               Food_Name  \\\n0                           Subway                            Cheese Pizza   \n1                           Subway                           Sausage Pizza   \n2                           Subway                          Meatball Pizza   \n3                           Subway                         Pepperoni Pizza   \n4                           Subway                             Bacon Pizza   \n...                            ...                                     ...   \n2782  La Salsa Fresh Mexican Grill      Overstuffed Grilled Burrito, Steak   \n2783  La Salsa Fresh Mexican Grill              Side of Chips for Burritos   \n2784  La Salsa Fresh Mexican Grill     California Burrito with Pinto Beans   \n2785  La Salsa Fresh Mexican Grill     California Burrito with Black Beans   \n2786  La Salsa Fresh Mexican Grill  Bean & Cheese Burrito with Black Beans   \n\n                                              Nutrients  Calories  \n0     [{'value': 28, 'attr_id': 203}, {'value': 23, ...       720  \n1     [{'value': 35, 'attr_id': 203}, {'value': 35, ...       860  \n2     [{'value': 37, 'attr_id': 203}, {'value': 33, ...       860  \n3     [{'value': 35, 'attr_id': 203}, {'value': 33, ...       840  \n4     [{'value': 37, 'attr_id': 203}, {'value': 31, ...       840  \n...                                                 ...       ...  \n2782  [{'value': 66, 'attr_id': 203}, {'value': 66, ...      1290  \n2783  [{'value': 3, 'attr_id': 203}, {'value': 10, '...       200  \n2784  [{'value': 27, 'attr_id': 203}, {'value': 29, ...       690  \n2785  [{'value': 28, 'attr_id': 203}, {'value': 29, ...       710  \n2786  [{'value': 48, 'attr_id': 203}, {'value': 48, ...      1100  \n\n[2787 rows x 4 columns]",
      "text/html": "<div>\n<style scoped>\n    .dataframe tbody tr th:only-of-type {\n        vertical-align: middle;\n    }\n\n    .dataframe tbody tr th {\n        vertical-align: top;\n    }\n\n    .dataframe thead th {\n        text-align: right;\n    }\n</style>\n<table border=\"1\" class=\"dataframe\">\n  <thead>\n    <tr style=\"text-align: right;\">\n      <th></th>\n      <th>Restaurant</th>\n      <th>Food_Name</th>\n      <th>Nutrients</th>\n      <th>Calories</th>\n    </tr>\n  </thead>\n  <tbody>\n    <tr>\n      <th>0</th>\n      <td>Subway</td>\n      <td>Cheese Pizza</td>\n      <td>[{'value': 28, 'attr_id': 203}, {'value': 23, ...</td>\n      <td>720</td>\n    </tr>\n    <tr>\n      <th>1</th>\n      <td>Subway</td>\n      <td>Sausage Pizza</td>\n      <td>[{'value': 35, 'attr_id': 203}, {'value': 35, ...</td>\n      <td>860</td>\n    </tr>\n    <tr>\n      <th>2</th>\n      <td>Subway</td>\n      <td>Meatball Pizza</td>\n      <td>[{'value': 37, 'attr_id': 203}, {'value': 33, ...</td>\n      <td>860</td>\n    </tr>\n    <tr>\n      <th>3</th>\n      <td>Subway</td>\n      <td>Pepperoni Pizza</td>\n      <td>[{'value': 35, 'attr_id': 203}, {'value': 33, ...</td>\n      <td>840</td>\n    </tr>\n    <tr>\n      <th>4</th>\n      <td>Subway</td>\n      <td>Bacon Pizza</td>\n      <td>[{'value': 37, 'attr_id': 203}, {'value': 31, ...</td>\n      <td>840</td>\n    </tr>\n    <tr>\n      <th>...</th>\n      <td>...</td>\n      <td>...</td>\n      <td>...</td>\n      <td>...</td>\n    </tr>\n    <tr>\n      <th>2782</th>\n      <td>La Salsa Fresh Mexican Grill</td>\n      <td>Overstuffed Grilled Burrito, Steak</td>\n      <td>[{'value': 66, 'attr_id': 203}, {'value': 66, ...</td>\n      <td>1290</td>\n    </tr>\n    <tr>\n      <th>2783</th>\n      <td>La Salsa Fresh Mexican Grill</td>\n      <td>Side of Chips for Burritos</td>\n      <td>[{'value': 3, 'attr_id': 203}, {'value': 10, '...</td>\n      <td>200</td>\n    </tr>\n    <tr>\n      <th>2784</th>\n      <td>La Salsa Fresh Mexican Grill</td>\n      <td>California Burrito with Pinto Beans</td>\n      <td>[{'value': 27, 'attr_id': 203}, {'value': 29, ...</td>\n      <td>690</td>\n    </tr>\n    <tr>\n      <th>2785</th>\n      <td>La Salsa Fresh Mexican Grill</td>\n      <td>California Burrito with Black Beans</td>\n      <td>[{'value': 28, 'attr_id': 203}, {'value': 29, ...</td>\n      <td>710</td>\n    </tr>\n    <tr>\n      <th>2786</th>\n      <td>La Salsa Fresh Mexican Grill</td>\n      <td>Bean &amp; Cheese Burrito with Black Beans</td>\n      <td>[{'value': 48, 'attr_id': 203}, {'value': 48, ...</td>\n      <td>1100</td>\n    </tr>\n  </tbody>\n</table>\n<p>2787 rows × 4 columns</p>\n</div>"
     },
     "metadata": {},
     "execution_count": 7
    }
   ],
   "source": [
    "import pandas as pd\n",
    "\n",
    "foodFile = pd.read_csv('Resources/CSVs/all_food.csv')\n",
    "\n",
    "foodFile"
   ]
  },
  {
   "cell_type": "code",
   "execution_count": 8,
   "metadata": {},
   "outputs": [
    {
     "output_type": "execute_result",
     "data": {
      "text/plain": "['Subway',\n \"Auntie Anne's\",\n \"Schlotzsky's\",\n \"Gatti's Pizza\",\n \"Papa John's\",\n 'Little Caesars Pizza',\n 'Taco Bell',\n \"Domino's\",\n 'Pizza Hut',\n \"Chili's\",\n \"Doubledave's Pizzaworks\",\n \"Johnny Carino's\",\n 'Dairy Queen',\n 'Mod Pizza',\n \"CiCi's Pizza\",\n \"Applebee's\",\n 'Peter Piper Pizza',\n \"Romano's Macaroni Grill\",\n \"Papa Murphy's\",\n 'Which Wich',\n 'La Madeleine',\n 'Golden Corral',\n \"Joe's Crab Shack\",\n 'Blaze Pizza',\n \"Larry's Giant Subs\",\n 'California Pizza Kitchen',\n 'Einstein Bros. Bagels',\n 'Redbrick Pizza',\n \"Arby's\",\n 'Buca Di Beppo',\n 'Cheesecake Factory',\n \"Newk's Eatery\",\n 'Olive Garden',\n \"Chuck E. Cheese's\",\n \"BJ's Restaurants\",\n \"McAlister's Deli\",\n 'Extreme Pizza',\n \"Denny's\",\n 'Burger King',\n 'Jack in the Box',\n \"Wendy's\",\n 'Sonic',\n \"McDonald's\",\n 'Whataburger',\n 'LongHorn Steakhouse',\n 'Texas Roadhouse',\n \"TGI Friday's\",\n \"Carl's Jr\",\n 'Perkins Restaurant And Bakery',\n 'Buffalo Wild Wings',\n 'BurgerFi',\n 'Five Guys',\n \"Cheddar's Scratch Kitchen\",\n \"Chuy's\",\n 'In-N-Out Burger',\n 'Hooters',\n 'Fogo De Chao Churrascaria',\n 'The Capital Grille',\n 'Wings To Go',\n 'IHOP',\n \"Mimi's Cafe\",\n 'Shake Shack',\n 'Starbucks',\n 'Tropical Smoothie Cafe',\n 'KFC',\n \"Jersey Mike's Subs\",\n 'Chick-fil-A',\n 'Bill Miller Bar-B-Q',\n \"Rosa's Cafe\",\n 'Taco Bueno',\n 'Firehouse Subs',\n \"Culver's\",\n 'Panera Bread',\n \"Jimmy John's\",\n \"Quizno's\",\n 'Freebirds World Burrito',\n 'Pollo Tropical',\n \"Uncle Julio's\",\n 'Pei Wei Asian Diner',\n \"Zoe's Kitchen\",\n 'Corner Bakery Cafe',\n 'Salata',\n 'La Salsa Fresh Mexican Grill',\n 'HoneyBaked Ham',\n 'Saladworks',\n \"Maggiano's Little Italy\",\n 'Frullati Cafe & Bakery',\n 'Jamba Juice',\n 'Baskin Robbins',\n \"Nature's Table\",\n 'Smoothie King']"
     },
     "metadata": {},
     "execution_count": 8
    }
   ],
   "source": [
    "\n",
    "restaurantsList = []\n",
    "\n",
    "for i in range(len(foodFile)):\n",
    "\n",
    "    if foodFile['Restaurant'].value_counts()[foodFile.loc[i,'Restaurant']] > 10:\n",
    "        if foodFile.loc[i,'Restaurant'] not in restaurantsList:\n",
    "            restaurantsList.append(foodFile.loc[i,'Restaurant'])\n",
    "\n",
    "restaurantsList"
   ]
  },
  {
   "cell_type": "code",
   "execution_count": 9,
   "metadata": {},
   "outputs": [
    {
     "output_type": "execute_result",
     "data": {
      "text/plain": "91"
     },
     "metadata": {},
     "execution_count": 9
    }
   ],
   "source": [
    "len(restaurantsList)"
   ]
  },
  {
   "cell_type": "code",
   "execution_count": 10,
   "metadata": {
    "tags": []
   },
   "outputs": [],
   "source": [
    "count = 0\n",
    "for i in restaurantsList:\n",
    "    if count > 0:\n",
    "        allMenu = allMenu.append(foodFile[foodFile['Restaurant'] == i])\n",
    "    else:\n",
    "        allMenu = foodFile[foodFile['Restaurant'] == i]\n",
    "    \n",
    "    count += 1"
   ]
  },
  {
   "cell_type": "code",
   "execution_count": 11,
   "metadata": {},
   "outputs": [
    {
     "output_type": "execute_result",
     "data": {
      "text/plain": "         Restaurant                  Food_Name  \\\n0            Subway               Cheese Pizza   \n1            Subway              Sausage Pizza   \n2            Subway             Meatball Pizza   \n3            Subway            Pepperoni Pizza   \n4            Subway                Bacon Pizza   \n...             ...                        ...   \n2572  Smoothie King  Lean1 Strawberry Smoothie   \n2573  Smoothie King  Passion Passport Smoothie   \n2574  Smoothie King       Berry Punch Smoothie   \n2575  Smoothie King      Hearty Apple Smoothie   \n2576  Smoothie King     Lean1 Vanilla Smoothie   \n\n                                              Nutrients  Calories  \n0     [{'value': 28, 'attr_id': 203}, {'value': 23, ...       720  \n1     [{'value': 35, 'attr_id': 203}, {'value': 35, ...       860  \n2     [{'value': 37, 'attr_id': 203}, {'value': 33, ...       860  \n3     [{'value': 35, 'attr_id': 203}, {'value': 33, ...       840  \n4     [{'value': 37, 'attr_id': 203}, {'value': 31, ...       840  \n...                                                 ...       ...  \n2572  [{'value': 20, 'attr_id': 203}, {'value': 6, '...       280  \n2573  [{'value': 1, 'attr_id': 203}, {'value': 0, 'a...       400  \n2574  [{'value': 0, 'attr_id': 203}, {'value': 0, 'a...       360  \n2575  [{'value': 9, 'attr_id': 203}, {'value': 1, 'a...       410  \n2576  [{'value': 22, 'attr_id': 203}, {'value': 10, ...       270  \n\n[2656 rows x 4 columns]",
      "text/html": "<div>\n<style scoped>\n    .dataframe tbody tr th:only-of-type {\n        vertical-align: middle;\n    }\n\n    .dataframe tbody tr th {\n        vertical-align: top;\n    }\n\n    .dataframe thead th {\n        text-align: right;\n    }\n</style>\n<table border=\"1\" class=\"dataframe\">\n  <thead>\n    <tr style=\"text-align: right;\">\n      <th></th>\n      <th>Restaurant</th>\n      <th>Food_Name</th>\n      <th>Nutrients</th>\n      <th>Calories</th>\n    </tr>\n  </thead>\n  <tbody>\n    <tr>\n      <th>0</th>\n      <td>Subway</td>\n      <td>Cheese Pizza</td>\n      <td>[{'value': 28, 'attr_id': 203}, {'value': 23, ...</td>\n      <td>720</td>\n    </tr>\n    <tr>\n      <th>1</th>\n      <td>Subway</td>\n      <td>Sausage Pizza</td>\n      <td>[{'value': 35, 'attr_id': 203}, {'value': 35, ...</td>\n      <td>860</td>\n    </tr>\n    <tr>\n      <th>2</th>\n      <td>Subway</td>\n      <td>Meatball Pizza</td>\n      <td>[{'value': 37, 'attr_id': 203}, {'value': 33, ...</td>\n      <td>860</td>\n    </tr>\n    <tr>\n      <th>3</th>\n      <td>Subway</td>\n      <td>Pepperoni Pizza</td>\n      <td>[{'value': 35, 'attr_id': 203}, {'value': 33, ...</td>\n      <td>840</td>\n    </tr>\n    <tr>\n      <th>4</th>\n      <td>Subway</td>\n      <td>Bacon Pizza</td>\n      <td>[{'value': 37, 'attr_id': 203}, {'value': 31, ...</td>\n      <td>840</td>\n    </tr>\n    <tr>\n      <th>...</th>\n      <td>...</td>\n      <td>...</td>\n      <td>...</td>\n      <td>...</td>\n    </tr>\n    <tr>\n      <th>2572</th>\n      <td>Smoothie King</td>\n      <td>Lean1 Strawberry Smoothie</td>\n      <td>[{'value': 20, 'attr_id': 203}, {'value': 6, '...</td>\n      <td>280</td>\n    </tr>\n    <tr>\n      <th>2573</th>\n      <td>Smoothie King</td>\n      <td>Passion Passport Smoothie</td>\n      <td>[{'value': 1, 'attr_id': 203}, {'value': 0, 'a...</td>\n      <td>400</td>\n    </tr>\n    <tr>\n      <th>2574</th>\n      <td>Smoothie King</td>\n      <td>Berry Punch Smoothie</td>\n      <td>[{'value': 0, 'attr_id': 203}, {'value': 0, 'a...</td>\n      <td>360</td>\n    </tr>\n    <tr>\n      <th>2575</th>\n      <td>Smoothie King</td>\n      <td>Hearty Apple Smoothie</td>\n      <td>[{'value': 9, 'attr_id': 203}, {'value': 1, 'a...</td>\n      <td>410</td>\n    </tr>\n    <tr>\n      <th>2576</th>\n      <td>Smoothie King</td>\n      <td>Lean1 Vanilla Smoothie</td>\n      <td>[{'value': 22, 'attr_id': 203}, {'value': 10, ...</td>\n      <td>270</td>\n    </tr>\n  </tbody>\n</table>\n<p>2656 rows × 4 columns</p>\n</div>"
     },
     "metadata": {},
     "execution_count": 11
    }
   ],
   "source": [
    "allMenu"
   ]
  },
  {
   "cell_type": "code",
   "execution_count": 12,
   "metadata": {},
   "outputs": [],
   "source": [
    "allMenu.to_csv(\"Resources/CSVs/all_menu_items.csv\", index=False, header=True)"
   ]
  },
  {
   "cell_type": "code",
   "execution_count": null,
   "metadata": {},
   "outputs": [],
   "source": []
  }
 ],
 "metadata": {
  "language_info": {
   "codemirror_mode": {
    "name": "ipython",
    "version": 3
   },
   "file_extension": ".py",
   "mimetype": "text/x-python",
   "name": "python",
   "nbconvert_exporter": "python",
   "pygments_lexer": "ipython3",
   "version": 3
  },
  "orig_nbformat": 2,
  "kernelspec": {
   "name": "python_defaultSpec_1593019908667",
   "display_name": "Python 3.7.6 64-bit ('base': conda)"
  }
 },
 "nbformat": 4,
 "nbformat_minor": 2
}