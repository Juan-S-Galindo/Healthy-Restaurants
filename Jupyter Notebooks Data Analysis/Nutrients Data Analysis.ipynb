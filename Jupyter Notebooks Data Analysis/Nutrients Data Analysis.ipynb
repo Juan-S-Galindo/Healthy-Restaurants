{
 "cells": [
  {
   "cell_type": "code",
   "execution_count": 24,
   "metadata": {},
   "outputs": [],
   "source": [
    "import pandas as pd\n",
    "\n",
    "#Make sure to run the NutrientsConverter in the Jupyter Notebook folder to be able to call the DataFrames Stored. \n",
    "\n",
    "#DataFrames with the combine info.\n",
    "%store -r maleInfo\n",
    "\n",
    "%store -r femaleInfo\n",
    "\n",
    "%store -r foodFiltered_df"
   ]
  },
  {
   "cell_type": "code",
   "execution_count": 43,
   "metadata": {},
   "outputs": [
    {
     "output_type": "execute_result",
     "data": {
      "text/plain": "    AGE  Sedentary Protein (Cal) Carbohydrate (Cal) Fiber (gr)  \\\n0    14       2000           150                350         19   \n1    15       2200           165                385         19   \n2    16       2400           180                420         19   \n3    17       2400           180                420         19   \n4    18       2400           180                420         19   \n..  ...        ...           ...                ...        ...   \n58   72       2000           150                350         19   \n59   73       2000           150                350         19   \n60   74       2000           150                350         19   \n61   75       2000           150                350         19   \n62   76       2000           150                350         19   \n\n   Total Sugar (Cal) Total lipid (Cal) Total Trans Fat (Cal)  \\\n0                 80               200                    20   \n1                 88               220                    22   \n2                 96               240                    24   \n3                 96               240                    24   \n4                 96               240                    24   \n..               ...               ...                   ...   \n58                80               200                    20   \n59                80               200                    20   \n60                80               200                    20   \n61                80               200                    20   \n62                80               200                    20   \n\n   Total Saturated Fat (Cal) Cholesterol (mg) Calcium (mg) Iron (mg)  \\\n0                         60              100        582.5        10   \n1                         66              100        582.5        10   \n2                         72              100        582.5        10   \n3                         72              100        582.5        10   \n4                         72              100        582.5        10   \n..                       ...              ...          ...       ...   \n58                        60              100        582.5        10   \n59                        60              100        582.5        10   \n60                        60              100        582.5        10   \n61                        60              100        582.5        10   \n62                        60              100        582.5        10   \n\n   Sodium, (mg) Vitamin A (mcg RAE) Vitamin C (mg)  \n0           460                 615             21  \n1           460                 615             21  \n2           460                 615             21  \n3           460                 615             21  \n4           460                 615             21  \n..          ...                 ...            ...  \n58          460                 615             21  \n59          460                 615             21  \n60          460                 615             21  \n61          460                 615             21  \n62          460                 615             21  \n\n[63 rows x 15 columns]",
      "text/html": "<div>\n<style scoped>\n    .dataframe tbody tr th:only-of-type {\n        vertical-align: middle;\n    }\n\n    .dataframe tbody tr th {\n        vertical-align: top;\n    }\n\n    .dataframe thead th {\n        text-align: right;\n    }\n</style>\n<table border=\"1\" class=\"dataframe\">\n  <thead>\n    <tr style=\"text-align: right;\">\n      <th></th>\n      <th>AGE</th>\n      <th>Sedentary</th>\n      <th>Protein (Cal)</th>\n      <th>Carbohydrate (Cal)</th>\n      <th>Fiber (gr)</th>\n      <th>Total Sugar (Cal)</th>\n      <th>Total lipid (Cal)</th>\n      <th>Total Trans Fat (Cal)</th>\n      <th>Total Saturated Fat (Cal)</th>\n      <th>Cholesterol (mg)</th>\n      <th>Calcium (mg)</th>\n      <th>Iron (mg)</th>\n      <th>Sodium, (mg)</th>\n      <th>Vitamin A (mcg RAE)</th>\n      <th>Vitamin C (mg)</th>\n    </tr>\n  </thead>\n  <tbody>\n    <tr>\n      <th>0</th>\n      <td>14</td>\n      <td>2000</td>\n      <td>150</td>\n      <td>350</td>\n      <td>19</td>\n      <td>80</td>\n      <td>200</td>\n      <td>20</td>\n      <td>60</td>\n      <td>100</td>\n      <td>582.5</td>\n      <td>10</td>\n      <td>460</td>\n      <td>615</td>\n      <td>21</td>\n    </tr>\n    <tr>\n      <th>1</th>\n      <td>15</td>\n      <td>2200</td>\n      <td>165</td>\n      <td>385</td>\n      <td>19</td>\n      <td>88</td>\n      <td>220</td>\n      <td>22</td>\n      <td>66</td>\n      <td>100</td>\n      <td>582.5</td>\n      <td>10</td>\n      <td>460</td>\n      <td>615</td>\n      <td>21</td>\n    </tr>\n    <tr>\n      <th>2</th>\n      <td>16</td>\n      <td>2400</td>\n      <td>180</td>\n      <td>420</td>\n      <td>19</td>\n      <td>96</td>\n      <td>240</td>\n      <td>24</td>\n      <td>72</td>\n      <td>100</td>\n      <td>582.5</td>\n      <td>10</td>\n      <td>460</td>\n      <td>615</td>\n      <td>21</td>\n    </tr>\n    <tr>\n      <th>3</th>\n      <td>17</td>\n      <td>2400</td>\n      <td>180</td>\n      <td>420</td>\n      <td>19</td>\n      <td>96</td>\n      <td>240</td>\n      <td>24</td>\n      <td>72</td>\n      <td>100</td>\n      <td>582.5</td>\n      <td>10</td>\n      <td>460</td>\n      <td>615</td>\n      <td>21</td>\n    </tr>\n    <tr>\n      <th>4</th>\n      <td>18</td>\n      <td>2400</td>\n      <td>180</td>\n      <td>420</td>\n      <td>19</td>\n      <td>96</td>\n      <td>240</td>\n      <td>24</td>\n      <td>72</td>\n      <td>100</td>\n      <td>582.5</td>\n      <td>10</td>\n      <td>460</td>\n      <td>615</td>\n      <td>21</td>\n    </tr>\n    <tr>\n      <th>...</th>\n      <td>...</td>\n      <td>...</td>\n      <td>...</td>\n      <td>...</td>\n      <td>...</td>\n      <td>...</td>\n      <td>...</td>\n      <td>...</td>\n      <td>...</td>\n      <td>...</td>\n      <td>...</td>\n      <td>...</td>\n      <td>...</td>\n      <td>...</td>\n      <td>...</td>\n    </tr>\n    <tr>\n      <th>58</th>\n      <td>72</td>\n      <td>2000</td>\n      <td>150</td>\n      <td>350</td>\n      <td>19</td>\n      <td>80</td>\n      <td>200</td>\n      <td>20</td>\n      <td>60</td>\n      <td>100</td>\n      <td>582.5</td>\n      <td>10</td>\n      <td>460</td>\n      <td>615</td>\n      <td>21</td>\n    </tr>\n    <tr>\n      <th>59</th>\n      <td>73</td>\n      <td>2000</td>\n      <td>150</td>\n      <td>350</td>\n      <td>19</td>\n      <td>80</td>\n      <td>200</td>\n      <td>20</td>\n      <td>60</td>\n      <td>100</td>\n      <td>582.5</td>\n      <td>10</td>\n      <td>460</td>\n      <td>615</td>\n      <td>21</td>\n    </tr>\n    <tr>\n      <th>60</th>\n      <td>74</td>\n      <td>2000</td>\n      <td>150</td>\n      <td>350</td>\n      <td>19</td>\n      <td>80</td>\n      <td>200</td>\n      <td>20</td>\n      <td>60</td>\n      <td>100</td>\n      <td>582.5</td>\n      <td>10</td>\n      <td>460</td>\n      <td>615</td>\n      <td>21</td>\n    </tr>\n    <tr>\n      <th>61</th>\n      <td>75</td>\n      <td>2000</td>\n      <td>150</td>\n      <td>350</td>\n      <td>19</td>\n      <td>80</td>\n      <td>200</td>\n      <td>20</td>\n      <td>60</td>\n      <td>100</td>\n      <td>582.5</td>\n      <td>10</td>\n      <td>460</td>\n      <td>615</td>\n      <td>21</td>\n    </tr>\n    <tr>\n      <th>62</th>\n      <td>76</td>\n      <td>2000</td>\n      <td>150</td>\n      <td>350</td>\n      <td>19</td>\n      <td>80</td>\n      <td>200</td>\n      <td>20</td>\n      <td>60</td>\n      <td>100</td>\n      <td>582.5</td>\n      <td>10</td>\n      <td>460</td>\n      <td>615</td>\n      <td>21</td>\n    </tr>\n  </tbody>\n</table>\n<p>63 rows × 15 columns</p>\n</div>"
     },
     "metadata": {},
     "execution_count": 43
    }
   ],
   "source": [
    "maleInfo[0]"
   ]
  },
  {
   "cell_type": "code",
   "execution_count": 44,
   "metadata": {},
   "outputs": [
    {
     "output_type": "execute_result",
     "data": {
      "text/plain": "   AGE  Sedentary Protein (Cal) Carbohydrate (Cal) Fiber (gr)  \\\n0   14       2000           150                350         19   \n1   15       2200           165                385         19   \n2   16       2400           180                420         19   \n3   17       2400           180                420         19   \n4   18       2400           180                420         19   \n\n  Total Sugar (Cal) Total lipid (Cal) Total Trans Fat (Cal)  \\\n0                80               200                    20   \n1                88               220                    22   \n2                96               240                    24   \n3                96               240                    24   \n4                96               240                    24   \n\n  Total Saturated Fat (Cal) Cholesterol (mg) Calcium (mg) Iron (mg)  \\\n0                        60              100        582.5        10   \n1                        66              100        582.5        10   \n2                        72              100        582.5        10   \n3                        72              100        582.5        10   \n4                        72              100        582.5        10   \n\n  Sodium, (mg) Vitamin A (mcg RAE) Vitamin C (mg)  Panera Bread  \\\n0          460                 615             21            37   \n1          460                 615             21            40   \n2          460                 615             21            40   \n3          460                 615             21            40   \n4          460                 615             21            40   \n\n   Smoothie King  Jamba Juice  McAlister's Deli  Saladworks  \n0             43           28                36          40  \n1             43           28                37          40  \n2             44           28                37          41  \n3             44           28                37          41  \n4             44           28                37          41  ",
      "text/html": "<div>\n<style scoped>\n    .dataframe tbody tr th:only-of-type {\n        vertical-align: middle;\n    }\n\n    .dataframe tbody tr th {\n        vertical-align: top;\n    }\n\n    .dataframe thead th {\n        text-align: right;\n    }\n</style>\n<table border=\"1\" class=\"dataframe\">\n  <thead>\n    <tr style=\"text-align: right;\">\n      <th></th>\n      <th>AGE</th>\n      <th>Sedentary</th>\n      <th>Protein (Cal)</th>\n      <th>Carbohydrate (Cal)</th>\n      <th>Fiber (gr)</th>\n      <th>Total Sugar (Cal)</th>\n      <th>Total lipid (Cal)</th>\n      <th>Total Trans Fat (Cal)</th>\n      <th>Total Saturated Fat (Cal)</th>\n      <th>Cholesterol (mg)</th>\n      <th>Calcium (mg)</th>\n      <th>Iron (mg)</th>\n      <th>Sodium, (mg)</th>\n      <th>Vitamin A (mcg RAE)</th>\n      <th>Vitamin C (mg)</th>\n      <th>Panera Bread</th>\n      <th>Smoothie King</th>\n      <th>Jamba Juice</th>\n      <th>McAlister's Deli</th>\n      <th>Saladworks</th>\n    </tr>\n  </thead>\n  <tbody>\n    <tr>\n      <th>0</th>\n      <td>14</td>\n      <td>2000</td>\n      <td>150</td>\n      <td>350</td>\n      <td>19</td>\n      <td>80</td>\n      <td>200</td>\n      <td>20</td>\n      <td>60</td>\n      <td>100</td>\n      <td>582.5</td>\n      <td>10</td>\n      <td>460</td>\n      <td>615</td>\n      <td>21</td>\n      <td>37</td>\n      <td>43</td>\n      <td>28</td>\n      <td>36</td>\n      <td>40</td>\n    </tr>\n    <tr>\n      <th>1</th>\n      <td>15</td>\n      <td>2200</td>\n      <td>165</td>\n      <td>385</td>\n      <td>19</td>\n      <td>88</td>\n      <td>220</td>\n      <td>22</td>\n      <td>66</td>\n      <td>100</td>\n      <td>582.5</td>\n      <td>10</td>\n      <td>460</td>\n      <td>615</td>\n      <td>21</td>\n      <td>40</td>\n      <td>43</td>\n      <td>28</td>\n      <td>37</td>\n      <td>40</td>\n    </tr>\n    <tr>\n      <th>2</th>\n      <td>16</td>\n      <td>2400</td>\n      <td>180</td>\n      <td>420</td>\n      <td>19</td>\n      <td>96</td>\n      <td>240</td>\n      <td>24</td>\n      <td>72</td>\n      <td>100</td>\n      <td>582.5</td>\n      <td>10</td>\n      <td>460</td>\n      <td>615</td>\n      <td>21</td>\n      <td>40</td>\n      <td>44</td>\n      <td>28</td>\n      <td>37</td>\n      <td>41</td>\n    </tr>\n    <tr>\n      <th>3</th>\n      <td>17</td>\n      <td>2400</td>\n      <td>180</td>\n      <td>420</td>\n      <td>19</td>\n      <td>96</td>\n      <td>240</td>\n      <td>24</td>\n      <td>72</td>\n      <td>100</td>\n      <td>582.5</td>\n      <td>10</td>\n      <td>460</td>\n      <td>615</td>\n      <td>21</td>\n      <td>40</td>\n      <td>44</td>\n      <td>28</td>\n      <td>37</td>\n      <td>41</td>\n    </tr>\n    <tr>\n      <th>4</th>\n      <td>18</td>\n      <td>2400</td>\n      <td>180</td>\n      <td>420</td>\n      <td>19</td>\n      <td>96</td>\n      <td>240</td>\n      <td>24</td>\n      <td>72</td>\n      <td>100</td>\n      <td>582.5</td>\n      <td>10</td>\n      <td>460</td>\n      <td>615</td>\n      <td>21</td>\n      <td>40</td>\n      <td>44</td>\n      <td>28</td>\n      <td>37</td>\n      <td>41</td>\n    </tr>\n  </tbody>\n</table>\n</div>"
     },
     "metadata": {},
     "execution_count": 44
    }
   ],
   "source": [
    "#Males --------\n",
    "\n",
    "#Gives points to each of the restaurants based on parameters for each of the age groups and lifestyles\n",
    "\n",
    "#Creates a list to store DataFrames\n",
    "maleMerged_df = []\n",
    "\n",
    "for i in range(len(maleInfo)): #for 1 to 3\n",
    "\n",
    "    #Empty list to store dictionaries for each row iteration.\n",
    "    dictStore_list = [] \n",
    "\n",
    "    for index, row in maleInfo[i].iterrows(): #For each index and row in dataframe maleinfo[i]\n",
    "        \n",
    "        #Creates empy dictionary for each iteration. \n",
    "        restaurantTally_dict = {} \n",
    "\n",
    "        for food in range(len(foodFiltered_df)): #for each row in maleinfo[i] iterates through the restaurant data set and gives points to each restaurant based on the parameters.\n",
    "            \n",
    "            if foodFiltered_df.loc[food,'Restaurant'] not in restaurantTally_dict.keys():\n",
    "                restaurantTally_dict[foodFiltered_df.loc[food,'Restaurant']] = 0\n",
    "                \n",
    "            if ((row['Protein (Cal)'] - 0.045) <= foodFiltered_df.loc[food,'Protein (Cal)']) & ((row['Protein (Cal)'] + 0.045) >= foodFiltered_df.loc[food,'Protein (Cal)']) :\n",
    "                restaurantTally_dict[foodFiltered_df.loc[food,'Restaurant']] += 1\n",
    "\n",
    "            if ((row['Carbohydrate (Cal)'] - 0.075) <= foodFiltered_df.loc[food,'Carbohydrate (Cal)']) & ((row['Carbohydrate (Cal)'] + 0.075) >= foodFiltered_df.loc[food,'Carbohydrate (Cal)']):\n",
    "                restaurantTally_dict[foodFiltered_df.loc[food,'Restaurant']] += 1\n",
    "\n",
    "            if ((row['Fiber (gr)'] - 11) <= foodFiltered_df.loc[food,'Fiber (gr)']) & ((row['Fiber (gr)'] + 11) > foodFiltered_df.loc[food,'Fiber (gr)']):\n",
    "                restaurantTally_dict[foodFiltered_df.loc[food,'Restaurant']] += 1\n",
    "\n",
    "            if (foodFiltered_df.loc[food,'Total Sugar (Cal)'] <= row['Total Sugar (Cal)']):\n",
    "                restaurantTally_dict[foodFiltered_df.loc[food,'Restaurant']] += 1\n",
    "\n",
    "            if ((row['Total lipid (Cal)'] - 2) <= foodFiltered_df.loc[food,'Total Fat (Cal)']) & ((row['Total lipid (Cal)'] + 2) >= foodFiltered_df.loc[food,'Total Fat (Cal)']):\n",
    "                restaurantTally_dict[foodFiltered_df.loc[food,'Restaurant']] += 1\n",
    "\n",
    "            if (foodFiltered_df.loc[food,'Total Trans Fat (Cal)'] < row['Total Trans Fat (Cal)']):\n",
    "                restaurantTally_dict[foodFiltered_df.loc[food,'Restaurant']] += 1\n",
    "\n",
    "            if (foodFiltered_df.loc[food,'Total Saturated Fat (Cal)'] <= row['Total Saturated Fat (Cal)']):\n",
    "                restaurantTally_dict[foodFiltered_df.loc[food,'Restaurant']] += 1\n",
    "\n",
    "            if (foodFiltered_df.loc[food,'Cholesterol (mg)'] < row['Cholesterol (mg)']):\n",
    "                restaurantTally_dict[foodFiltered_df.loc[food,'Restaurant']] += 1\n",
    "\n",
    "            if ((row['Calcium (mg)'] - 252.5)  <= foodFiltered_df.loc[food,'Calcium (mg)']) & ((row['Calcium (mg)'] + 252.5)  > foodFiltered_df.loc[food,'Calcium (mg)']):\n",
    "                restaurantTally_dict[foodFiltered_df.loc[food,'Restaurant']] += 1\n",
    "\n",
    "            if ((row['Iron (mg)'] - 5) <= foodFiltered_df.loc[food,'Iron (mg)']) & ((row['Iron (mg)'] + 5) > foodFiltered_df.loc[food,'Iron (mg)']):\n",
    "                restaurantTally_dict[foodFiltered_df.loc[food,'Restaurant']] += 1\n",
    "\n",
    "            if ((row['Sodium, (mg)'] - 310) <= foodFiltered_df.loc[food,'Sodium (mg)']) & ((row['Sodium, (mg)'] + 310) > foodFiltered_df.loc[food,'Sodium (mg)']):\n",
    "                restaurantTally_dict[foodFiltered_df.loc[food,'Restaurant']] += 1\n",
    "\n",
    "            if ((row['Vitamin A (mcg RAE)'] - 615) <= foodFiltered_df.loc[food,'Vitamin A (mcg RAE)']) & ((row['Vitamin A (mcg RAE)'] + 615) > foodFiltered_df.loc[food,'Vitamin A (mcg RAE)']):\n",
    "                restaurantTally_dict[foodFiltered_df.loc[food,'Restaurant']] += 1\n",
    "\n",
    "            if (foodFiltered_df.loc[food,'Vitamin C (mg)'] <= row['Vitamin C (mg)']):\n",
    "                restaurantTally_dict[foodFiltered_df.loc[food,'Restaurant']] += 1 \n",
    "            \n",
    "            #if (foodFiltered_df.loc[food,'Calories'] <= ((row['Sedentary'])/3)):\n",
    "                #restaurantTally_dict[foodFiltered_df.loc[food,'Restaurant']] += 1\n",
    "\n",
    "        #When code is done iterating the data set, append the dictionary to empty list. \n",
    "        dictStore_list.append(restaurantTally_dict)\n",
    "    \n",
    "    #When code is done iterating trough the maleinfo[i] dataframe, mergues the maleinfo[i] dataframe and create a dataframe from the dictionary list and append both DataFrames using the index of both DataFrames.\n",
    "    maleMerged_df.append(pd.merge(maleInfo[i], pd.DataFrame(dictStore_list), left_index = True, right_index = True))\n",
    "\n",
    "maleMerged_df[0].head()\n",
    "    "
   ]
  },
  {
   "cell_type": "code",
   "execution_count": 45,
   "metadata": {},
   "outputs": [
    {
     "output_type": "execute_result",
     "data": {
      "text/plain": "   AGE  Sedentary Protein (Cal) Carbohydrate (Cal) Fiber (gr)  \\\n0    2       1000            75                175         19   \n1    3       1000            75                175         19   \n2    4       1200            90                210         19   \n3    5       1200            90                210         19   \n4    6       1200            90                210         19   \n\n  Total Sugar (Cal) Total lipid (Cal) Total Trans Fat (Cal)  \\\n0                40               100                    10   \n1                40               100                    10   \n2                48               120                    12   \n3                48               120                    12   \n4                48               120                    12   \n\n  Total Saturated Fat (Cal) Cholesterol (mg) Calcium (mg) Iron (mg)  \\\n0                        30              100        582.5        10   \n1                        30              100        582.5        10   \n2                        36              100        582.5        10   \n3                        36              100        582.5        10   \n4                        36              100        582.5        10   \n\n  Sodium, (mg) Vitamin A (mcg RAE) Vitamin C (mg)  Panera Bread  \\\n0          460                 615             21            34   \n1          460                 615             21            34   \n2          460                 615             21            35   \n3          460                 615             21            35   \n4          460                 615             21            35   \n\n   Smoothie King  Jamba Juice  McAlister's Deli  Saladworks  \n0             42           28                32          39  \n1             42           28                32          39  \n2             41           28                33          40  \n3             41           28                33          40  \n4             41           28                33          40  ",
      "text/html": "<div>\n<style scoped>\n    .dataframe tbody tr th:only-of-type {\n        vertical-align: middle;\n    }\n\n    .dataframe tbody tr th {\n        vertical-align: top;\n    }\n\n    .dataframe thead th {\n        text-align: right;\n    }\n</style>\n<table border=\"1\" class=\"dataframe\">\n  <thead>\n    <tr style=\"text-align: right;\">\n      <th></th>\n      <th>AGE</th>\n      <th>Sedentary</th>\n      <th>Protein (Cal)</th>\n      <th>Carbohydrate (Cal)</th>\n      <th>Fiber (gr)</th>\n      <th>Total Sugar (Cal)</th>\n      <th>Total lipid (Cal)</th>\n      <th>Total Trans Fat (Cal)</th>\n      <th>Total Saturated Fat (Cal)</th>\n      <th>Cholesterol (mg)</th>\n      <th>Calcium (mg)</th>\n      <th>Iron (mg)</th>\n      <th>Sodium, (mg)</th>\n      <th>Vitamin A (mcg RAE)</th>\n      <th>Vitamin C (mg)</th>\n      <th>Panera Bread</th>\n      <th>Smoothie King</th>\n      <th>Jamba Juice</th>\n      <th>McAlister's Deli</th>\n      <th>Saladworks</th>\n    </tr>\n  </thead>\n  <tbody>\n    <tr>\n      <th>0</th>\n      <td>2</td>\n      <td>1000</td>\n      <td>75</td>\n      <td>175</td>\n      <td>19</td>\n      <td>40</td>\n      <td>100</td>\n      <td>10</td>\n      <td>30</td>\n      <td>100</td>\n      <td>582.5</td>\n      <td>10</td>\n      <td>460</td>\n      <td>615</td>\n      <td>21</td>\n      <td>34</td>\n      <td>42</td>\n      <td>28</td>\n      <td>32</td>\n      <td>39</td>\n    </tr>\n    <tr>\n      <th>1</th>\n      <td>3</td>\n      <td>1000</td>\n      <td>75</td>\n      <td>175</td>\n      <td>19</td>\n      <td>40</td>\n      <td>100</td>\n      <td>10</td>\n      <td>30</td>\n      <td>100</td>\n      <td>582.5</td>\n      <td>10</td>\n      <td>460</td>\n      <td>615</td>\n      <td>21</td>\n      <td>34</td>\n      <td>42</td>\n      <td>28</td>\n      <td>32</td>\n      <td>39</td>\n    </tr>\n    <tr>\n      <th>2</th>\n      <td>4</td>\n      <td>1200</td>\n      <td>90</td>\n      <td>210</td>\n      <td>19</td>\n      <td>48</td>\n      <td>120</td>\n      <td>12</td>\n      <td>36</td>\n      <td>100</td>\n      <td>582.5</td>\n      <td>10</td>\n      <td>460</td>\n      <td>615</td>\n      <td>21</td>\n      <td>35</td>\n      <td>41</td>\n      <td>28</td>\n      <td>33</td>\n      <td>40</td>\n    </tr>\n    <tr>\n      <th>3</th>\n      <td>5</td>\n      <td>1200</td>\n      <td>90</td>\n      <td>210</td>\n      <td>19</td>\n      <td>48</td>\n      <td>120</td>\n      <td>12</td>\n      <td>36</td>\n      <td>100</td>\n      <td>582.5</td>\n      <td>10</td>\n      <td>460</td>\n      <td>615</td>\n      <td>21</td>\n      <td>35</td>\n      <td>41</td>\n      <td>28</td>\n      <td>33</td>\n      <td>40</td>\n    </tr>\n    <tr>\n      <th>4</th>\n      <td>6</td>\n      <td>1200</td>\n      <td>90</td>\n      <td>210</td>\n      <td>19</td>\n      <td>48</td>\n      <td>120</td>\n      <td>12</td>\n      <td>36</td>\n      <td>100</td>\n      <td>582.5</td>\n      <td>10</td>\n      <td>460</td>\n      <td>615</td>\n      <td>21</td>\n      <td>35</td>\n      <td>41</td>\n      <td>28</td>\n      <td>33</td>\n      <td>40</td>\n    </tr>\n  </tbody>\n</table>\n</div>"
     },
     "metadata": {},
     "execution_count": 45
    }
   ],
   "source": [
    "#Females --------\n",
    "\n",
    "#Gives points to each of the restaurants based on parameters for each of the age groups and lifestyles\n",
    "\n",
    "#Creates a list to store DataFrames\n",
    "femaleMerged_df = []\n",
    "\n",
    "for i in range(len(femaleInfo)): #for 1 to 3\n",
    "\n",
    "    #Empty list to store dictionaries for each row iteration.\n",
    "    dictStore_list = [] \n",
    "\n",
    "    for index, row in femaleInfo[i].iterrows(): #For each index and row in dataframe maleinfo[i]\n",
    "        \n",
    "        #Creates empy dictionary for each iteration. \n",
    "        restaurantTally_dict = {} \n",
    "\n",
    "        for food in range(len(foodFiltered_df)): #for each row in maleinfo[i] iterates through the restaurant data set and gives points to each restaurant based on the parameters.\n",
    "            \n",
    "            if foodFiltered_df.loc[food,'Restaurant'] not in restaurantTally_dict.keys():\n",
    "                restaurantTally_dict[foodFiltered_df.loc[food,'Restaurant']] = 0\n",
    "                \n",
    "            if ((row['Protein (Cal)'] - 0.045) <= foodFiltered_df.loc[food,'Protein (Cal)']) & ((row['Protein (Cal)'] + 0.045) >= foodFiltered_df.loc[food,'Protein (Cal)']) :\n",
    "                restaurantTally_dict[foodFiltered_df.loc[food,'Restaurant']] += 1\n",
    "\n",
    "            if ((row['Carbohydrate (Cal)'] - 0.075) <= foodFiltered_df.loc[food,'Carbohydrate (Cal)']) & ((row['Carbohydrate (Cal)'] + 0.075) >= foodFiltered_df.loc[food,'Carbohydrate (Cal)']):\n",
    "                restaurantTally_dict[foodFiltered_df.loc[food,'Restaurant']] += 1\n",
    "\n",
    "            if ((row['Fiber (gr)'] - 11) <= foodFiltered_df.loc[food,'Fiber (gr)']) & ((row['Fiber (gr)'] + 11) > foodFiltered_df.loc[food,'Fiber (gr)']):\n",
    "                restaurantTally_dict[foodFiltered_df.loc[food,'Restaurant']] += 1\n",
    "\n",
    "            if (foodFiltered_df.loc[food,'Total Sugar (Cal)'] <= row['Total Sugar (Cal)']):\n",
    "                restaurantTally_dict[foodFiltered_df.loc[food,'Restaurant']] += 1\n",
    "\n",
    "            if ((row['Total lipid (Cal)'] - 2) <= foodFiltered_df.loc[food,'Total Fat (Cal)']) & ((row['Total lipid (Cal)'] + 2) >= foodFiltered_df.loc[food,'Total Fat (Cal)']):\n",
    "                restaurantTally_dict[foodFiltered_df.loc[food,'Restaurant']] += 1\n",
    "\n",
    "            if (foodFiltered_df.loc[food,'Total Trans Fat (Cal)'] < row['Total Trans Fat (Cal)']):\n",
    "                restaurantTally_dict[foodFiltered_df.loc[food,'Restaurant']] += 1\n",
    "\n",
    "            if (foodFiltered_df.loc[food,'Total Saturated Fat (Cal)'] <= row['Total Saturated Fat (Cal)']):\n",
    "                restaurantTally_dict[foodFiltered_df.loc[food,'Restaurant']] += 1\n",
    "\n",
    "            if (foodFiltered_df.loc[food,'Cholesterol (mg)'] < row['Cholesterol (mg)']):\n",
    "                restaurantTally_dict[foodFiltered_df.loc[food,'Restaurant']] += 1\n",
    "\n",
    "            if ((row['Calcium (mg)'] - 252.5)  <= foodFiltered_df.loc[food,'Calcium (mg)']) & ((row['Calcium (mg)'] + 252.5)  > foodFiltered_df.loc[food,'Calcium (mg)']):\n",
    "                restaurantTally_dict[foodFiltered_df.loc[food,'Restaurant']] += 1\n",
    "\n",
    "            if ((row['Iron (mg)'] - 5) <= foodFiltered_df.loc[food,'Iron (mg)']) & ((row['Iron (mg)'] + 5) > foodFiltered_df.loc[food,'Iron (mg)']):\n",
    "                restaurantTally_dict[foodFiltered_df.loc[food,'Restaurant']] += 1\n",
    "\n",
    "            if ((row['Sodium, (mg)'] - 310) <= foodFiltered_df.loc[food,'Sodium (mg)']) & ((row['Sodium, (mg)'] + 310) > foodFiltered_df.loc[food,'Sodium (mg)']):\n",
    "                restaurantTally_dict[foodFiltered_df.loc[food,'Restaurant']] += 1\n",
    "\n",
    "            if ((row['Vitamin A (mcg RAE)'] - 615) <= foodFiltered_df.loc[food,'Vitamin A (mcg RAE)']) & ((row['Vitamin A (mcg RAE)'] + 615) > foodFiltered_df.loc[food,'Vitamin A (mcg RAE)']):\n",
    "                restaurantTally_dict[foodFiltered_df.loc[food,'Restaurant']] += 1\n",
    "\n",
    "            if (foodFiltered_df.loc[food,'Vitamin C (mg)'] <= row['Vitamin C (mg)']):\n",
    "                restaurantTally_dict[foodFiltered_df.loc[food,'Restaurant']] += 1  \n",
    "\n",
    "        #When code is done iterating the data set, append the dictionary to empty list. \n",
    "        dictStore_list.append(restaurantTally_dict)\n",
    "    \n",
    "    #When code is done iterating trough the maleinfo[i] dataframe, mergues the maleinfo[i] dataframe and create a dataframe from the dictionary list and append both DataFrames using the index of both DataFrames.\n",
    "    femaleMerged_df.append(pd.merge(femaleInfo[i], pd.DataFrame(dictStore_list), left_index = True, right_index = True))\n",
    "\n",
    "femaleMerged_df[0].head()"
   ]
  },
  {
   "cell_type": "code",
   "execution_count": 48,
   "metadata": {},
   "outputs": [],
   "source": [
    "test =femaleMerged_df[0]"
   ]
  },
  {
   "cell_type": "code",
   "execution_count": null,
   "metadata": {},
   "outputs": [],
   "source": []
  }
 ],
 "metadata": {
  "kernelspec": {
   "display_name": "Python 3",
   "language": "python",
   "name": "python3"
  },
  "language_info": {
   "codemirror_mode": {
    "name": "ipython",
    "version": 3
   },
   "file_extension": ".py",
   "mimetype": "text/x-python",
   "name": "python",
   "nbconvert_exporter": "python",
   "pygments_lexer": "ipython3",
   "version": "3.7.6-final"
  }
 },
 "nbformat": 4,
 "nbformat_minor": 4
}