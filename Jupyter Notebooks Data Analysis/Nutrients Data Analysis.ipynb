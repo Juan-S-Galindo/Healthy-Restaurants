{
 "cells": [
  {
   "cell_type": "code",
   "execution_count": 7,
   "metadata": {},
   "outputs": [],
   "source": [
    "import pandas as pd\n",
    "\n",
    "#Make sure to run the NutrientsConverter in the Jupyter Notebook folder to be able to call the DataFrames Stored. \n",
    "#DataFrames with the combine info.\n",
    "\n",
    "%store -r maleInfo\n",
    "\n",
    "%store -r femaleInfo\n",
    "\n",
    "%store -r foodFiltered_df"
   ]
  },
  {
   "cell_type": "code",
   "execution_count": 8,
   "metadata": {},
   "outputs": [
    {
     "output_type": "execute_result",
     "data": {
      "text/plain": "   AGE  Sedentary Protein (Cal) Carbohydrate (Cal) Fiber (gr)  \\\n0   14       2000           150                350         19   \n1   15       2200           165                385         19   \n2   16       2400           180                420         19   \n3   17       2400           180                420         19   \n4   18       2400           180                420         19   \n\n  Total Sugar (Cal) Total lipid (Cal) Total Trans Fat (Cal)  \\\n0                80               200                    20   \n1                88               220                    22   \n2                96               240                    24   \n3                96               240                    24   \n4                96               240                    24   \n\n  Total Saturated Fat (Cal) Cholesterol (mg)  ... Salata  \\\n0                        60              100  ...    0.3   \n1                        66              100  ...    0.3   \n2                        72              100  ...    0.3   \n3                        72              100  ...    0.3   \n4                        72              100  ...    0.3   \n\n  La Salsa Fresh Mexican Grill HoneyBaked Ham Saladworks  \\\n0                       0.0625       0.166667       0.65   \n1                       0.0625       0.166667       0.65   \n2                       0.0625       0.166667       0.70   \n3                       0.0625       0.166667       0.70   \n4                       0.0625       0.166667       0.70   \n\n  Maggiano's Little Italy Frullati Cafe & Bakery  Jamba Juice  Baskin Robbins  \\\n0                       0               0.051724     0.130435        0.083333   \n1                       0               0.068966     0.130435        0.083333   \n2                       0               0.068966     0.130435        0.083333   \n3                       0               0.068966     0.130435        0.083333   \n4                       0               0.068966     0.130435        0.083333   \n\n   Nature's Table  Smoothie King  \n0        0.076923           0.10  \n1        0.076923           0.10  \n2        0.076923           0.15  \n3        0.076923           0.15  \n4        0.076923           0.15  \n\n[5 rows x 108 columns]",
      "text/html": "<div>\n<style scoped>\n    .dataframe tbody tr th:only-of-type {\n        vertical-align: middle;\n    }\n\n    .dataframe tbody tr th {\n        vertical-align: top;\n    }\n\n    .dataframe thead th {\n        text-align: right;\n    }\n</style>\n<table border=\"1\" class=\"dataframe\">\n  <thead>\n    <tr style=\"text-align: right;\">\n      <th></th>\n      <th>AGE</th>\n      <th>Sedentary</th>\n      <th>Protein (Cal)</th>\n      <th>Carbohydrate (Cal)</th>\n      <th>Fiber (gr)</th>\n      <th>Total Sugar (Cal)</th>\n      <th>Total lipid (Cal)</th>\n      <th>Total Trans Fat (Cal)</th>\n      <th>Total Saturated Fat (Cal)</th>\n      <th>Cholesterol (mg)</th>\n      <th>...</th>\n      <th>Salata</th>\n      <th>La Salsa Fresh Mexican Grill</th>\n      <th>HoneyBaked Ham</th>\n      <th>Saladworks</th>\n      <th>Maggiano's Little Italy</th>\n      <th>Frullati Cafe &amp; Bakery</th>\n      <th>Jamba Juice</th>\n      <th>Baskin Robbins</th>\n      <th>Nature's Table</th>\n      <th>Smoothie King</th>\n    </tr>\n  </thead>\n  <tbody>\n    <tr>\n      <th>0</th>\n      <td>14</td>\n      <td>2000</td>\n      <td>150</td>\n      <td>350</td>\n      <td>19</td>\n      <td>80</td>\n      <td>200</td>\n      <td>20</td>\n      <td>60</td>\n      <td>100</td>\n      <td>...</td>\n      <td>0.3</td>\n      <td>0.0625</td>\n      <td>0.166667</td>\n      <td>0.65</td>\n      <td>0</td>\n      <td>0.051724</td>\n      <td>0.130435</td>\n      <td>0.083333</td>\n      <td>0.076923</td>\n      <td>0.10</td>\n    </tr>\n    <tr>\n      <th>1</th>\n      <td>15</td>\n      <td>2200</td>\n      <td>165</td>\n      <td>385</td>\n      <td>19</td>\n      <td>88</td>\n      <td>220</td>\n      <td>22</td>\n      <td>66</td>\n      <td>100</td>\n      <td>...</td>\n      <td>0.3</td>\n      <td>0.0625</td>\n      <td>0.166667</td>\n      <td>0.65</td>\n      <td>0</td>\n      <td>0.068966</td>\n      <td>0.130435</td>\n      <td>0.083333</td>\n      <td>0.076923</td>\n      <td>0.10</td>\n    </tr>\n    <tr>\n      <th>2</th>\n      <td>16</td>\n      <td>2400</td>\n      <td>180</td>\n      <td>420</td>\n      <td>19</td>\n      <td>96</td>\n      <td>240</td>\n      <td>24</td>\n      <td>72</td>\n      <td>100</td>\n      <td>...</td>\n      <td>0.3</td>\n      <td>0.0625</td>\n      <td>0.166667</td>\n      <td>0.70</td>\n      <td>0</td>\n      <td>0.068966</td>\n      <td>0.130435</td>\n      <td>0.083333</td>\n      <td>0.076923</td>\n      <td>0.15</td>\n    </tr>\n    <tr>\n      <th>3</th>\n      <td>17</td>\n      <td>2400</td>\n      <td>180</td>\n      <td>420</td>\n      <td>19</td>\n      <td>96</td>\n      <td>240</td>\n      <td>24</td>\n      <td>72</td>\n      <td>100</td>\n      <td>...</td>\n      <td>0.3</td>\n      <td>0.0625</td>\n      <td>0.166667</td>\n      <td>0.70</td>\n      <td>0</td>\n      <td>0.068966</td>\n      <td>0.130435</td>\n      <td>0.083333</td>\n      <td>0.076923</td>\n      <td>0.15</td>\n    </tr>\n    <tr>\n      <th>4</th>\n      <td>18</td>\n      <td>2400</td>\n      <td>180</td>\n      <td>420</td>\n      <td>19</td>\n      <td>96</td>\n      <td>240</td>\n      <td>24</td>\n      <td>72</td>\n      <td>100</td>\n      <td>...</td>\n      <td>0.3</td>\n      <td>0.0625</td>\n      <td>0.166667</td>\n      <td>0.70</td>\n      <td>0</td>\n      <td>0.068966</td>\n      <td>0.130435</td>\n      <td>0.083333</td>\n      <td>0.076923</td>\n      <td>0.15</td>\n    </tr>\n  </tbody>\n</table>\n<p>5 rows × 108 columns</p>\n</div>"
     },
     "metadata": {},
     "execution_count": 8
    }
   ],
   "source": [
    "#Males --------\n",
    "\n",
    "#Gives points to each of the restaurants based on parameters for each of the age groups and lifestyles\n",
    "\n",
    "#Creates a list to store DataFrames\n",
    "maleMerged_df = []\n",
    "\n",
    "for i in range(len(maleInfo)): #for 1 to 3\n",
    "\n",
    "    #Empty list to store dictionaries for each row iteration.\n",
    "    dictStore_list = [] \n",
    "\n",
    "    for index, row in maleInfo[i].iterrows(): #For each index and row in dataframe maleinfo[i]\n",
    "        \n",
    "        #Creates empy dictionary for each iteration. \n",
    "        restaurantTally_dict = {} \n",
    "\n",
    "        for food in range(len(foodFiltered_df)): #for each row in maleinfo[i] iterates through the restaurant data set and gives points to each restaurant based on the parameters.\n",
    "\n",
    "             #if we have less than 10 items in the menu, skip iteration.\n",
    "            if foodFiltered_df['Restaurant'].value_counts()[foodFiltered_df.loc[food,'Restaurant']] < 10:\n",
    "                continue\n",
    "            \n",
    "            if foodFiltered_df.loc[food,'Restaurant'] not in restaurantTally_dict.keys():\n",
    "                restaurantTally_dict[foodFiltered_df.loc[food,'Restaurant']] = 0 \n",
    "            \n",
    "            goodNutritionCounter = 0\n",
    "                \n",
    "            #If food calores is lower than the per meal calculatued total, then analyze.\n",
    "            if (foodFiltered_df.loc[food,'Calories'] <= row['Calories per Meal']):\n",
    "                goodNutritionCounter += 1\n",
    "        \n",
    "            if  ((row['Protein (Cal)'] + 0.045) >= foodFiltered_df.loc[food,'Protein (Cal)']) : #((row['Protein (Cal)'] - 0.045) <= foodFiltered_df.loc[food,'Protein (Cal)']) &\n",
    "                goodNutritionCounter += 1  \n",
    "\n",
    "            if  ((row['Carbohydrate (Cal)'] + 0.075) >= foodFiltered_df.loc[food,'Carbohydrate (Cal)']): #((row['Carbohydrate (Cal)'] - 0.075) <= foodFiltered_df.loc[food,'Carbohydrate (Cal)']) &\n",
    "                goodNutritionCounter += 1  \n",
    "                \n",
    "            if ((row['Fiber (gr)'] + 11) > foodFiltered_df.loc[food,'Fiber (gr)']): #((row['Fiber (gr)'] - 11) <= foodFiltered_df.loc[food,'Fiber (gr)']) & \n",
    "                goodNutritionCounter += 1\n",
    "            \n",
    "\n",
    "            if (foodFiltered_df.loc[food,'Total Sugar (Cal)'] <= row['Total Sugar (Cal)']):\n",
    "                goodNutritionCounter += 1\n",
    "\n",
    "            if  ((row['Total lipid (Cal)'] + 2) >= foodFiltered_df.loc[food,'Total Fat (Cal)']): #((row['Total lipid (Cal)'] - 2) <= foodFiltered_df.loc[food,'Total Fat (Cal)']) &\n",
    "                goodNutritionCounter += 1\n",
    "\n",
    "            if (foodFiltered_df.loc[food,'Total Trans Fat (Cal)'] < row['Total Trans Fat (Cal)']):\n",
    "                goodNutritionCounter += 1\n",
    "\n",
    "            if (foodFiltered_df.loc[food,'Total Saturated Fat (Cal)'] <= row['Total Saturated Fat (Cal)']):\n",
    "                goodNutritionCounter += 1\n",
    "\n",
    "            if (foodFiltered_df.loc[food,'Cholesterol (mg)'] < row['Cholesterol (mg)']):\n",
    "                goodNutritionCounter += 1\n",
    "\n",
    "            if ((row['Calcium (mg)'] + 252.5)  > foodFiltered_df.loc[food,'Calcium (mg)']): #((row['Calcium (mg)'] - 252.5)  <= foodFiltered_df.loc[food,'Calcium (mg)']) & \n",
    "                goodNutritionCounter += 1\n",
    "\n",
    "            if  ((row['Iron (mg)'] + 5) > foodFiltered_df.loc[food,'Iron (mg)']): #((row['Iron (mg)'] - 5) <= foodFiltered_df.loc[food,'Iron (mg)']) &\n",
    "                goodNutritionCounter += 1\n",
    "\n",
    "            if  ((row['Sodium, (mg)'] + 310) > foodFiltered_df.loc[food,'Sodium (mg)']): #((row['Sodium, (mg)'] - 310) <= foodFiltered_df.loc[food,'Sodium (mg)']) &\n",
    "                goodNutritionCounter += 1\n",
    "             \n",
    "            if ((row['Vitamin A (mcg RAE)'] + 615) > foodFiltered_df.loc[food,'Vitamin A (mcg RAE)']): #((row['Vitamin A (mcg RAE)'] - 615) <= foodFiltered_df.loc[food,'Vitamin A (mcg RAE)']) &\n",
    "                goodNutritionCounter += 1\n",
    "\n",
    "            if (foodFiltered_df.loc[food,'Vitamin C (mg)'] <= row['Vitamin C (mg)']):\n",
    "                goodNutritionCounter += 1\n",
    "            \n",
    "            if  (goodNutritionCounter == 14): \n",
    "\n",
    "                #Only count if the restaruant meets the min conditions or at least 9 combined conditions.\n",
    "                restaurantTally_dict[foodFiltered_df.loc[food,'Restaurant']] += (1 / foodFiltered_df['Restaurant'].value_counts()[foodFiltered_df.loc[food,'Restaurant']])\n",
    "                \n",
    "\n",
    "        #When code is done iterating the data set, append the dictionary to empty list. \n",
    "        dictStore_list.append(restaurantTally_dict)\n",
    "    \n",
    "    #When code is done iterating trough the maleinfo[i] dataframe, mergues the maleinfo[i] dataframe and create a dataframe from the dictionary list and append both DataFrames using the index of both DataFrames.\n",
    "    maleMerged_df.append(pd.merge(maleInfo[i], pd.DataFrame(dictStore_list), left_index = True, right_index = True))\n",
    "\n",
    "maleMerged_df[0].head()\n"
   ]
  },
  {
   "cell_type": "code",
   "execution_count": 38,
   "metadata": {},
   "outputs": [],
   "source": [
    "#drops empty columns for each dataFrame \n",
    "for i in range(len(maleMerged_df)):\n",
    "\n",
    "    #sorts columns based on average\n",
    "    columnOrder = (maleMerged_df[i].iloc[0,:16].index).to_list() + (maleMerged_df[i].iloc[:,16:].mean().sort_values(ascending = False).index).to_list()\n",
    "    #Re orders columns\n",
    "    maleMerged_df[i] = maleMerged_df[i][columnOrder]\n",
    "    #printsCSV\n",
    "    maleMerged_df[i].loc[:,(maleMerged_df[i]!= 0).any(axis=0)].to_csv(f'male{i}.csv')"
   ]
  },
  {
   "cell_type": "code",
   "execution_count": 39,
   "metadata": {},
   "outputs": [
    {
     "output_type": "execute_result",
     "data": {
      "text/plain": "   AGE  Sedentary Protein (Cal) Carbohydrate (Cal) Fiber (gr)  \\\n0   14       2000           150                350         19   \n1   15       2200           165                385         19   \n2   16       2400           180                420         19   \n3   17       2400           180                420         19   \n4   18       2400           180                420         19   \n\n  Total Sugar (Cal) Total lipid (Cal) Total Trans Fat (Cal)  \\\n0                80               200                    20   \n1                88               220                    22   \n2                96               240                    24   \n3                96               240                    24   \n4                96               240                    24   \n\n  Total Saturated Fat (Cal) Cholesterol (mg)  ... Taco Cabana Chick-fil-A  \\\n0                        60              100  ...           0           0   \n1                        66              100  ...           0           0   \n2                        72              100  ...           0           0   \n3                        72              100  ...           0           0   \n4                        72              100  ...           0           0   \n\n  Wings To Go The Capital Grille Doubledave's Pizzaworks Firehouse Subs  \\\n0           0                  0                       0              0   \n1           0                  0                       0              0   \n2           0                  0                       0              0   \n3           0                  0                       0              0   \n4           0                  0                       0              0   \n\n   Freebirds World Burrito  Taco Bell  Maggiano's Little Italy  Auntie Anne's  \n0                        0          0                        0              0  \n1                        0          0                        0              0  \n2                        0          0                        0              0  \n3                        0          0                        0              0  \n4                        0          0                        0              0  \n\n[5 rows x 108 columns]",
      "text/html": "<div>\n<style scoped>\n    .dataframe tbody tr th:only-of-type {\n        vertical-align: middle;\n    }\n\n    .dataframe tbody tr th {\n        vertical-align: top;\n    }\n\n    .dataframe thead th {\n        text-align: right;\n    }\n</style>\n<table border=\"1\" class=\"dataframe\">\n  <thead>\n    <tr style=\"text-align: right;\">\n      <th></th>\n      <th>AGE</th>\n      <th>Sedentary</th>\n      <th>Protein (Cal)</th>\n      <th>Carbohydrate (Cal)</th>\n      <th>Fiber (gr)</th>\n      <th>Total Sugar (Cal)</th>\n      <th>Total lipid (Cal)</th>\n      <th>Total Trans Fat (Cal)</th>\n      <th>Total Saturated Fat (Cal)</th>\n      <th>Cholesterol (mg)</th>\n      <th>...</th>\n      <th>Taco Cabana</th>\n      <th>Chick-fil-A</th>\n      <th>Wings To Go</th>\n      <th>The Capital Grille</th>\n      <th>Doubledave's Pizzaworks</th>\n      <th>Firehouse Subs</th>\n      <th>Freebirds World Burrito</th>\n      <th>Taco Bell</th>\n      <th>Maggiano's Little Italy</th>\n      <th>Auntie Anne's</th>\n    </tr>\n  </thead>\n  <tbody>\n    <tr>\n      <th>0</th>\n      <td>14</td>\n      <td>2000</td>\n      <td>150</td>\n      <td>350</td>\n      <td>19</td>\n      <td>80</td>\n      <td>200</td>\n      <td>20</td>\n      <td>60</td>\n      <td>100</td>\n      <td>...</td>\n      <td>0</td>\n      <td>0</td>\n      <td>0</td>\n      <td>0</td>\n      <td>0</td>\n      <td>0</td>\n      <td>0</td>\n      <td>0</td>\n      <td>0</td>\n      <td>0</td>\n    </tr>\n    <tr>\n      <th>1</th>\n      <td>15</td>\n      <td>2200</td>\n      <td>165</td>\n      <td>385</td>\n      <td>19</td>\n      <td>88</td>\n      <td>220</td>\n      <td>22</td>\n      <td>66</td>\n      <td>100</td>\n      <td>...</td>\n      <td>0</td>\n      <td>0</td>\n      <td>0</td>\n      <td>0</td>\n      <td>0</td>\n      <td>0</td>\n      <td>0</td>\n      <td>0</td>\n      <td>0</td>\n      <td>0</td>\n    </tr>\n    <tr>\n      <th>2</th>\n      <td>16</td>\n      <td>2400</td>\n      <td>180</td>\n      <td>420</td>\n      <td>19</td>\n      <td>96</td>\n      <td>240</td>\n      <td>24</td>\n      <td>72</td>\n      <td>100</td>\n      <td>...</td>\n      <td>0</td>\n      <td>0</td>\n      <td>0</td>\n      <td>0</td>\n      <td>0</td>\n      <td>0</td>\n      <td>0</td>\n      <td>0</td>\n      <td>0</td>\n      <td>0</td>\n    </tr>\n    <tr>\n      <th>3</th>\n      <td>17</td>\n      <td>2400</td>\n      <td>180</td>\n      <td>420</td>\n      <td>19</td>\n      <td>96</td>\n      <td>240</td>\n      <td>24</td>\n      <td>72</td>\n      <td>100</td>\n      <td>...</td>\n      <td>0</td>\n      <td>0</td>\n      <td>0</td>\n      <td>0</td>\n      <td>0</td>\n      <td>0</td>\n      <td>0</td>\n      <td>0</td>\n      <td>0</td>\n      <td>0</td>\n    </tr>\n    <tr>\n      <th>4</th>\n      <td>18</td>\n      <td>2400</td>\n      <td>180</td>\n      <td>420</td>\n      <td>19</td>\n      <td>96</td>\n      <td>240</td>\n      <td>24</td>\n      <td>72</td>\n      <td>100</td>\n      <td>...</td>\n      <td>0</td>\n      <td>0</td>\n      <td>0</td>\n      <td>0</td>\n      <td>0</td>\n      <td>0</td>\n      <td>0</td>\n      <td>0</td>\n      <td>0</td>\n      <td>0</td>\n    </tr>\n  </tbody>\n</table>\n<p>5 rows × 108 columns</p>\n</div>"
     },
     "metadata": {},
     "execution_count": 39
    }
   ],
   "source": [
    "maleMerged_df[0].head()"
   ]
  },
  {
   "cell_type": "code",
   "execution_count": 9,
   "metadata": {},
   "outputs": [
    {
     "output_type": "execute_result",
     "data": {
      "text/plain": "   AGE  Sedentary Protein (Cal) Carbohydrate (Cal) Fiber (gr)  \\\n0   14       1800           135                315         19   \n1   15       1800           135                315         19   \n2   16       1800           135                315         19   \n3   17       1800           135                315         19   \n4   18       1800           135                315         19   \n\n  Total Sugar (Cal) Total lipid (Cal) Total Trans Fat (Cal)  \\\n0                72               180                    18   \n1                72               180                    18   \n2                72               180                    18   \n3                72               180                    18   \n4                72               180                    18   \n\n  Total Saturated Fat (Cal) Cholesterol (mg)  ... Salata  \\\n0                        54              100  ...    0.3   \n1                        54              100  ...    0.3   \n2                        54              100  ...    0.3   \n3                        54              100  ...    0.3   \n4                        54              100  ...    0.3   \n\n  La Salsa Fresh Mexican Grill HoneyBaked Ham Saladworks  \\\n0                       0.0625       0.166667       0.65   \n1                       0.0625       0.166667       0.65   \n2                       0.0625       0.166667       0.65   \n3                       0.0625       0.166667       0.65   \n4                       0.0625       0.166667       0.65   \n\n  Maggiano's Little Italy Frullati Cafe & Bakery  Jamba Juice  Baskin Robbins  \\\n0                       0               0.051724     0.130435        0.083333   \n1                       0               0.051724     0.130435        0.083333   \n2                       0               0.051724     0.130435        0.083333   \n3                       0               0.051724     0.130435        0.083333   \n4                       0               0.051724     0.130435        0.083333   \n\n   Nature's Table  Smoothie King  \n0        0.076923            0.1  \n1        0.076923            0.1  \n2        0.076923            0.1  \n3        0.076923            0.1  \n4        0.076923            0.1  \n\n[5 rows x 108 columns]",
      "text/html": "<div>\n<style scoped>\n    .dataframe tbody tr th:only-of-type {\n        vertical-align: middle;\n    }\n\n    .dataframe tbody tr th {\n        vertical-align: top;\n    }\n\n    .dataframe thead th {\n        text-align: right;\n    }\n</style>\n<table border=\"1\" class=\"dataframe\">\n  <thead>\n    <tr style=\"text-align: right;\">\n      <th></th>\n      <th>AGE</th>\n      <th>Sedentary</th>\n      <th>Protein (Cal)</th>\n      <th>Carbohydrate (Cal)</th>\n      <th>Fiber (gr)</th>\n      <th>Total Sugar (Cal)</th>\n      <th>Total lipid (Cal)</th>\n      <th>Total Trans Fat (Cal)</th>\n      <th>Total Saturated Fat (Cal)</th>\n      <th>Cholesterol (mg)</th>\n      <th>...</th>\n      <th>Salata</th>\n      <th>La Salsa Fresh Mexican Grill</th>\n      <th>HoneyBaked Ham</th>\n      <th>Saladworks</th>\n      <th>Maggiano's Little Italy</th>\n      <th>Frullati Cafe &amp; Bakery</th>\n      <th>Jamba Juice</th>\n      <th>Baskin Robbins</th>\n      <th>Nature's Table</th>\n      <th>Smoothie King</th>\n    </tr>\n  </thead>\n  <tbody>\n    <tr>\n      <th>0</th>\n      <td>14</td>\n      <td>1800</td>\n      <td>135</td>\n      <td>315</td>\n      <td>19</td>\n      <td>72</td>\n      <td>180</td>\n      <td>18</td>\n      <td>54</td>\n      <td>100</td>\n      <td>...</td>\n      <td>0.3</td>\n      <td>0.0625</td>\n      <td>0.166667</td>\n      <td>0.65</td>\n      <td>0</td>\n      <td>0.051724</td>\n      <td>0.130435</td>\n      <td>0.083333</td>\n      <td>0.076923</td>\n      <td>0.1</td>\n    </tr>\n    <tr>\n      <th>1</th>\n      <td>15</td>\n      <td>1800</td>\n      <td>135</td>\n      <td>315</td>\n      <td>19</td>\n      <td>72</td>\n      <td>180</td>\n      <td>18</td>\n      <td>54</td>\n      <td>100</td>\n      <td>...</td>\n      <td>0.3</td>\n      <td>0.0625</td>\n      <td>0.166667</td>\n      <td>0.65</td>\n      <td>0</td>\n      <td>0.051724</td>\n      <td>0.130435</td>\n      <td>0.083333</td>\n      <td>0.076923</td>\n      <td>0.1</td>\n    </tr>\n    <tr>\n      <th>2</th>\n      <td>16</td>\n      <td>1800</td>\n      <td>135</td>\n      <td>315</td>\n      <td>19</td>\n      <td>72</td>\n      <td>180</td>\n      <td>18</td>\n      <td>54</td>\n      <td>100</td>\n      <td>...</td>\n      <td>0.3</td>\n      <td>0.0625</td>\n      <td>0.166667</td>\n      <td>0.65</td>\n      <td>0</td>\n      <td>0.051724</td>\n      <td>0.130435</td>\n      <td>0.083333</td>\n      <td>0.076923</td>\n      <td>0.1</td>\n    </tr>\n    <tr>\n      <th>3</th>\n      <td>17</td>\n      <td>1800</td>\n      <td>135</td>\n      <td>315</td>\n      <td>19</td>\n      <td>72</td>\n      <td>180</td>\n      <td>18</td>\n      <td>54</td>\n      <td>100</td>\n      <td>...</td>\n      <td>0.3</td>\n      <td>0.0625</td>\n      <td>0.166667</td>\n      <td>0.65</td>\n      <td>0</td>\n      <td>0.051724</td>\n      <td>0.130435</td>\n      <td>0.083333</td>\n      <td>0.076923</td>\n      <td>0.1</td>\n    </tr>\n    <tr>\n      <th>4</th>\n      <td>18</td>\n      <td>1800</td>\n      <td>135</td>\n      <td>315</td>\n      <td>19</td>\n      <td>72</td>\n      <td>180</td>\n      <td>18</td>\n      <td>54</td>\n      <td>100</td>\n      <td>...</td>\n      <td>0.3</td>\n      <td>0.0625</td>\n      <td>0.166667</td>\n      <td>0.65</td>\n      <td>0</td>\n      <td>0.051724</td>\n      <td>0.130435</td>\n      <td>0.083333</td>\n      <td>0.076923</td>\n      <td>0.1</td>\n    </tr>\n  </tbody>\n</table>\n<p>5 rows × 108 columns</p>\n</div>"
     },
     "metadata": {},
     "execution_count": 9
    }
   ],
   "source": [
    "#Females --------\n",
    "\n",
    "#Gives points to each of the restaurants based on parameters for each of the age groups and lifestyles\n",
    "\n",
    "#Creates a list to store DataFrames\n",
    "femaleMerged_df = []\n",
    "\n",
    "for i in range(len(femaleInfo)): #for 1 to 3\n",
    "\n",
    "    #Empty list to store dictionaries for each row iteration.\n",
    "    dictStore_list = [] \n",
    "\n",
    "    for index, row in femaleInfo[i].iterrows(): #For each index and row in dataframe maleinfo[i]\n",
    "        \n",
    "        #Creates empy dictionary for each iteration. \n",
    "        restaurantTally_dict = {} \n",
    "\n",
    "        for food in range(len(foodFiltered_df)): #for each row in maleinfo[i] iterates through the restaurant data set and gives points to each restaurant based on the parameters.\n",
    "\n",
    "            #if we have less than 10 items in the menu, skip iteration.\n",
    "            if foodFiltered_df['Restaurant'].value_counts()[foodFiltered_df.loc[food,'Restaurant']] < 10:\n",
    "                continue\n",
    "            \n",
    "            if foodFiltered_df.loc[food,'Restaurant'] not in restaurantTally_dict.keys():\n",
    "                restaurantTally_dict[foodFiltered_df.loc[food,'Restaurant']] = 0 \n",
    "\n",
    "            goodNutritionCounter = 0\n",
    "\n",
    "            #If food calores is lower than the per meal calculatued total, then analyze.\n",
    "            if (foodFiltered_df.loc[food,'Calories'] <= row['Calories per Meal']):\n",
    "                goodNutritionCounter += 1\n",
    "        \n",
    "            if  ((row['Protein (Cal)'] + 0.045) >= foodFiltered_df.loc[food,'Protein (Cal)']) : #((row['Protein (Cal)'] - 0.045) <= foodFiltered_df.loc[food,'Protein (Cal)']) &\n",
    "                goodNutritionCounter += 1\n",
    "                #proteinCheck = True        \n",
    "\n",
    "            if  ((row['Carbohydrate (Cal)'] + 0.075) >= foodFiltered_df.loc[food,'Carbohydrate (Cal)']): #((row['Carbohydrate (Cal)'] - 0.075) <= foodFiltered_df.loc[food,'Carbohydrate (Cal)']) &\n",
    "                goodNutritionCounter += 1\n",
    "                #carbCheck = True      \n",
    "                \n",
    "            if ((row['Fiber (gr)'] + 11) > foodFiltered_df.loc[food,'Fiber (gr)']): #((row['Fiber (gr)'] - 11) <= foodFiltered_df.loc[food,'Fiber (gr)']) & \n",
    "                goodNutritionCounter += 1\n",
    "                #fiberCheck = True\n",
    "\n",
    "            if (foodFiltered_df.loc[food,'Total Sugar (Cal)'] <= row['Total Sugar (Cal)']):\n",
    "                goodNutritionCounter += 1\n",
    "                #sugarsCheck = True\n",
    "\n",
    "            if  ((row['Total lipid (Cal)'] + 2) >= foodFiltered_df.loc[food,'Total Fat (Cal)']): #((row['Total lipid (Cal)'] - 2) <= foodFiltered_df.loc[food,'Total Fat (Cal)']) &\n",
    "                goodNutritionCounter += 1\n",
    "                #fatCheck = True\n",
    "\n",
    "            if (foodFiltered_df.loc[food,'Total Trans Fat (Cal)'] < row['Total Trans Fat (Cal)']):\n",
    "                goodNutritionCounter += 1\n",
    "\n",
    "            if (foodFiltered_df.loc[food,'Total Saturated Fat (Cal)'] <= row['Total Saturated Fat (Cal)']):\n",
    "                goodNutritionCounter += 1\n",
    "                #satfatCheck = True\n",
    "\n",
    "            if (foodFiltered_df.loc[food,'Cholesterol (mg)'] < row['Cholesterol (mg)']):\n",
    "                goodNutritionCounter += 1\n",
    "\n",
    "            if ((row['Calcium (mg)'] + 252.5)  > foodFiltered_df.loc[food,'Calcium (mg)']): #((row['Calcium (mg)'] - 252.5)  <= foodFiltered_df.loc[food,'Calcium (mg)']) & \n",
    "                goodNutritionCounter += 1\n",
    "\n",
    "            if  ((row['Iron (mg)'] + 5) > foodFiltered_df.loc[food,'Iron (mg)']): #((row['Iron (mg)'] - 5) <= foodFiltered_df.loc[food,'Iron (mg)']) &\n",
    "                goodNutritionCounter += 1\n",
    "\n",
    "            if  ((row['Sodium, (mg)'] + 310) > foodFiltered_df.loc[food,'Sodium (mg)']): #((row['Sodium, (mg)'] - 310) <= foodFiltered_df.loc[food,'Sodium (mg)']) &\n",
    "                goodNutritionCounter += 1\n",
    "                #sodiumCheck = True\n",
    "\n",
    "            if ((row['Vitamin A (mcg RAE)'] + 615) > foodFiltered_df.loc[food,'Vitamin A (mcg RAE)']): #((row['Vitamin A (mcg RAE)'] - 615) <= foodFiltered_df.loc[food,'Vitamin A (mcg RAE)']) &\n",
    "                goodNutritionCounter += 1\n",
    "\n",
    "            if (foodFiltered_df.loc[food,'Vitamin C (mg)'] <= row['Vitamin C (mg)']):\n",
    "                goodNutritionCounter += 1\n",
    "            \n",
    "            if  (goodNutritionCounter == 14): \n",
    "\n",
    "                #Only count if the restaruant meets all conditions.\n",
    "                restaurantTally_dict[foodFiltered_df.loc[food,'Restaurant']] += (1 / foodFiltered_df['Restaurant'].value_counts()[foodFiltered_df.loc[food,'Restaurant']])\n",
    "\n",
    "        #When code is done iterating the data set, append the dictionary to empty list. \n",
    "        dictStore_list.append(restaurantTally_dict)\n",
    "    \n",
    "    #When code is done iterating trough the maleinfo[i] dataframe, mergues the maleinfo[i] dataframe and create a dataframe from the dictionary list and append both DataFrames using the index of both DataFrames.\n",
    "    femaleMerged_df.append(pd.merge(femaleInfo[i], pd.DataFrame(dictStore_list), left_index = True, right_index = True))\n",
    "\n",
    "\n",
    "femaleMerged_df[0].head()"
   ]
  },
  {
   "cell_type": "code",
   "execution_count": 40,
   "metadata": {},
   "outputs": [],
   "source": [
    "#drops empty columns for each dataFrame \n",
    "for i in range(len(femaleMerged_df)):\n",
    "\n",
    "    #sorts columns based on average\n",
    "    columnOrder = (femaleMerged_df[i].iloc[0,:16].index).to_list() + (femaleMerged_df[i].iloc[:,16:].mean().sort_values(ascending = False).index).to_list()\n",
    "    #Re orders columns\n",
    "    femaleMerged_df[i] = femaleMerged_df[i][columnOrder]\n",
    "    #printsCSV\n",
    "    femaleMerged_df[i].loc[:,(femaleMerged_df[i]!= 0).any(axis=0)].to_csv(f'female{i}.csv')\n"
   ]
  },
  {
   "cell_type": "code",
   "execution_count": 41,
   "metadata": {},
   "outputs": [
    {
     "output_type": "execute_result",
     "data": {
      "text/plain": "   AGE  Sedentary Protein (Cal) Carbohydrate (Cal) Fiber (gr)  \\\n0   14       1800           135                315         19   \n1   15       1800           135                315         19   \n2   16       1800           135                315         19   \n3   17       1800           135                315         19   \n4   18       1800           135                315         19   \n\n  Total Sugar (Cal) Total lipid (Cal) Total Trans Fat (Cal)  \\\n0                72               180                    18   \n1                72               180                    18   \n2                72               180                    18   \n3                72               180                    18   \n4                72               180                    18   \n\n  Total Saturated Fat (Cal) Cholesterol (mg)  ... Freebirds World Burrito  \\\n0                        54              100  ...                       0   \n1                        54              100  ...                       0   \n2                        54              100  ...                       0   \n3                        54              100  ...                       0   \n4                        54              100  ...                       0   \n\n  Taco Bell Chick-fil-A Firehouse Subs Doubledave's Pizzaworks Taco Cabana  \\\n0         0           0              0                       0           0   \n1         0           0              0                       0           0   \n2         0           0              0                       0           0   \n3         0           0              0                       0           0   \n4         0           0              0                       0           0   \n\n   Wings To Go  The Capital Grille  Five Guys  Texas Roadhouse  \n0            0                   0          0                0  \n1            0                   0          0                0  \n2            0                   0          0                0  \n3            0                   0          0                0  \n4            0                   0          0                0  \n\n[5 rows x 108 columns]",
      "text/html": "<div>\n<style scoped>\n    .dataframe tbody tr th:only-of-type {\n        vertical-align: middle;\n    }\n\n    .dataframe tbody tr th {\n        vertical-align: top;\n    }\n\n    .dataframe thead th {\n        text-align: right;\n    }\n</style>\n<table border=\"1\" class=\"dataframe\">\n  <thead>\n    <tr style=\"text-align: right;\">\n      <th></th>\n      <th>AGE</th>\n      <th>Sedentary</th>\n      <th>Protein (Cal)</th>\n      <th>Carbohydrate (Cal)</th>\n      <th>Fiber (gr)</th>\n      <th>Total Sugar (Cal)</th>\n      <th>Total lipid (Cal)</th>\n      <th>Total Trans Fat (Cal)</th>\n      <th>Total Saturated Fat (Cal)</th>\n      <th>Cholesterol (mg)</th>\n      <th>...</th>\n      <th>Freebirds World Burrito</th>\n      <th>Taco Bell</th>\n      <th>Chick-fil-A</th>\n      <th>Firehouse Subs</th>\n      <th>Doubledave's Pizzaworks</th>\n      <th>Taco Cabana</th>\n      <th>Wings To Go</th>\n      <th>The Capital Grille</th>\n      <th>Five Guys</th>\n      <th>Texas Roadhouse</th>\n    </tr>\n  </thead>\n  <tbody>\n    <tr>\n      <th>0</th>\n      <td>14</td>\n      <td>1800</td>\n      <td>135</td>\n      <td>315</td>\n      <td>19</td>\n      <td>72</td>\n      <td>180</td>\n      <td>18</td>\n      <td>54</td>\n      <td>100</td>\n      <td>...</td>\n      <td>0</td>\n      <td>0</td>\n      <td>0</td>\n      <td>0</td>\n      <td>0</td>\n      <td>0</td>\n      <td>0</td>\n      <td>0</td>\n      <td>0</td>\n      <td>0</td>\n    </tr>\n    <tr>\n      <th>1</th>\n      <td>15</td>\n      <td>1800</td>\n      <td>135</td>\n      <td>315</td>\n      <td>19</td>\n      <td>72</td>\n      <td>180</td>\n      <td>18</td>\n      <td>54</td>\n      <td>100</td>\n      <td>...</td>\n      <td>0</td>\n      <td>0</td>\n      <td>0</td>\n      <td>0</td>\n      <td>0</td>\n      <td>0</td>\n      <td>0</td>\n      <td>0</td>\n      <td>0</td>\n      <td>0</td>\n    </tr>\n    <tr>\n      <th>2</th>\n      <td>16</td>\n      <td>1800</td>\n      <td>135</td>\n      <td>315</td>\n      <td>19</td>\n      <td>72</td>\n      <td>180</td>\n      <td>18</td>\n      <td>54</td>\n      <td>100</td>\n      <td>...</td>\n      <td>0</td>\n      <td>0</td>\n      <td>0</td>\n      <td>0</td>\n      <td>0</td>\n      <td>0</td>\n      <td>0</td>\n      <td>0</td>\n      <td>0</td>\n      <td>0</td>\n    </tr>\n    <tr>\n      <th>3</th>\n      <td>17</td>\n      <td>1800</td>\n      <td>135</td>\n      <td>315</td>\n      <td>19</td>\n      <td>72</td>\n      <td>180</td>\n      <td>18</td>\n      <td>54</td>\n      <td>100</td>\n      <td>...</td>\n      <td>0</td>\n      <td>0</td>\n      <td>0</td>\n      <td>0</td>\n      <td>0</td>\n      <td>0</td>\n      <td>0</td>\n      <td>0</td>\n      <td>0</td>\n      <td>0</td>\n    </tr>\n    <tr>\n      <th>4</th>\n      <td>18</td>\n      <td>1800</td>\n      <td>135</td>\n      <td>315</td>\n      <td>19</td>\n      <td>72</td>\n      <td>180</td>\n      <td>18</td>\n      <td>54</td>\n      <td>100</td>\n      <td>...</td>\n      <td>0</td>\n      <td>0</td>\n      <td>0</td>\n      <td>0</td>\n      <td>0</td>\n      <td>0</td>\n      <td>0</td>\n      <td>0</td>\n      <td>0</td>\n      <td>0</td>\n    </tr>\n  </tbody>\n</table>\n<p>5 rows × 108 columns</p>\n</div>"
     },
     "metadata": {},
     "execution_count": 41
    }
   ],
   "source": [
    "femaleMerged_df[0].head()"
   ]
  },
  {
   "cell_type": "code",
   "execution_count": null,
   "metadata": {},
   "outputs": [],
   "source": []
  }
 ],
 "metadata": {
  "kernelspec": {
   "display_name": "Python 3",
   "language": "python",
   "name": "python3"
  },
  "language_info": {
   "codemirror_mode": {
    "name": "ipython",
    "version": 3
   },
   "file_extension": ".py",
   "mimetype": "text/x-python",
   "name": "python",
   "nbconvert_exporter": "python",
   "pygments_lexer": "ipython3",
   "version": "3.7.6-final"
  }
 },
 "nbformat": 4,
 "nbformat_minor": 4
}