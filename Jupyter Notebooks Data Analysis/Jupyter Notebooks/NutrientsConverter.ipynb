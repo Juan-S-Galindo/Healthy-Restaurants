{
 "cells": [
  {
   "cell_type": "code",
   "execution_count": 26,
   "metadata": {},
   "outputs": [],
   "source": [
    "import pandas as pd\n",
    "\n",
    "import ast"
   ]
  },
  {
   "cell_type": "code",
   "execution_count": 27,
   "metadata": {},
   "outputs": [
    {
     "output_type": "execute_result",
     "data": {
      "text/plain": "  Restaurant        Food_Name  \\\n0     Subway     Cheese Pizza   \n1     Subway    Sausage Pizza   \n2     Subway   Meatball Pizza   \n3     Subway  Pepperoni Pizza   \n4     Subway      Bacon Pizza   \n\n                                           Nutrients  Calories  \n0  [{'value': 28, 'attr_id': 203}, {'value': 23, ...       720  \n1  [{'value': 35, 'attr_id': 203}, {'value': 35, ...       860  \n2  [{'value': 37, 'attr_id': 203}, {'value': 33, ...       860  \n3  [{'value': 35, 'attr_id': 203}, {'value': 33, ...       840  \n4  [{'value': 37, 'attr_id': 203}, {'value': 31, ...       840  ",
      "text/html": "<div>\n<style scoped>\n    .dataframe tbody tr th:only-of-type {\n        vertical-align: middle;\n    }\n\n    .dataframe tbody tr th {\n        vertical-align: top;\n    }\n\n    .dataframe thead th {\n        text-align: right;\n    }\n</style>\n<table border=\"1\" class=\"dataframe\">\n  <thead>\n    <tr style=\"text-align: right;\">\n      <th></th>\n      <th>Restaurant</th>\n      <th>Food_Name</th>\n      <th>Nutrients</th>\n      <th>Calories</th>\n    </tr>\n  </thead>\n  <tbody>\n    <tr>\n      <th>0</th>\n      <td>Subway</td>\n      <td>Cheese Pizza</td>\n      <td>[{'value': 28, 'attr_id': 203}, {'value': 23, ...</td>\n      <td>720</td>\n    </tr>\n    <tr>\n      <th>1</th>\n      <td>Subway</td>\n      <td>Sausage Pizza</td>\n      <td>[{'value': 35, 'attr_id': 203}, {'value': 35, ...</td>\n      <td>860</td>\n    </tr>\n    <tr>\n      <th>2</th>\n      <td>Subway</td>\n      <td>Meatball Pizza</td>\n      <td>[{'value': 37, 'attr_id': 203}, {'value': 33, ...</td>\n      <td>860</td>\n    </tr>\n    <tr>\n      <th>3</th>\n      <td>Subway</td>\n      <td>Pepperoni Pizza</td>\n      <td>[{'value': 35, 'attr_id': 203}, {'value': 33, ...</td>\n      <td>840</td>\n    </tr>\n    <tr>\n      <th>4</th>\n      <td>Subway</td>\n      <td>Bacon Pizza</td>\n      <td>[{'value': 37, 'attr_id': 203}, {'value': 31, ...</td>\n      <td>840</td>\n    </tr>\n  </tbody>\n</table>\n</div>"
     },
     "metadata": {},
     "execution_count": 27
    }
   ],
   "source": [
    "foodRaw_df = pd.read_csv('../../Resources/CSVs/all_menu_items.csv')\n",
    "\n",
    "foodRaw_df.head()"
   ]
  },
  {
   "cell_type": "code",
   "execution_count": 28,
   "metadata": {},
   "outputs": [
    {
     "output_type": "execute_result",
     "data": {
      "text/plain": "         2018 NFP    usda_tag                         name  unit notes  \\\nattr_id                                                                  \n203           1.0      PROCNT                      Protein     g   NaN   \n204           1.0         FAT            Total lipid (fat)     g   NaN   \n205           1.0      CHOCDF  Carbohydrate, by difference     g   NaN   \n207           0.0         ASH                          Ash     g   NaN   \n208           1.0  ENERC_KCAL                       Energy  kcal   NaN   \n\n                bulk_csv_field cxh_attribute_name Unnamed: 8  \nattr_id                                                       \n203                 nf_protein               PRO-        NaN  \n204               nf_total_fat                FAT        NaN  \n205      nf_total_carbohydrate               CHO-        NaN  \n207                        NaN                NaN        NaN  \n208                nf_calories              ENER-        NaN  ",
      "text/html": "<div>\n<style scoped>\n    .dataframe tbody tr th:only-of-type {\n        vertical-align: middle;\n    }\n\n    .dataframe tbody tr th {\n        vertical-align: top;\n    }\n\n    .dataframe thead th {\n        text-align: right;\n    }\n</style>\n<table border=\"1\" class=\"dataframe\">\n  <thead>\n    <tr style=\"text-align: right;\">\n      <th></th>\n      <th>2018 NFP</th>\n      <th>usda_tag</th>\n      <th>name</th>\n      <th>unit</th>\n      <th>notes</th>\n      <th>bulk_csv_field</th>\n      <th>cxh_attribute_name</th>\n      <th>Unnamed: 8</th>\n    </tr>\n    <tr>\n      <th>attr_id</th>\n      <th></th>\n      <th></th>\n      <th></th>\n      <th></th>\n      <th></th>\n      <th></th>\n      <th></th>\n      <th></th>\n    </tr>\n  </thead>\n  <tbody>\n    <tr>\n      <th>203</th>\n      <td>1.0</td>\n      <td>PROCNT</td>\n      <td>Protein</td>\n      <td>g</td>\n      <td>NaN</td>\n      <td>nf_protein</td>\n      <td>PRO-</td>\n      <td>NaN</td>\n    </tr>\n    <tr>\n      <th>204</th>\n      <td>1.0</td>\n      <td>FAT</td>\n      <td>Total lipid (fat)</td>\n      <td>g</td>\n      <td>NaN</td>\n      <td>nf_total_fat</td>\n      <td>FAT</td>\n      <td>NaN</td>\n    </tr>\n    <tr>\n      <th>205</th>\n      <td>1.0</td>\n      <td>CHOCDF</td>\n      <td>Carbohydrate, by difference</td>\n      <td>g</td>\n      <td>NaN</td>\n      <td>nf_total_carbohydrate</td>\n      <td>CHO-</td>\n      <td>NaN</td>\n    </tr>\n    <tr>\n      <th>207</th>\n      <td>0.0</td>\n      <td>ASH</td>\n      <td>Ash</td>\n      <td>g</td>\n      <td>NaN</td>\n      <td>NaN</td>\n      <td>NaN</td>\n      <td>NaN</td>\n    </tr>\n    <tr>\n      <th>208</th>\n      <td>1.0</td>\n      <td>ENERC_KCAL</td>\n      <td>Energy</td>\n      <td>kcal</td>\n      <td>NaN</td>\n      <td>nf_calories</td>\n      <td>ENER-</td>\n      <td>NaN</td>\n    </tr>\n  </tbody>\n</table>\n</div>"
     },
     "metadata": {},
     "execution_count": 28
    }
   ],
   "source": [
    "nutrient_map = pd.read_csv('../../Resources/CSVs/Nutritionix API v2 - Full Nutrient USDA Field Mapping.csv')\n",
    "\n",
    "nutrient_map = nutrient_map.set_index('attr_id')\n",
    "\n",
    "nutrient_map.head()"
   ]
  },
  {
   "cell_type": "code",
   "execution_count": 29,
   "metadata": {},
   "outputs": [
    {
     "output_type": "execute_result",
     "data": {
      "text/plain": "  Restaurant        Food_Name  \\\n0     Subway     Cheese Pizza   \n1     Subway    Sausage Pizza   \n2     Subway   Meatball Pizza   \n3     Subway  Pepperoni Pizza   \n4     Subway      Bacon Pizza   \n\n                                           Nutrients  Calories  Protein  \\\n0  [{'value': 28, 'attr_id': 203}, {'value': 23, ...       720      112   \n1  [{'value': 35, 'attr_id': 203}, {'value': 35, ...       860      140   \n2  [{'value': 37, 'attr_id': 203}, {'value': 33, ...       860      148   \n3  [{'value': 35, 'attr_id': 203}, {'value': 33, ...       840      140   \n4  [{'value': 37, 'attr_id': 203}, {'value': 31, ...       840      148   \n\n   Total lipid (fat)  Carbohydrate, by difference  Energy  Sugars, total  \\\n0              207.0                          388     720             28   \n1              315.0                          392     860             32   \n2              297.0                          400     860             28   \n3              297.0                          388     840             32   \n4              279.0                          392     840             32   \n\n   Fiber, total dietary  Calcium, Ca  Iron, Fe  Sodium, Na  Vitamin A, IU  \\\n0                     4          520       7.2        1530          300.0   \n1                     4          650       7.2        1870          300.0   \n2                     5          650       8.1        1840          300.0   \n3                     4          650       7.2        1800          300.0   \n4                     4          650       7.2        2060          300.0   \n\n   Vitamin C, total ascorbic acid  Cholesterol  Fatty acids, total trans  \\\n0                             9.0           50                       5.0   \n1                             9.0           80                       5.0   \n2                             9.0           80                      10.0   \n3                             9.0           70                      10.0   \n4                             9.0           70                       5.0   \n\n   Fatty acids, total saturated  \n0                          81.0  \n1                         126.0  \n2                         126.0  \n3                         117.0  \n4                         108.0  ",
      "text/html": "<div>\n<style scoped>\n    .dataframe tbody tr th:only-of-type {\n        vertical-align: middle;\n    }\n\n    .dataframe tbody tr th {\n        vertical-align: top;\n    }\n\n    .dataframe thead th {\n        text-align: right;\n    }\n</style>\n<table border=\"1\" class=\"dataframe\">\n  <thead>\n    <tr style=\"text-align: right;\">\n      <th></th>\n      <th>Restaurant</th>\n      <th>Food_Name</th>\n      <th>Nutrients</th>\n      <th>Calories</th>\n      <th>Protein</th>\n      <th>Total lipid (fat)</th>\n      <th>Carbohydrate, by difference</th>\n      <th>Energy</th>\n      <th>Sugars, total</th>\n      <th>Fiber, total dietary</th>\n      <th>Calcium, Ca</th>\n      <th>Iron, Fe</th>\n      <th>Sodium, Na</th>\n      <th>Vitamin A, IU</th>\n      <th>Vitamin C, total ascorbic acid</th>\n      <th>Cholesterol</th>\n      <th>Fatty acids, total trans</th>\n      <th>Fatty acids, total saturated</th>\n    </tr>\n  </thead>\n  <tbody>\n    <tr>\n      <th>0</th>\n      <td>Subway</td>\n      <td>Cheese Pizza</td>\n      <td>[{'value': 28, 'attr_id': 203}, {'value': 23, ...</td>\n      <td>720</td>\n      <td>112</td>\n      <td>207.0</td>\n      <td>388</td>\n      <td>720</td>\n      <td>28</td>\n      <td>4</td>\n      <td>520</td>\n      <td>7.2</td>\n      <td>1530</td>\n      <td>300.0</td>\n      <td>9.0</td>\n      <td>50</td>\n      <td>5.0</td>\n      <td>81.0</td>\n    </tr>\n    <tr>\n      <th>1</th>\n      <td>Subway</td>\n      <td>Sausage Pizza</td>\n      <td>[{'value': 35, 'attr_id': 203}, {'value': 35, ...</td>\n      <td>860</td>\n      <td>140</td>\n      <td>315.0</td>\n      <td>392</td>\n      <td>860</td>\n      <td>32</td>\n      <td>4</td>\n      <td>650</td>\n      <td>7.2</td>\n      <td>1870</td>\n      <td>300.0</td>\n      <td>9.0</td>\n      <td>80</td>\n      <td>5.0</td>\n      <td>126.0</td>\n    </tr>\n    <tr>\n      <th>2</th>\n      <td>Subway</td>\n      <td>Meatball Pizza</td>\n      <td>[{'value': 37, 'attr_id': 203}, {'value': 33, ...</td>\n      <td>860</td>\n      <td>148</td>\n      <td>297.0</td>\n      <td>400</td>\n      <td>860</td>\n      <td>28</td>\n      <td>5</td>\n      <td>650</td>\n      <td>8.1</td>\n      <td>1840</td>\n      <td>300.0</td>\n      <td>9.0</td>\n      <td>80</td>\n      <td>10.0</td>\n      <td>126.0</td>\n    </tr>\n    <tr>\n      <th>3</th>\n      <td>Subway</td>\n      <td>Pepperoni Pizza</td>\n      <td>[{'value': 35, 'attr_id': 203}, {'value': 33, ...</td>\n      <td>840</td>\n      <td>140</td>\n      <td>297.0</td>\n      <td>388</td>\n      <td>840</td>\n      <td>32</td>\n      <td>4</td>\n      <td>650</td>\n      <td>7.2</td>\n      <td>1800</td>\n      <td>300.0</td>\n      <td>9.0</td>\n      <td>70</td>\n      <td>10.0</td>\n      <td>117.0</td>\n    </tr>\n    <tr>\n      <th>4</th>\n      <td>Subway</td>\n      <td>Bacon Pizza</td>\n      <td>[{'value': 37, 'attr_id': 203}, {'value': 31, ...</td>\n      <td>840</td>\n      <td>148</td>\n      <td>279.0</td>\n      <td>392</td>\n      <td>840</td>\n      <td>32</td>\n      <td>4</td>\n      <td>650</td>\n      <td>7.2</td>\n      <td>2060</td>\n      <td>300.0</td>\n      <td>9.0</td>\n      <td>70</td>\n      <td>5.0</td>\n      <td>108.0</td>\n    </tr>\n  </tbody>\n</table>\n</div>"
     },
     "metadata": {},
     "execution_count": 29
    }
   ],
   "source": [
    "for index,row in foodRaw_df.iterrows(): #iterate each index and row.\n",
    "    \n",
    "    nutrients = ast.literal_eval(row['Nutrients']) #The original column was as string. ast.literal_eval -->interprets \"strings, bytes, numbers, tuples, lists, dicts, sets, booleans, and None.\" and returns it in the right format.. Anything else is an error.\n",
    "    \n",
    "    for nutrient in nutrients: #Iterates each of the nutrients dictionaries. \n",
    "        \n",
    "        name = nutrient_map.loc[nutrient['attr_id'],'name'] #locates the name in the nutrient_map csv. \n",
    "        \n",
    "        conversion_dict = { #Converts the columns from grams to calories.\n",
    "            'Protein' : 4, #To cal\n",
    "            'Carbohydrate, by difference' : 4, #to cal\n",
    "            'Total lipid (fat)' : 9, #to cal\n",
    "            'Vitamin A, IU' : 0.3, #to mcg RAE\n",
    "            'Fatty acids, total trans' : 10,\n",
    "            'Fatty acids, total saturated' : 9,\n",
    "            'Sugars, total' : 4} \n",
    "        \n",
    "        if name in conversion_dict.keys():\n",
    "            conversionFactor = conversion_dict[name]\n",
    "        else:\n",
    "            conversionFactor = 1\n",
    "        \n",
    "        value = nutrient['value'] \n",
    "        \n",
    "       \n",
    "        if name in foodRaw_df.columns: #if the nutrient is a DataFrame column.\n",
    "                \n",
    "            foodRaw_df.loc[index,name] = value * conversionFactor #Adds the value. \n",
    "        \n",
    "        else: #if the nutrient is not in the DataFrame\n",
    "            foodRaw_df[name] =''\n",
    "            foodRaw_df.loc[index,name] = value * conversionFactor\n",
    "        \n",
    "food_df = foodRaw_df.replace(r\"^\\s*$\", 0, regex = True) #Finds and replace empty cells with 0. empty cell pattern = r\"^\\s*$\"\n",
    "\n",
    "food_df.head()"
   ]
  },
  {
   "cell_type": "code",
   "execution_count": 30,
   "metadata": {},
   "outputs": [
    {
     "output_type": "execute_result",
     "data": {
      "text/plain": "  Restaurant        Food_Name  Calories  Protein (Cal)  Carbohydrate (Cal)  \\\n0     Subway     Cheese Pizza       720            112                 388   \n1     Subway    Sausage Pizza       860            140                 392   \n2     Subway   Meatball Pizza       860            148                 400   \n3     Subway  Pepperoni Pizza       840            140                 388   \n4     Subway      Bacon Pizza       840            148                 392   \n\n   Fiber (gr)  Total Sugar (Cal)  Total Fat (Cal)  Total Trans Fat (Cal)  \\\n0           4                 28            207.0                    5.0   \n1           4                 32            315.0                    5.0   \n2           5                 28            297.0                   10.0   \n3           4                 32            297.0                   10.0   \n4           4                 32            279.0                    5.0   \n\n   Total Saturated Fat (Cal)  Cholesterol (mg)  Calcium (mg)  Iron (mg)  \\\n0                       81.0                50           520        7.2   \n1                      126.0                80           650        7.2   \n2                      126.0                80           650        8.1   \n3                      117.0                70           650        7.2   \n4                      108.0                70           650        7.2   \n\n   Sodium (mg)  Vitamin A (mcg RAE)  Vitamin C (mg)  \n0         1530                300.0             9.0  \n1         1870                300.0             9.0  \n2         1840                300.0             9.0  \n3         1800                300.0             9.0  \n4         2060                300.0             9.0  ",
      "text/html": "<div>\n<style scoped>\n    .dataframe tbody tr th:only-of-type {\n        vertical-align: middle;\n    }\n\n    .dataframe tbody tr th {\n        vertical-align: top;\n    }\n\n    .dataframe thead th {\n        text-align: right;\n    }\n</style>\n<table border=\"1\" class=\"dataframe\">\n  <thead>\n    <tr style=\"text-align: right;\">\n      <th></th>\n      <th>Restaurant</th>\n      <th>Food_Name</th>\n      <th>Calories</th>\n      <th>Protein (Cal)</th>\n      <th>Carbohydrate (Cal)</th>\n      <th>Fiber (gr)</th>\n      <th>Total Sugar (Cal)</th>\n      <th>Total Fat (Cal)</th>\n      <th>Total Trans Fat (Cal)</th>\n      <th>Total Saturated Fat (Cal)</th>\n      <th>Cholesterol (mg)</th>\n      <th>Calcium (mg)</th>\n      <th>Iron (mg)</th>\n      <th>Sodium (mg)</th>\n      <th>Vitamin A (mcg RAE)</th>\n      <th>Vitamin C (mg)</th>\n    </tr>\n  </thead>\n  <tbody>\n    <tr>\n      <th>0</th>\n      <td>Subway</td>\n      <td>Cheese Pizza</td>\n      <td>720</td>\n      <td>112</td>\n      <td>388</td>\n      <td>4</td>\n      <td>28</td>\n      <td>207.0</td>\n      <td>5.0</td>\n      <td>81.0</td>\n      <td>50</td>\n      <td>520</td>\n      <td>7.2</td>\n      <td>1530</td>\n      <td>300.0</td>\n      <td>9.0</td>\n    </tr>\n    <tr>\n      <th>1</th>\n      <td>Subway</td>\n      <td>Sausage Pizza</td>\n      <td>860</td>\n      <td>140</td>\n      <td>392</td>\n      <td>4</td>\n      <td>32</td>\n      <td>315.0</td>\n      <td>5.0</td>\n      <td>126.0</td>\n      <td>80</td>\n      <td>650</td>\n      <td>7.2</td>\n      <td>1870</td>\n      <td>300.0</td>\n      <td>9.0</td>\n    </tr>\n    <tr>\n      <th>2</th>\n      <td>Subway</td>\n      <td>Meatball Pizza</td>\n      <td>860</td>\n      <td>148</td>\n      <td>400</td>\n      <td>5</td>\n      <td>28</td>\n      <td>297.0</td>\n      <td>10.0</td>\n      <td>126.0</td>\n      <td>80</td>\n      <td>650</td>\n      <td>8.1</td>\n      <td>1840</td>\n      <td>300.0</td>\n      <td>9.0</td>\n    </tr>\n    <tr>\n      <th>3</th>\n      <td>Subway</td>\n      <td>Pepperoni Pizza</td>\n      <td>840</td>\n      <td>140</td>\n      <td>388</td>\n      <td>4</td>\n      <td>32</td>\n      <td>297.0</td>\n      <td>10.0</td>\n      <td>117.0</td>\n      <td>70</td>\n      <td>650</td>\n      <td>7.2</td>\n      <td>1800</td>\n      <td>300.0</td>\n      <td>9.0</td>\n    </tr>\n    <tr>\n      <th>4</th>\n      <td>Subway</td>\n      <td>Bacon Pizza</td>\n      <td>840</td>\n      <td>148</td>\n      <td>392</td>\n      <td>4</td>\n      <td>32</td>\n      <td>279.0</td>\n      <td>5.0</td>\n      <td>108.0</td>\n      <td>70</td>\n      <td>650</td>\n      <td>7.2</td>\n      <td>2060</td>\n      <td>300.0</td>\n      <td>9.0</td>\n    </tr>\n  </tbody>\n</table>\n</div>"
     },
     "metadata": {},
     "execution_count": 30
    }
   ],
   "source": [
    "#DataFrame columns order edit and columns rename.\n",
    "\n",
    "foodFiltered_df = food_df[['Restaurant',\n",
    "                           'Food_Name',\n",
    "                           'Calories',\n",
    "                           'Protein',\n",
    "                           'Carbohydrate, by difference',\n",
    "                           'Fiber, total dietary',\n",
    "                           'Sugars, total',\n",
    "                           'Total lipid (fat)',\n",
    "                           'Fatty acids, total trans',\n",
    "                           'Fatty acids, total saturated',\n",
    "                           'Cholesterol',\n",
    "                           'Calcium, Ca',\n",
    "                           'Iron, Fe',\n",
    "                           'Sodium, Na',\n",
    "                           'Vitamin A, IU',\n",
    "                          'Vitamin C, total ascorbic acid']]\n",
    "\n",
    "columns_name = {\n",
    "    'Protein' : 'Protein (Cal)',\n",
    "    'Carbohydrate, by difference' : 'Carbohydrate (Cal)',\n",
    "    'Fiber, total dietary' : 'Fiber (gr)',\n",
    "    'Sugars, total' : 'Total Sugar (Cal)',\n",
    "    'Total lipid (fat)' : 'Total Fat (Cal)',\n",
    "    'Cholesterol' : 'Cholesterol (mg)',\n",
    "    'Calcium, Ca' : 'Calcium (mg)',\n",
    "    'Iron, Fe' : 'Iron (mg)',\n",
    "    'Sodium, Na' : 'Sodium (mg)',\n",
    "    'Vitamin A, IU' : 'Vitamin A (mcg RAE)',\n",
    "    'Vitamin C, total ascorbic acid' : 'Vitamin C (mg)',\n",
    "    'Fatty acids, total trans' : 'Total Trans Fat (Cal)',\n",
    "    'Fatty acids, total saturated' : 'Total Saturated Fat (Cal)'\n",
    "    \n",
    "}\n",
    "\n",
    "foodFiltered_df = foodFiltered_df.rename(columns = columns_name)\n",
    "\n",
    "foodFiltered_df.head()\n"
   ]
  },
  {
   "cell_type": "code",
   "execution_count": 31,
   "metadata": {},
   "outputs": [
    {
     "output_type": "execute_result",
     "data": {
      "text/plain": "      Restaurant                                    Food_Name  Calories  \\\n410  Dairy Queen                     DQ Treatzza Pizza, Heath       190   \n411  Dairy Queen             DQ Treatzza Pizza, Choco Brownie       190   \n412  Dairy Queen    DQ Treatzza Pizza, M&M'sChocolate Candies       200   \n413  Dairy Queen  DQ Treatzza Pizza, Reese'sPeanut Butter Cup       200   \n414  Dairy Queen                               Kids Hamburger       320   \n415  Dairy Queen                           DQ Ultimate Burger       720   \n416  Dairy Queen                                   Side Salad        25   \n417  Dairy Queen                   Chicken BLT Salad, Grilled       270   \n418  Dairy Queen                    Chicken BLT Salad, Crispy       400   \n419  Dairy Queen           $5 Buck Lunch Crispy Chicken Salad       310   \n420  Dairy Queen                     Pork Tenderloin Sandwich       580   \n421  Dairy Queen                          Turkey BLT Sandwich       580   \n422  Dairy Queen                    Chicken Sandwich, Grilled       440   \n423  Dairy Queen                     Chicken Sandwich, Crispy       530   \n424  Dairy Queen                 Chicken Bacon Ranch Sandwich       500   \n425  Dairy Queen                    Biscuit Sandwich with Ham       350   \n426  Dairy Queen                Biscuit Sandwich with Sausage       400   \n427  Dairy Queen                Wild Alaskan Pollock Sandwich       410   \n428  Dairy Queen                  Biscuit Sandwich with Bacon       420   \n429  Dairy Queen             Chicken & Gravy Biscuit Sandwich       420   \n430  Dairy Queen         Kansas City BBQ Pulled Pork Sandwich       430   \n431  Dairy Queen                  Strawberry Smoothie, Medium       310   \n432  Dairy Queen                  Strawberry Smoothie, XLarge       540   \n433  Dairy Queen                   Strawberry Smoothie, Large       390   \n434  Dairy Queen                   Strawberry Smoothie, Small       230   \n435  Dairy Queen                  Tripleberry Smoothie, Large       470   \n436  Dairy Queen                 Tripleberry Smoothie, Medium       380   \n437  Dairy Queen                  Tripleberry Smoothie, Small       290   \n438  Dairy Queen                 Tripleberry Smoothie, XLarge       660   \n439  Dairy Queen             Mango Pineapple Smoothie, Medium       340   \n440  Dairy Queen             Mango Pineapple Smoothie, XLarge       590   \n441  Dairy Queen          OrangeBerry Xtreme Smoothie, XLarge       590   \n442  Dairy Queen             Papaya Paradise Smoothie, XLarge       580   \n443  Dairy Queen              Sunshine Orange Smoothie, Large       460   \n444  Dairy Queen              Sunshine Orange Smoothie, Small       250   \n445  Dairy Queen              Mango Pineapple Smoothie, Large       420   \n446  Dairy Queen           OrangeBerry Xtreme Smoothie, Large       420   \n447  Dairy Queen            Strawberry Banana Smoothie, Large       440   \n448  Dairy Queen            Strawberry Light Smoothie, XLarge       380   \n449  Dairy Queen             Strawberry Light Smoothie- Small       170   \n450  Dairy Queen            Tripleberry Light Smoothie, Large       260   \n451  Dairy Queen                    Chicken and Gravy Burrito       320   \n452  Dairy Queen       Classic Breakfast Burrito with Sausage       320   \n453  Dairy Queen           Classic Breakfast Burrito with Ham       290   \n454  Dairy Queen         Classic Breakfast Burrito with Bacon       340   \n\n     Protein (Cal)  Carbohydrate (Cal)  Fiber (gr)  Total Sugar (Cal)  \\\n410              8                 104           1                 76   \n411             12                 104           1                 72   \n412             12                 112           1                 80   \n413             12                  96           1                 68   \n414             72                 124           1                 28   \n415            176                 120           1                 24   \n416              4                  20           2                 12   \n417            140                  40           3                 20   \n418            104                 112           4                 20   \n419             76                  92           3                  8   \n420             76                 192           2                 24   \n421            136                 180           3                 12   \n422            124                 176           2                 12   \n423             92                 180           3                 20   \n424            132                 180           3                 12   \n425             52                  76           1                  4   \n426             60                  72           1                  4   \n427             56                 184           2                 24   \n428             56                  76           1                  4   \n429             52                 116           1                  4   \n430            132                 276           2                104   \n431             20                 312           1                280   \n432             36                 548           2                492   \n433             28                 388           1                344   \n434             16                 236           1                212   \n435             28                 452           2                412   \n436             20                 364           2                332   \n437             12                 280           1                256   \n438             36                 644           3                588   \n439             20                 316           1                288   \n440             32                 556           1                508   \n441             32                 580           1                512   \n442             36                 572           2                520   \n443             24                 432           0                384   \n444             12                 240           0                216   \n445             24                 396           1                356   \n446             24                 412           1                360   \n447             32                 440           3                376   \n448              8                 408           2                388   \n449              4                 184           1                176   \n450              4                 264           2                252   \n451             60                 124           2                  4   \n452             44                 120           2                  4   \n453             40                 120           2                  4   \n454             44                 120           2                  4   \n\n     Total Fat (Cal)  Total Trans Fat (Cal)  Total Saturated Fat (Cal)  \\\n410             81.0                    0.0                       54.0   \n411             90.0                    0.0                       54.0   \n412             81.0                    0.0                       63.0   \n413             90.0                    0.0                       54.0   \n414            126.0                    5.0                       54.0   \n415            423.0                   20.0                      171.0   \n416              0.0                    0.0                        0.0   \n417             99.0                    0.0                       45.0   \n418            189.0                    0.0                       54.0   \n419            144.0                    0.0                       40.5   \n420            306.0                    0.0                       63.0   \n421            252.0                    0.0                       81.0   \n422            135.0                    0.0                       22.5   \n423            261.0                    0.0                       40.5   \n424            180.0                    0.0                       72.0   \n425            162.0                    0.0                       54.0   \n426            216.0                    0.0                       72.0   \n427            162.0                    0.0                       27.0   \n428            234.0                    0.0                       81.0   \n429            189.0                    0.0                       54.0   \n430            135.0                    0.0                       40.5   \n431              4.5                    0.0                        0.0   \n432              9.0                    0.0                        0.0   \n433              4.5                    0.0                        0.0   \n434              0.0                    0.0                        0.0   \n435             13.5                    0.0                        0.0   \n436              9.0                    0.0                        0.0   \n437              9.0                    0.0                        0.0   \n438             18.0                    0.0                        4.5   \n439              0.0                    0.0                        0.0   \n440              9.0                    0.0                        4.5   \n441              4.5                    0.0                        0.0   \n442              9.0                    0.0                        0.0   \n443              0.0                    0.0                        0.0   \n444              0.0                    0.0                        0.0   \n445              4.5                    0.0                        0.0   \n446              4.5                    0.0                        0.0   \n447              9.0                    0.0                        0.0   \n448              0.0                    0.0                        0.0   \n449              0.0                    0.0                        0.0   \n450              9.0                    0.0                        0.0   \n451            135.0                    0.0                       45.0   \n452            153.0                    0.0                       45.0   \n453            126.0                    0.0                       40.5   \n454            171.0                    0.0                       54.0   \n\n     Cholesterol (mg)  Calcium (mg)  Iron (mg)  Sodium (mg)  \\\n410                 5             0        0.0           90   \n411                10             0        0.0          100   \n412                 5             0        0.0           85   \n413                 5             0        0.0          110   \n414                50             0        0.0          620   \n415               145             0        0.0         1390   \n416                 0             0        0.0           15   \n417                80             0        0.0         1090   \n418                60             0        0.0         1070   \n419                45             0        0.0          770   \n420                45             0        0.0          910   \n421                90             0        0.0         1550   \n422                60             0        0.0         1150   \n423                60             0        0.0          900   \n424                75             0        0.0         1160   \n425               185             0        0.0          980   \n426               195             0        0.0          810   \n427                30             0        0.0         1010   \n428               190             0        0.0          940   \n429                25             0        0.0         1020   \n430                90             0        0.0         1410   \n431                 0             0        0.0          130   \n432                 0             0        0.0          220   \n433                 0             0        0.0          170   \n434                 0             0        0.0           90   \n435                 0             0        0.0          170   \n436                 0             0        0.0          125   \n437                 0             0        0.0           85   \n438                 0             0        0.0          210   \n439                 0             0        0.0          130   \n440                 0             0        0.0          220   \n441                 0             0        0.0          210   \n442                 0             0        0.0          220   \n443                 0             0        0.0          180   \n444                 0             0        0.0           90   \n445                 0             0        0.0          170   \n446                 0             0        0.0          170   \n447                 0             0        0.0          170   \n448                 0             0        0.0           35   \n449                 0             0        0.0           15   \n450                 0             0        0.0           20   \n451               110             0        0.0          840   \n452               100             0        0.0          730   \n453               100             0        0.0          810   \n454               100             0        0.0          830   \n\n     Vitamin A (mcg RAE)  Vitamin C (mg)  \n410                  0.0             0.0  \n411                  0.0             0.0  \n412                  0.0             0.0  \n413                  0.0             0.0  \n414                  0.0             0.0  \n415                  0.0             0.0  \n416                  0.0             0.0  \n417                  0.0             0.0  \n418                  0.0             0.0  \n419                  0.0             0.0  \n420                  0.0             0.0  \n421                  0.0             0.0  \n422                  0.0             0.0  \n423                  0.0             0.0  \n424                  0.0             0.0  \n425                  0.0             0.0  \n426                  0.0             0.0  \n427                  0.0             0.0  \n428                  0.0             0.0  \n429                  0.0             0.0  \n430                  0.0             0.0  \n431                  0.0             0.0  \n432                  0.0             0.0  \n433                  0.0             0.0  \n434                  0.0             0.0  \n435                  0.0             0.0  \n436                  0.0             0.0  \n437                  0.0             0.0  \n438                  0.0             0.0  \n439                  0.0             0.0  \n440                  0.0             0.0  \n441                  0.0             0.0  \n442                  0.0             0.0  \n443                  0.0             0.0  \n444                  0.0             0.0  \n445                  0.0             0.0  \n446                  0.0             0.0  \n447                  0.0             0.0  \n448                  0.0             0.0  \n449                  0.0             0.0  \n450                  0.0             0.0  \n451                  0.0             0.0  \n452                  0.0             0.0  \n453                  0.0             0.0  \n454                  0.0             0.0  ",
      "text/html": "<div>\n<style scoped>\n    .dataframe tbody tr th:only-of-type {\n        vertical-align: middle;\n    }\n\n    .dataframe tbody tr th {\n        vertical-align: top;\n    }\n\n    .dataframe thead th {\n        text-align: right;\n    }\n</style>\n<table border=\"1\" class=\"dataframe\">\n  <thead>\n    <tr style=\"text-align: right;\">\n      <th></th>\n      <th>Restaurant</th>\n      <th>Food_Name</th>\n      <th>Calories</th>\n      <th>Protein (Cal)</th>\n      <th>Carbohydrate (Cal)</th>\n      <th>Fiber (gr)</th>\n      <th>Total Sugar (Cal)</th>\n      <th>Total Fat (Cal)</th>\n      <th>Total Trans Fat (Cal)</th>\n      <th>Total Saturated Fat (Cal)</th>\n      <th>Cholesterol (mg)</th>\n      <th>Calcium (mg)</th>\n      <th>Iron (mg)</th>\n      <th>Sodium (mg)</th>\n      <th>Vitamin A (mcg RAE)</th>\n      <th>Vitamin C (mg)</th>\n    </tr>\n  </thead>\n  <tbody>\n    <tr>\n      <th>410</th>\n      <td>Dairy Queen</td>\n      <td>DQ Treatzza Pizza, Heath</td>\n      <td>190</td>\n      <td>8</td>\n      <td>104</td>\n      <td>1</td>\n      <td>76</td>\n      <td>81.0</td>\n      <td>0.0</td>\n      <td>54.0</td>\n      <td>5</td>\n      <td>0</td>\n      <td>0.0</td>\n      <td>90</td>\n      <td>0.0</td>\n      <td>0.0</td>\n    </tr>\n    <tr>\n      <th>411</th>\n      <td>Dairy Queen</td>\n      <td>DQ Treatzza Pizza, Choco Brownie</td>\n      <td>190</td>\n      <td>12</td>\n      <td>104</td>\n      <td>1</td>\n      <td>72</td>\n      <td>90.0</td>\n      <td>0.0</td>\n      <td>54.0</td>\n      <td>10</td>\n      <td>0</td>\n      <td>0.0</td>\n      <td>100</td>\n      <td>0.0</td>\n      <td>0.0</td>\n    </tr>\n    <tr>\n      <th>412</th>\n      <td>Dairy Queen</td>\n      <td>DQ Treatzza Pizza, M&amp;M'sChocolate Candies</td>\n      <td>200</td>\n      <td>12</td>\n      <td>112</td>\n      <td>1</td>\n      <td>80</td>\n      <td>81.0</td>\n      <td>0.0</td>\n      <td>63.0</td>\n      <td>5</td>\n      <td>0</td>\n      <td>0.0</td>\n      <td>85</td>\n      <td>0.0</td>\n      <td>0.0</td>\n    </tr>\n    <tr>\n      <th>413</th>\n      <td>Dairy Queen</td>\n      <td>DQ Treatzza Pizza, Reese'sPeanut Butter Cup</td>\n      <td>200</td>\n      <td>12</td>\n      <td>96</td>\n      <td>1</td>\n      <td>68</td>\n      <td>90.0</td>\n      <td>0.0</td>\n      <td>54.0</td>\n      <td>5</td>\n      <td>0</td>\n      <td>0.0</td>\n      <td>110</td>\n      <td>0.0</td>\n      <td>0.0</td>\n    </tr>\n    <tr>\n      <th>414</th>\n      <td>Dairy Queen</td>\n      <td>Kids Hamburger</td>\n      <td>320</td>\n      <td>72</td>\n      <td>124</td>\n      <td>1</td>\n      <td>28</td>\n      <td>126.0</td>\n      <td>5.0</td>\n      <td>54.0</td>\n      <td>50</td>\n      <td>0</td>\n      <td>0.0</td>\n      <td>620</td>\n      <td>0.0</td>\n      <td>0.0</td>\n    </tr>\n    <tr>\n      <th>415</th>\n      <td>Dairy Queen</td>\n      <td>DQ Ultimate Burger</td>\n      <td>720</td>\n      <td>176</td>\n      <td>120</td>\n      <td>1</td>\n      <td>24</td>\n      <td>423.0</td>\n      <td>20.0</td>\n      <td>171.0</td>\n      <td>145</td>\n      <td>0</td>\n      <td>0.0</td>\n      <td>1390</td>\n      <td>0.0</td>\n      <td>0.0</td>\n    </tr>\n    <tr>\n      <th>416</th>\n      <td>Dairy Queen</td>\n      <td>Side Salad</td>\n      <td>25</td>\n      <td>4</td>\n      <td>20</td>\n      <td>2</td>\n      <td>12</td>\n      <td>0.0</td>\n      <td>0.0</td>\n      <td>0.0</td>\n      <td>0</td>\n      <td>0</td>\n      <td>0.0</td>\n      <td>15</td>\n      <td>0.0</td>\n      <td>0.0</td>\n    </tr>\n    <tr>\n      <th>417</th>\n      <td>Dairy Queen</td>\n      <td>Chicken BLT Salad, Grilled</td>\n      <td>270</td>\n      <td>140</td>\n      <td>40</td>\n      <td>3</td>\n      <td>20</td>\n      <td>99.0</td>\n      <td>0.0</td>\n      <td>45.0</td>\n      <td>80</td>\n      <td>0</td>\n      <td>0.0</td>\n      <td>1090</td>\n      <td>0.0</td>\n      <td>0.0</td>\n    </tr>\n    <tr>\n      <th>418</th>\n      <td>Dairy Queen</td>\n      <td>Chicken BLT Salad, Crispy</td>\n      <td>400</td>\n      <td>104</td>\n      <td>112</td>\n      <td>4</td>\n      <td>20</td>\n      <td>189.0</td>\n      <td>0.0</td>\n      <td>54.0</td>\n      <td>60</td>\n      <td>0</td>\n      <td>0.0</td>\n      <td>1070</td>\n      <td>0.0</td>\n      <td>0.0</td>\n    </tr>\n    <tr>\n      <th>419</th>\n      <td>Dairy Queen</td>\n      <td>$5 Buck Lunch Crispy Chicken Salad</td>\n      <td>310</td>\n      <td>76</td>\n      <td>92</td>\n      <td>3</td>\n      <td>8</td>\n      <td>144.0</td>\n      <td>0.0</td>\n      <td>40.5</td>\n      <td>45</td>\n      <td>0</td>\n      <td>0.0</td>\n      <td>770</td>\n      <td>0.0</td>\n      <td>0.0</td>\n    </tr>\n    <tr>\n      <th>420</th>\n      <td>Dairy Queen</td>\n      <td>Pork Tenderloin Sandwich</td>\n      <td>580</td>\n      <td>76</td>\n      <td>192</td>\n      <td>2</td>\n      <td>24</td>\n      <td>306.0</td>\n      <td>0.0</td>\n      <td>63.0</td>\n      <td>45</td>\n      <td>0</td>\n      <td>0.0</td>\n      <td>910</td>\n      <td>0.0</td>\n      <td>0.0</td>\n    </tr>\n    <tr>\n      <th>421</th>\n      <td>Dairy Queen</td>\n      <td>Turkey BLT Sandwich</td>\n      <td>580</td>\n      <td>136</td>\n      <td>180</td>\n      <td>3</td>\n      <td>12</td>\n      <td>252.0</td>\n      <td>0.0</td>\n      <td>81.0</td>\n      <td>90</td>\n      <td>0</td>\n      <td>0.0</td>\n      <td>1550</td>\n      <td>0.0</td>\n      <td>0.0</td>\n    </tr>\n    <tr>\n      <th>422</th>\n      <td>Dairy Queen</td>\n      <td>Chicken Sandwich, Grilled</td>\n      <td>440</td>\n      <td>124</td>\n      <td>176</td>\n      <td>2</td>\n      <td>12</td>\n      <td>135.0</td>\n      <td>0.0</td>\n      <td>22.5</td>\n      <td>60</td>\n      <td>0</td>\n      <td>0.0</td>\n      <td>1150</td>\n      <td>0.0</td>\n      <td>0.0</td>\n    </tr>\n    <tr>\n      <th>423</th>\n      <td>Dairy Queen</td>\n      <td>Chicken Sandwich, Crispy</td>\n      <td>530</td>\n      <td>92</td>\n      <td>180</td>\n      <td>3</td>\n      <td>20</td>\n      <td>261.0</td>\n      <td>0.0</td>\n      <td>40.5</td>\n      <td>60</td>\n      <td>0</td>\n      <td>0.0</td>\n      <td>900</td>\n      <td>0.0</td>\n      <td>0.0</td>\n    </tr>\n    <tr>\n      <th>424</th>\n      <td>Dairy Queen</td>\n      <td>Chicken Bacon Ranch Sandwich</td>\n      <td>500</td>\n      <td>132</td>\n      <td>180</td>\n      <td>3</td>\n      <td>12</td>\n      <td>180.0</td>\n      <td>0.0</td>\n      <td>72.0</td>\n      <td>75</td>\n      <td>0</td>\n      <td>0.0</td>\n      <td>1160</td>\n      <td>0.0</td>\n      <td>0.0</td>\n    </tr>\n    <tr>\n      <th>425</th>\n      <td>Dairy Queen</td>\n      <td>Biscuit Sandwich with Ham</td>\n      <td>350</td>\n      <td>52</td>\n      <td>76</td>\n      <td>1</td>\n      <td>4</td>\n      <td>162.0</td>\n      <td>0.0</td>\n      <td>54.0</td>\n      <td>185</td>\n      <td>0</td>\n      <td>0.0</td>\n      <td>980</td>\n      <td>0.0</td>\n      <td>0.0</td>\n    </tr>\n    <tr>\n      <th>426</th>\n      <td>Dairy Queen</td>\n      <td>Biscuit Sandwich with Sausage</td>\n      <td>400</td>\n      <td>60</td>\n      <td>72</td>\n      <td>1</td>\n      <td>4</td>\n      <td>216.0</td>\n      <td>0.0</td>\n      <td>72.0</td>\n      <td>195</td>\n      <td>0</td>\n      <td>0.0</td>\n      <td>810</td>\n      <td>0.0</td>\n      <td>0.0</td>\n    </tr>\n    <tr>\n      <th>427</th>\n      <td>Dairy Queen</td>\n      <td>Wild Alaskan Pollock Sandwich</td>\n      <td>410</td>\n      <td>56</td>\n      <td>184</td>\n      <td>2</td>\n      <td>24</td>\n      <td>162.0</td>\n      <td>0.0</td>\n      <td>27.0</td>\n      <td>30</td>\n      <td>0</td>\n      <td>0.0</td>\n      <td>1010</td>\n      <td>0.0</td>\n      <td>0.0</td>\n    </tr>\n    <tr>\n      <th>428</th>\n      <td>Dairy Queen</td>\n      <td>Biscuit Sandwich with Bacon</td>\n      <td>420</td>\n      <td>56</td>\n      <td>76</td>\n      <td>1</td>\n      <td>4</td>\n      <td>234.0</td>\n      <td>0.0</td>\n      <td>81.0</td>\n      <td>190</td>\n      <td>0</td>\n      <td>0.0</td>\n      <td>940</td>\n      <td>0.0</td>\n      <td>0.0</td>\n    </tr>\n    <tr>\n      <th>429</th>\n      <td>Dairy Queen</td>\n      <td>Chicken &amp; Gravy Biscuit Sandwich</td>\n      <td>420</td>\n      <td>52</td>\n      <td>116</td>\n      <td>1</td>\n      <td>4</td>\n      <td>189.0</td>\n      <td>0.0</td>\n      <td>54.0</td>\n      <td>25</td>\n      <td>0</td>\n      <td>0.0</td>\n      <td>1020</td>\n      <td>0.0</td>\n      <td>0.0</td>\n    </tr>\n    <tr>\n      <th>430</th>\n      <td>Dairy Queen</td>\n      <td>Kansas City BBQ Pulled Pork Sandwich</td>\n      <td>430</td>\n      <td>132</td>\n      <td>276</td>\n      <td>2</td>\n      <td>104</td>\n      <td>135.0</td>\n      <td>0.0</td>\n      <td>40.5</td>\n      <td>90</td>\n      <td>0</td>\n      <td>0.0</td>\n      <td>1410</td>\n      <td>0.0</td>\n      <td>0.0</td>\n    </tr>\n    <tr>\n      <th>431</th>\n      <td>Dairy Queen</td>\n      <td>Strawberry Smoothie, Medium</td>\n      <td>310</td>\n      <td>20</td>\n      <td>312</td>\n      <td>1</td>\n      <td>280</td>\n      <td>4.5</td>\n      <td>0.0</td>\n      <td>0.0</td>\n      <td>0</td>\n      <td>0</td>\n      <td>0.0</td>\n      <td>130</td>\n      <td>0.0</td>\n      <td>0.0</td>\n    </tr>\n    <tr>\n      <th>432</th>\n      <td>Dairy Queen</td>\n      <td>Strawberry Smoothie, XLarge</td>\n      <td>540</td>\n      <td>36</td>\n      <td>548</td>\n      <td>2</td>\n      <td>492</td>\n      <td>9.0</td>\n      <td>0.0</td>\n      <td>0.0</td>\n      <td>0</td>\n      <td>0</td>\n      <td>0.0</td>\n      <td>220</td>\n      <td>0.0</td>\n      <td>0.0</td>\n    </tr>\n    <tr>\n      <th>433</th>\n      <td>Dairy Queen</td>\n      <td>Strawberry Smoothie, Large</td>\n      <td>390</td>\n      <td>28</td>\n      <td>388</td>\n      <td>1</td>\n      <td>344</td>\n      <td>4.5</td>\n      <td>0.0</td>\n      <td>0.0</td>\n      <td>0</td>\n      <td>0</td>\n      <td>0.0</td>\n      <td>170</td>\n      <td>0.0</td>\n      <td>0.0</td>\n    </tr>\n    <tr>\n      <th>434</th>\n      <td>Dairy Queen</td>\n      <td>Strawberry Smoothie, Small</td>\n      <td>230</td>\n      <td>16</td>\n      <td>236</td>\n      <td>1</td>\n      <td>212</td>\n      <td>0.0</td>\n      <td>0.0</td>\n      <td>0.0</td>\n      <td>0</td>\n      <td>0</td>\n      <td>0.0</td>\n      <td>90</td>\n      <td>0.0</td>\n      <td>0.0</td>\n    </tr>\n    <tr>\n      <th>435</th>\n      <td>Dairy Queen</td>\n      <td>Tripleberry Smoothie, Large</td>\n      <td>470</td>\n      <td>28</td>\n      <td>452</td>\n      <td>2</td>\n      <td>412</td>\n      <td>13.5</td>\n      <td>0.0</td>\n      <td>0.0</td>\n      <td>0</td>\n      <td>0</td>\n      <td>0.0</td>\n      <td>170</td>\n      <td>0.0</td>\n      <td>0.0</td>\n    </tr>\n    <tr>\n      <th>436</th>\n      <td>Dairy Queen</td>\n      <td>Tripleberry Smoothie, Medium</td>\n      <td>380</td>\n      <td>20</td>\n      <td>364</td>\n      <td>2</td>\n      <td>332</td>\n      <td>9.0</td>\n      <td>0.0</td>\n      <td>0.0</td>\n      <td>0</td>\n      <td>0</td>\n      <td>0.0</td>\n      <td>125</td>\n      <td>0.0</td>\n      <td>0.0</td>\n    </tr>\n    <tr>\n      <th>437</th>\n      <td>Dairy Queen</td>\n      <td>Tripleberry Smoothie, Small</td>\n      <td>290</td>\n      <td>12</td>\n      <td>280</td>\n      <td>1</td>\n      <td>256</td>\n      <td>9.0</td>\n      <td>0.0</td>\n      <td>0.0</td>\n      <td>0</td>\n      <td>0</td>\n      <td>0.0</td>\n      <td>85</td>\n      <td>0.0</td>\n      <td>0.0</td>\n    </tr>\n    <tr>\n      <th>438</th>\n      <td>Dairy Queen</td>\n      <td>Tripleberry Smoothie, XLarge</td>\n      <td>660</td>\n      <td>36</td>\n      <td>644</td>\n      <td>3</td>\n      <td>588</td>\n      <td>18.0</td>\n      <td>0.0</td>\n      <td>4.5</td>\n      <td>0</td>\n      <td>0</td>\n      <td>0.0</td>\n      <td>210</td>\n      <td>0.0</td>\n      <td>0.0</td>\n    </tr>\n    <tr>\n      <th>439</th>\n      <td>Dairy Queen</td>\n      <td>Mango Pineapple Smoothie, Medium</td>\n      <td>340</td>\n      <td>20</td>\n      <td>316</td>\n      <td>1</td>\n      <td>288</td>\n      <td>0.0</td>\n      <td>0.0</td>\n      <td>0.0</td>\n      <td>0</td>\n      <td>0</td>\n      <td>0.0</td>\n      <td>130</td>\n      <td>0.0</td>\n      <td>0.0</td>\n    </tr>\n    <tr>\n      <th>440</th>\n      <td>Dairy Queen</td>\n      <td>Mango Pineapple Smoothie, XLarge</td>\n      <td>590</td>\n      <td>32</td>\n      <td>556</td>\n      <td>1</td>\n      <td>508</td>\n      <td>9.0</td>\n      <td>0.0</td>\n      <td>4.5</td>\n      <td>0</td>\n      <td>0</td>\n      <td>0.0</td>\n      <td>220</td>\n      <td>0.0</td>\n      <td>0.0</td>\n    </tr>\n    <tr>\n      <th>441</th>\n      <td>Dairy Queen</td>\n      <td>OrangeBerry Xtreme Smoothie, XLarge</td>\n      <td>590</td>\n      <td>32</td>\n      <td>580</td>\n      <td>1</td>\n      <td>512</td>\n      <td>4.5</td>\n      <td>0.0</td>\n      <td>0.0</td>\n      <td>0</td>\n      <td>0</td>\n      <td>0.0</td>\n      <td>210</td>\n      <td>0.0</td>\n      <td>0.0</td>\n    </tr>\n    <tr>\n      <th>442</th>\n      <td>Dairy Queen</td>\n      <td>Papaya Paradise Smoothie, XLarge</td>\n      <td>580</td>\n      <td>36</td>\n      <td>572</td>\n      <td>2</td>\n      <td>520</td>\n      <td>9.0</td>\n      <td>0.0</td>\n      <td>0.0</td>\n      <td>0</td>\n      <td>0</td>\n      <td>0.0</td>\n      <td>220</td>\n      <td>0.0</td>\n      <td>0.0</td>\n    </tr>\n    <tr>\n      <th>443</th>\n      <td>Dairy Queen</td>\n      <td>Sunshine Orange Smoothie, Large</td>\n      <td>460</td>\n      <td>24</td>\n      <td>432</td>\n      <td>0</td>\n      <td>384</td>\n      <td>0.0</td>\n      <td>0.0</td>\n      <td>0.0</td>\n      <td>0</td>\n      <td>0</td>\n      <td>0.0</td>\n      <td>180</td>\n      <td>0.0</td>\n      <td>0.0</td>\n    </tr>\n    <tr>\n      <th>444</th>\n      <td>Dairy Queen</td>\n      <td>Sunshine Orange Smoothie, Small</td>\n      <td>250</td>\n      <td>12</td>\n      <td>240</td>\n      <td>0</td>\n      <td>216</td>\n      <td>0.0</td>\n      <td>0.0</td>\n      <td>0.0</td>\n      <td>0</td>\n      <td>0</td>\n      <td>0.0</td>\n      <td>90</td>\n      <td>0.0</td>\n      <td>0.0</td>\n    </tr>\n    <tr>\n      <th>445</th>\n      <td>Dairy Queen</td>\n      <td>Mango Pineapple Smoothie, Large</td>\n      <td>420</td>\n      <td>24</td>\n      <td>396</td>\n      <td>1</td>\n      <td>356</td>\n      <td>4.5</td>\n      <td>0.0</td>\n      <td>0.0</td>\n      <td>0</td>\n      <td>0</td>\n      <td>0.0</td>\n      <td>170</td>\n      <td>0.0</td>\n      <td>0.0</td>\n    </tr>\n    <tr>\n      <th>446</th>\n      <td>Dairy Queen</td>\n      <td>OrangeBerry Xtreme Smoothie, Large</td>\n      <td>420</td>\n      <td>24</td>\n      <td>412</td>\n      <td>1</td>\n      <td>360</td>\n      <td>4.5</td>\n      <td>0.0</td>\n      <td>0.0</td>\n      <td>0</td>\n      <td>0</td>\n      <td>0.0</td>\n      <td>170</td>\n      <td>0.0</td>\n      <td>0.0</td>\n    </tr>\n    <tr>\n      <th>447</th>\n      <td>Dairy Queen</td>\n      <td>Strawberry Banana Smoothie, Large</td>\n      <td>440</td>\n      <td>32</td>\n      <td>440</td>\n      <td>3</td>\n      <td>376</td>\n      <td>9.0</td>\n      <td>0.0</td>\n      <td>0.0</td>\n      <td>0</td>\n      <td>0</td>\n      <td>0.0</td>\n      <td>170</td>\n      <td>0.0</td>\n      <td>0.0</td>\n    </tr>\n    <tr>\n      <th>448</th>\n      <td>Dairy Queen</td>\n      <td>Strawberry Light Smoothie, XLarge</td>\n      <td>380</td>\n      <td>8</td>\n      <td>408</td>\n      <td>2</td>\n      <td>388</td>\n      <td>0.0</td>\n      <td>0.0</td>\n      <td>0.0</td>\n      <td>0</td>\n      <td>0</td>\n      <td>0.0</td>\n      <td>35</td>\n      <td>0.0</td>\n      <td>0.0</td>\n    </tr>\n    <tr>\n      <th>449</th>\n      <td>Dairy Queen</td>\n      <td>Strawberry Light Smoothie- Small</td>\n      <td>170</td>\n      <td>4</td>\n      <td>184</td>\n      <td>1</td>\n      <td>176</td>\n      <td>0.0</td>\n      <td>0.0</td>\n      <td>0.0</td>\n      <td>0</td>\n      <td>0</td>\n      <td>0.0</td>\n      <td>15</td>\n      <td>0.0</td>\n      <td>0.0</td>\n    </tr>\n    <tr>\n      <th>450</th>\n      <td>Dairy Queen</td>\n      <td>Tripleberry Light Smoothie, Large</td>\n      <td>260</td>\n      <td>4</td>\n      <td>264</td>\n      <td>2</td>\n      <td>252</td>\n      <td>9.0</td>\n      <td>0.0</td>\n      <td>0.0</td>\n      <td>0</td>\n      <td>0</td>\n      <td>0.0</td>\n      <td>20</td>\n      <td>0.0</td>\n      <td>0.0</td>\n    </tr>\n    <tr>\n      <th>451</th>\n      <td>Dairy Queen</td>\n      <td>Chicken and Gravy Burrito</td>\n      <td>320</td>\n      <td>60</td>\n      <td>124</td>\n      <td>2</td>\n      <td>4</td>\n      <td>135.0</td>\n      <td>0.0</td>\n      <td>45.0</td>\n      <td>110</td>\n      <td>0</td>\n      <td>0.0</td>\n      <td>840</td>\n      <td>0.0</td>\n      <td>0.0</td>\n    </tr>\n    <tr>\n      <th>452</th>\n      <td>Dairy Queen</td>\n      <td>Classic Breakfast Burrito with Sausage</td>\n      <td>320</td>\n      <td>44</td>\n      <td>120</td>\n      <td>2</td>\n      <td>4</td>\n      <td>153.0</td>\n      <td>0.0</td>\n      <td>45.0</td>\n      <td>100</td>\n      <td>0</td>\n      <td>0.0</td>\n      <td>730</td>\n      <td>0.0</td>\n      <td>0.0</td>\n    </tr>\n    <tr>\n      <th>453</th>\n      <td>Dairy Queen</td>\n      <td>Classic Breakfast Burrito with Ham</td>\n      <td>290</td>\n      <td>40</td>\n      <td>120</td>\n      <td>2</td>\n      <td>4</td>\n      <td>126.0</td>\n      <td>0.0</td>\n      <td>40.5</td>\n      <td>100</td>\n      <td>0</td>\n      <td>0.0</td>\n      <td>810</td>\n      <td>0.0</td>\n      <td>0.0</td>\n    </tr>\n    <tr>\n      <th>454</th>\n      <td>Dairy Queen</td>\n      <td>Classic Breakfast Burrito with Bacon</td>\n      <td>340</td>\n      <td>44</td>\n      <td>120</td>\n      <td>2</td>\n      <td>4</td>\n      <td>171.0</td>\n      <td>0.0</td>\n      <td>54.0</td>\n      <td>100</td>\n      <td>0</td>\n      <td>0.0</td>\n      <td>830</td>\n      <td>0.0</td>\n      <td>0.0</td>\n    </tr>\n  </tbody>\n</table>\n</div>"
     },
     "metadata": {},
     "execution_count": 31
    }
   ],
   "source": [
    "foodFiltered_df[foodFiltered_df['Restaurant']== 'Dairy Queen']"
   ]
  },
  {
   "cell_type": "code",
   "execution_count": 32,
   "metadata": {},
   "outputs": [
    {
     "output_type": "execute_result",
     "data": {
      "text/plain": "    AGE  Sedentary  Moderately active  Active\n0    14       2000               2400    2800\n1    15       2200               2600    3000\n2    16       2400               2800    3200\n3    17       2400               2800    3200\n4    18       2400               2800    3200\n..  ...        ...                ...     ...\n58   72       2000               2200    2600\n59   73       2000               2200    2600\n60   74       2000               2200    2600\n61   75       2000               2200    2600\n62   76       2000               2200    2400\n\n[63 rows x 4 columns]",
      "text/html": "<div>\n<style scoped>\n    .dataframe tbody tr th:only-of-type {\n        vertical-align: middle;\n    }\n\n    .dataframe tbody tr th {\n        vertical-align: top;\n    }\n\n    .dataframe thead th {\n        text-align: right;\n    }\n</style>\n<table border=\"1\" class=\"dataframe\">\n  <thead>\n    <tr style=\"text-align: right;\">\n      <th></th>\n      <th>AGE</th>\n      <th>Sedentary</th>\n      <th>Moderately active</th>\n      <th>Active</th>\n    </tr>\n  </thead>\n  <tbody>\n    <tr>\n      <th>0</th>\n      <td>14</td>\n      <td>2000</td>\n      <td>2400</td>\n      <td>2800</td>\n    </tr>\n    <tr>\n      <th>1</th>\n      <td>15</td>\n      <td>2200</td>\n      <td>2600</td>\n      <td>3000</td>\n    </tr>\n    <tr>\n      <th>2</th>\n      <td>16</td>\n      <td>2400</td>\n      <td>2800</td>\n      <td>3200</td>\n    </tr>\n    <tr>\n      <th>3</th>\n      <td>17</td>\n      <td>2400</td>\n      <td>2800</td>\n      <td>3200</td>\n    </tr>\n    <tr>\n      <th>4</th>\n      <td>18</td>\n      <td>2400</td>\n      <td>2800</td>\n      <td>3200</td>\n    </tr>\n    <tr>\n      <th>...</th>\n      <td>...</td>\n      <td>...</td>\n      <td>...</td>\n      <td>...</td>\n    </tr>\n    <tr>\n      <th>58</th>\n      <td>72</td>\n      <td>2000</td>\n      <td>2200</td>\n      <td>2600</td>\n    </tr>\n    <tr>\n      <th>59</th>\n      <td>73</td>\n      <td>2000</td>\n      <td>2200</td>\n      <td>2600</td>\n    </tr>\n    <tr>\n      <th>60</th>\n      <td>74</td>\n      <td>2000</td>\n      <td>2200</td>\n      <td>2600</td>\n    </tr>\n    <tr>\n      <th>61</th>\n      <td>75</td>\n      <td>2000</td>\n      <td>2200</td>\n      <td>2600</td>\n    </tr>\n    <tr>\n      <th>62</th>\n      <td>76</td>\n      <td>2000</td>\n      <td>2200</td>\n      <td>2400</td>\n    </tr>\n  </tbody>\n</table>\n<p>63 rows × 4 columns</p>\n</div>"
     },
     "metadata": {},
     "execution_count": 32
    }
   ],
   "source": [
    "#Load kcal requirments from FDA\n",
    "\n",
    "calorieNeeds_male = pd.read_excel('../../FDA Tables XLSX/Appendix 2. Estimated Calorie Needs -2020 Dietary Guidelines _ health.gov_0002.xlsx', sheet_name = 'Males')\n",
    "\n",
    "calorieNeeds_male = calorieNeeds_male[calorieNeeds_male['AGE'] >= 14]\n",
    "\n",
    "calorieNeeds_male = calorieNeeds_male.reset_index(drop= True)\n",
    "\n",
    "calorieNeeds_male"
   ]
  },
  {
   "cell_type": "code",
   "execution_count": 33,
   "metadata": {},
   "outputs": [],
   "source": [
    "#Health Parameters Male\n",
    "\n",
    "nutritionParameters_dict = {'Protein (Cal)' : ((12 + 3) / 2)/100,\n",
    "                           'Carbohydrate (Cal)' : ((10 + 25) / 2) / 100,\n",
    "                           'Fiber (gr)' : (8 + 30) / 2,\n",
    "                           'Total Sugar (Cal)': .04, #https://www.livestrong.com/article/333407-how-many-calories-should-i-eat-at-lunch/\n",
    "                           'Total lipid (Cal)': ((12 + 8) / 2)/ 100,\n",
    "                           'Total Trans Fat (Cal)': .01, #https://medlineplus.gov/ency/patientinstructions/000786.htm#:~:text=You%20should%20limit%20saturated%20fat,or%202%20grams%20per%20day.\n",
    "                           'Total Saturated Fat (Cal)': 0.03,\n",
    "                           'Cholesterol (mg)' : 100, #https://www.healthline.com/health/high-cholesterol/rda#:~:text=Following%20dietary%20guidelines%2C%20doctors%20used,high%20risk%20of%20heart%20disease.\n",
    "                           'Calcium (mg)': (835 + 330) / 2,\n",
    "                           'Iron (mg)': (5 + 15) / 2,\n",
    "                           'Sodium, (mg)': (770 + 150)/2,\n",
    "                           'Vitamin A (mcg RAE)': (1000 + 230) / 2,\n",
    "                            'Vitamin C (mg)' : 21,\n",
    "                            'Calories per Meal' : 1/3}\n",
    "    \n"
   ]
  },
  {
   "cell_type": "markdown",
   "metadata": {},
   "source": [
    "maleNutrition19to30_dict = {'Protein (Cal)' : 0.225/3,\n",
    "                           'Carbohydrate (Cal)' : 0.175,\n",
    "                           'Fiber (gr)' : 33.6/3,\n",
    "                           'Total Sugar (gr)': 40/3, #https://www.livestrong.com/article/333407-how-many-calories-should-i-eat-at-lunch/\n",
    "                           'Total lipid (Cal)': 0.176/3,\n",
    "                           'Total Trans Fat (Cal)': .01/3, #https://medlineplus.gov/ency/patientinstructions/000786.htm#:~:text=You%20should%20limit%20saturated%20fat,or%202%20grams%20per%20day.\n",
    "                           'Total Saturated Fat (Cal)': 0.1/3,\n",
    "                           'Cholesterol (mg)' : 250/3, #https://www.healthline.com/health/high-cholesterol/rda#:~:text=Following%20dietary%20guidelines%2C%20doctors%20used,high%20risk%20of%20heart%20disease.\n",
    "                           'Calcium (mg)': 1000/3,\n",
    "                           'Iron (mg)': 8/2,\n",
    "                           'Sodium, (mg)': 2300/3,\n",
    "                           'Vitamin A, IU': 900/3,\n",
    "                            'Vitamin C (mg)' : 90/3}\n",
    "    \n",
    "maleNutrition31to50_dict = {'Protein (Cal)' : 0.225/3,\n",
    "                           'Carbohydrate (Cal)' : 0.175,\n",
    "                           'Fiber (gr)' : 30.8/3,\n",
    "                           'Total Sugar (gr)': 40/3, #https://www.livestrong.com/article/333407-how-many-calories-should-i-eat-at-lunch/\n",
    "                           'Total lipid (Cal)': 0.176/3,\n",
    "                            'Total Trans Fat (Cal)': .01/3, #https://medlineplus.gov/ency/patientinstructions/000786.htm#:~:text=You%20should%20limit%20saturated%20fat,or%202%20grams%20per%20day.\n",
    "                           'Total Saturated Fat (Cal)': 0.1/3,\n",
    "                           'Cholesterol (mg)' : 250/3, #https://www.healthline.com/health/high-cholesterol/rda#:~:text=Following%20dietary%20guidelines%2C%20doctors%20used,high%20risk%20of%20heart%20disease.\n",
    "                           'Calcium (mg)': 1000/3,\n",
    "                           'Iron (mg)': 8/2,\n",
    "                           'Sodium (mg)': 2300/3,\n",
    "                           'Vitamin A (mcg RAE)': 900/3,\n",
    "                            'Vitamin C (mg)' : 90/3}\n",
    "    \n",
    "maleNutrition51_dict = {'Protein (Cal)' : 0.225/3,\n",
    "                        'Carbohydrate (Cal)' : 0.175,\n",
    "                        'Fiber (gr)' : 28/3,\n",
    "                        'Total Sugar (gr)': 40/3, #https://www.livestrong.com/article/333407-how-many-calories-should-i-eat-at-lunch/\n",
    "                        'Total lipid (Cal)': 0.176/3,\n",
    "                        'Total Trans Fat (Cal)': .01/3, #https://medlineplus.gov/ency/patientinstructions/000786.htm#:~:text=You%20should%20limit%20saturated%20fat,or%202%20grams%20per%20day.\n",
    "                        'Total Saturated Fat (Cal)': 0.1/3,\n",
    "                        'Cholesterol (mg)' : 250/3, #https://www.healthline.com/health/high-cholesterol/rda#:~:text=Following%20dietary%20guidelines%2C%20doctors%20used,high%20risk%20of%20heart%20disease.\n",
    "                        'Calcium (mg)': 1000/3,\n",
    "                        'Iron (mg)': 8/2,\n",
    "                        'Sodium (mg)': 2300/3,\n",
    "                        'Vitamin A (mcg RAE)': 900/3,\n",
    "                        'Vitamin C (mg)' : 90/3}\n",
    "     "
   ]
  },
  {
   "cell_type": "code",
   "execution_count": 34,
   "metadata": {},
   "outputs": [
    {
     "output_type": "execute_result",
     "data": {
      "text/plain": "   Sedentary  Protein (Cal)  Carbohydrate (Cal)  Fiber (gr)  \\\n0     2000.0          150.0               350.0        19.0   \n1     2200.0          165.0               385.0        19.0   \n2     2400.0          180.0               420.0        19.0   \n3     2600.0          195.0               455.0        19.0   \n\n   Total Sugar (Cal)  Total lipid (Cal)  Total Trans Fat (Cal)  \\\n0               80.0              200.0                   20.0   \n1               88.0              220.0                   22.0   \n2               96.0              240.0                   24.0   \n3              104.0              260.0                   26.0   \n\n   Total Saturated Fat (Cal)  Cholesterol (mg)  Calcium (mg)  Iron (mg)  \\\n0                       60.0             100.0         582.5       10.0   \n1                       66.0             100.0         582.5       10.0   \n2                       72.0             100.0         582.5       10.0   \n3                       78.0             100.0         582.5       10.0   \n\n   Sodium, (mg)  Vitamin A (mcg RAE)  Vitamin C (mg)  Calories per Meal  \n0         460.0                615.0            21.0             666.67  \n1         460.0                615.0            21.0             733.33  \n2         460.0                615.0            21.0             800.00  \n3         460.0                615.0            21.0             866.67  ",
      "text/html": "<div>\n<style scoped>\n    .dataframe tbody tr th:only-of-type {\n        vertical-align: middle;\n    }\n\n    .dataframe tbody tr th {\n        vertical-align: top;\n    }\n\n    .dataframe thead th {\n        text-align: right;\n    }\n</style>\n<table border=\"1\" class=\"dataframe\">\n  <thead>\n    <tr style=\"text-align: right;\">\n      <th></th>\n      <th>Sedentary</th>\n      <th>Protein (Cal)</th>\n      <th>Carbohydrate (Cal)</th>\n      <th>Fiber (gr)</th>\n      <th>Total Sugar (Cal)</th>\n      <th>Total lipid (Cal)</th>\n      <th>Total Trans Fat (Cal)</th>\n      <th>Total Saturated Fat (Cal)</th>\n      <th>Cholesterol (mg)</th>\n      <th>Calcium (mg)</th>\n      <th>Iron (mg)</th>\n      <th>Sodium, (mg)</th>\n      <th>Vitamin A (mcg RAE)</th>\n      <th>Vitamin C (mg)</th>\n      <th>Calories per Meal</th>\n    </tr>\n  </thead>\n  <tbody>\n    <tr>\n      <th>0</th>\n      <td>2000.0</td>\n      <td>150.0</td>\n      <td>350.0</td>\n      <td>19.0</td>\n      <td>80.0</td>\n      <td>200.0</td>\n      <td>20.0</td>\n      <td>60.0</td>\n      <td>100.0</td>\n      <td>582.5</td>\n      <td>10.0</td>\n      <td>460.0</td>\n      <td>615.0</td>\n      <td>21.0</td>\n      <td>666.67</td>\n    </tr>\n    <tr>\n      <th>1</th>\n      <td>2200.0</td>\n      <td>165.0</td>\n      <td>385.0</td>\n      <td>19.0</td>\n      <td>88.0</td>\n      <td>220.0</td>\n      <td>22.0</td>\n      <td>66.0</td>\n      <td>100.0</td>\n      <td>582.5</td>\n      <td>10.0</td>\n      <td>460.0</td>\n      <td>615.0</td>\n      <td>21.0</td>\n      <td>733.33</td>\n    </tr>\n    <tr>\n      <th>2</th>\n      <td>2400.0</td>\n      <td>180.0</td>\n      <td>420.0</td>\n      <td>19.0</td>\n      <td>96.0</td>\n      <td>240.0</td>\n      <td>24.0</td>\n      <td>72.0</td>\n      <td>100.0</td>\n      <td>582.5</td>\n      <td>10.0</td>\n      <td>460.0</td>\n      <td>615.0</td>\n      <td>21.0</td>\n      <td>800.00</td>\n    </tr>\n    <tr>\n      <th>3</th>\n      <td>2600.0</td>\n      <td>195.0</td>\n      <td>455.0</td>\n      <td>19.0</td>\n      <td>104.0</td>\n      <td>260.0</td>\n      <td>26.0</td>\n      <td>78.0</td>\n      <td>100.0</td>\n      <td>582.5</td>\n      <td>10.0</td>\n      <td>460.0</td>\n      <td>615.0</td>\n      <td>21.0</td>\n      <td>866.67</td>\n    </tr>\n  </tbody>\n</table>\n</div>"
     },
     "metadata": {},
     "execution_count": 34
    }
   ],
   "source": [
    "#Lists of DataFrames with the information of the required nutrients for each age and lifestyle goup.\n",
    "\n",
    "maleInfo = []\n",
    "\n",
    "for lifeStyle in ['Sedentary','Moderately active','Active']:\n",
    "    \n",
    "    lifeStyle_df = calorieNeeds_male[['AGE', lifeStyle]]\n",
    "    \n",
    "    for index,row in lifeStyle_df.iterrows():\n",
    "\n",
    "        for key in nutritionParameters_dict.keys():\n",
    "\n",
    "            if key not in lifeStyle_df.columns:\n",
    "\n",
    "                lifeStyle_df[key] = ''\n",
    "\n",
    "                if (key == 'Protein (Cal)') |( key == 'Carbohydrate (Cal)') | (key == 'Total Sugar (Cal)') | (key == 'Total lipid (Cal)')| (key == 'Total Trans Fat (Cal)')|( key == 'Total Saturated Fat (Cal)') | (key == 'Calories per Meal'):\n",
    "\n",
    "                    lifeStyle_df.loc[index, key] = round(row[lifeStyle] * nutritionParameters_dict[key],2)\n",
    "\n",
    "                else:\n",
    "\n",
    "                    lifeStyle_df.loc[index, key] = round(nutritionParameters_dict[key],2)\n",
    "\n",
    "            else:\n",
    "\n",
    "                if (key == 'Protein (Cal)') |( key == 'Carbohydrate (Cal)') | (key == 'Total Sugar (Cal)') | (key == 'Total lipid (Cal)')| (key == 'Total Trans Fat (Cal)')|( key == 'Total Saturated Fat (Cal)') | (key == 'Calories per Meal'):\n",
    "\n",
    "                    lifeStyle_df.loc[index, key] = round(row[lifeStyle] * nutritionParameters_dict[key],2)\n",
    "\n",
    "                else:\n",
    "\n",
    "                    lifeStyle_df.loc[index, key] = round(nutritionParameters_dict[key],2)\n",
    "\n",
    "    columns = lifeStyle_df.columns.to_list()\n",
    "\n",
    "    lifeStyle_df[columns] = lifeStyle_df[columns].apply(pd.to_numeric, axis=1) \n",
    "\n",
    "    lifeStyle_df = lifeStyle_df.groupby(lifeStyle).mean().reset_index().drop(['AGE'], axis=1)\n",
    "                     \n",
    "    maleInfo.append(lifeStyle_df)\n",
    "                        \n",
    "maleInfo[0] #List of DataFrames for males and the intake limits for each meal. "
   ]
  },
  {
   "cell_type": "markdown",
   "metadata": {},
   "source": [
    "elif row['AGE'] > 19 & row['AGE'] <= 30 :\n",
    "\n",
    "            for key in maleNutrition19to30_dict.keys():\n",
    "\n",
    "                    if (key == 'Protein (Cal)') |( key == 'Carbohydrate (Cal)') | (key == 'Total lipid (Cal)')| (key == 'Total Trans Fat (Cal)')|( key == 'Total Saturated Fat (Cal)'):\n",
    "\n",
    "                        lifeStyle_df.loc[index, key] = round(row[lifeStyle] * maleNutrition19to30_dict[key],2)\n",
    "\n",
    "                    else:\n",
    "\n",
    "                        lifeStyle_df.loc[index, key] = round(maleNutrition19to30_dict[key],2)\n",
    "\n",
    "        elif row['AGE'] > 31 & row['AGE'] <= 50 :\n",
    "\n",
    "            for key in maleNutrition31to50_dict.keys():\n",
    "\n",
    "                    if (key == 'Protein (Cal)') |( key == 'Carbohydrate (Cal)') | (key == 'Total lipid (Cal)')| (key == 'Total Trans Fat (Cal)')|( key == 'Total Saturated Fat (Cal)'):\n",
    "\n",
    "                        lifeStyle_df.loc[index, key] = round(row[lifeStyle] * maleNutrition31to50_dict[key],2)\n",
    "\n",
    "                    else:\n",
    "\n",
    "                        lifeStyle_df.loc[index, key] = round(maleNutrition31to50_dict[key],2)\n",
    "\n",
    "        elif row['AGE'] > 31 & row['AGE'] <= 50 :\n",
    "\n",
    "            for key in maleNutrition51_dict.keys():\n",
    "\n",
    "                    if (key == 'Protein (Cal)') |( key == 'Carbohydrate (Cal)') | (key == 'Total lipid (Cal)')| (key == 'Total Trans Fat (Cal)')|( key == 'Total Saturated Fat (Cal)'):\n",
    "\n",
    "                        lifeStyle_df.loc[index, key] = round(row[lifeStyle] * maleNutrition51_dict[key],2)\n",
    "\n",
    "                    else:\n",
    "\n",
    "                        lifeStyle_df.loc[index, key] = round(maleNutrition51_dict[key],2)"
   ]
  },
  {
   "cell_type": "code",
   "execution_count": 35,
   "metadata": {},
   "outputs": [
    {
     "output_type": "execute_result",
     "data": {
      "text/plain": "   AGE  Sedentary  Moderately active  Active\n0   14       1800               2000    2400\n1   15       1800               2000    2400\n2   16       1800               2000    2400\n3   17       1800               2000    2400\n4   18       1800               2000    2400",
      "text/html": "<div>\n<style scoped>\n    .dataframe tbody tr th:only-of-type {\n        vertical-align: middle;\n    }\n\n    .dataframe tbody tr th {\n        vertical-align: top;\n    }\n\n    .dataframe thead th {\n        text-align: right;\n    }\n</style>\n<table border=\"1\" class=\"dataframe\">\n  <thead>\n    <tr style=\"text-align: right;\">\n      <th></th>\n      <th>AGE</th>\n      <th>Sedentary</th>\n      <th>Moderately active</th>\n      <th>Active</th>\n    </tr>\n  </thead>\n  <tbody>\n    <tr>\n      <th>0</th>\n      <td>14</td>\n      <td>1800</td>\n      <td>2000</td>\n      <td>2400</td>\n    </tr>\n    <tr>\n      <th>1</th>\n      <td>15</td>\n      <td>1800</td>\n      <td>2000</td>\n      <td>2400</td>\n    </tr>\n    <tr>\n      <th>2</th>\n      <td>16</td>\n      <td>1800</td>\n      <td>2000</td>\n      <td>2400</td>\n    </tr>\n    <tr>\n      <th>3</th>\n      <td>17</td>\n      <td>1800</td>\n      <td>2000</td>\n      <td>2400</td>\n    </tr>\n    <tr>\n      <th>4</th>\n      <td>18</td>\n      <td>1800</td>\n      <td>2000</td>\n      <td>2400</td>\n    </tr>\n  </tbody>\n</table>\n</div>"
     },
     "metadata": {},
     "execution_count": 35
    }
   ],
   "source": [
    "#Load kcal requirments from FDA\n",
    "\n",
    "calorieNeeds_female = pd.read_excel('../../FDA Tables XLSX/Appendix 2. Estimated Calorie Needs -2020 Dietary Guidelines _ health.gov_0002.xlsx', sheet_name = 'Females')\n",
    "\n",
    "calorieNeeds_female = calorieNeeds_female[calorieNeeds_female['AGE'] >= 14]\n",
    "\n",
    "calorieNeeds_female =  calorieNeeds_female.reset_index(drop= True)\n",
    "\n",
    "calorieNeeds_female.head()"
   ]
  },
  {
   "cell_type": "code",
   "execution_count": 36,
   "metadata": {},
   "outputs": [
    {
     "output_type": "execute_result",
     "data": {
      "text/plain": "   Sedentary  Protein (Cal)  Carbohydrate (Cal)  Fiber (gr)  \\\n0     1600.0          120.0               280.0        19.0   \n1     1800.0          135.0               315.0        19.0   \n2     2000.0          150.0               350.0        19.0   \n\n   Total Sugar (Cal)  Total lipid (Cal)  Total Trans Fat (Cal)  \\\n0               64.0              160.0                   16.0   \n1               72.0              180.0                   18.0   \n2               80.0              200.0                   20.0   \n\n   Total Saturated Fat (Cal)  Cholesterol (mg)  Calcium (mg)  Iron (mg)  \\\n0                       48.0             100.0         582.5       10.0   \n1                       54.0             100.0         582.5       10.0   \n2                       60.0             100.0         582.5       10.0   \n\n   Sodium, (mg)  Vitamin A (mcg RAE)  Vitamin C (mg)  Calories per Meal  \n0         460.0                615.0            21.0             533.33  \n1         460.0                615.0            21.0             600.00  \n2         460.0                615.0            21.0             666.67  ",
      "text/html": "<div>\n<style scoped>\n    .dataframe tbody tr th:only-of-type {\n        vertical-align: middle;\n    }\n\n    .dataframe tbody tr th {\n        vertical-align: top;\n    }\n\n    .dataframe thead th {\n        text-align: right;\n    }\n</style>\n<table border=\"1\" class=\"dataframe\">\n  <thead>\n    <tr style=\"text-align: right;\">\n      <th></th>\n      <th>Sedentary</th>\n      <th>Protein (Cal)</th>\n      <th>Carbohydrate (Cal)</th>\n      <th>Fiber (gr)</th>\n      <th>Total Sugar (Cal)</th>\n      <th>Total lipid (Cal)</th>\n      <th>Total Trans Fat (Cal)</th>\n      <th>Total Saturated Fat (Cal)</th>\n      <th>Cholesterol (mg)</th>\n      <th>Calcium (mg)</th>\n      <th>Iron (mg)</th>\n      <th>Sodium, (mg)</th>\n      <th>Vitamin A (mcg RAE)</th>\n      <th>Vitamin C (mg)</th>\n      <th>Calories per Meal</th>\n    </tr>\n  </thead>\n  <tbody>\n    <tr>\n      <th>0</th>\n      <td>1600.0</td>\n      <td>120.0</td>\n      <td>280.0</td>\n      <td>19.0</td>\n      <td>64.0</td>\n      <td>160.0</td>\n      <td>16.0</td>\n      <td>48.0</td>\n      <td>100.0</td>\n      <td>582.5</td>\n      <td>10.0</td>\n      <td>460.0</td>\n      <td>615.0</td>\n      <td>21.0</td>\n      <td>533.33</td>\n    </tr>\n    <tr>\n      <th>1</th>\n      <td>1800.0</td>\n      <td>135.0</td>\n      <td>315.0</td>\n      <td>19.0</td>\n      <td>72.0</td>\n      <td>180.0</td>\n      <td>18.0</td>\n      <td>54.0</td>\n      <td>100.0</td>\n      <td>582.5</td>\n      <td>10.0</td>\n      <td>460.0</td>\n      <td>615.0</td>\n      <td>21.0</td>\n      <td>600.00</td>\n    </tr>\n    <tr>\n      <th>2</th>\n      <td>2000.0</td>\n      <td>150.0</td>\n      <td>350.0</td>\n      <td>19.0</td>\n      <td>80.0</td>\n      <td>200.0</td>\n      <td>20.0</td>\n      <td>60.0</td>\n      <td>100.0</td>\n      <td>582.5</td>\n      <td>10.0</td>\n      <td>460.0</td>\n      <td>615.0</td>\n      <td>21.0</td>\n      <td>666.67</td>\n    </tr>\n  </tbody>\n</table>\n</div>"
     },
     "metadata": {},
     "execution_count": 36
    }
   ],
   "source": [
    "femaleInfo = []\n",
    "\n",
    "for lifeStyle in ['Sedentary','Moderately active','Active']:\n",
    "    \n",
    "    lifeStyle_df = calorieNeeds_female[['AGE', lifeStyle]]\n",
    "    \n",
    "    for index,row in lifeStyle_df.iterrows():\n",
    "\n",
    "        for key in nutritionParameters_dict.keys():\n",
    "\n",
    "            if key not in lifeStyle_df.columns:\n",
    "\n",
    "                lifeStyle_df[key] = ''\n",
    "\n",
    "                if (key == 'Protein (Cal)') |( key == 'Carbohydrate (Cal)') | (key == 'Total Sugar (Cal)') | (key == 'Total lipid (Cal)')| (key == 'Total Trans Fat (Cal)')|( key == 'Total Saturated Fat (Cal)') | (key == 'Calories per Meal'):\n",
    "\n",
    "                    lifeStyle_df.loc[index, key] = round(row[lifeStyle] * nutritionParameters_dict[key],2)\n",
    "\n",
    "                else:\n",
    "\n",
    "                    lifeStyle_df.loc[index, key] = round(nutritionParameters_dict[key],2)\n",
    "\n",
    "            else:\n",
    "\n",
    "                if (key == 'Protein (Cal)') |( key == 'Carbohydrate (Cal)') | (key == 'Total Sugar (Cal)') | (key == 'Total lipid (Cal)')| (key == 'Total Trans Fat (Cal)')|( key == 'Total Saturated Fat (Cal)') | (key == 'Calories per Meal'):\n",
    "\n",
    "                    lifeStyle_df.loc[index, key] = round(row[lifeStyle] * nutritionParameters_dict[key],2)\n",
    "\n",
    "                else:\n",
    "\n",
    "                    lifeStyle_df.loc[index, key] = round(nutritionParameters_dict[key],2)\n",
    "                    \n",
    "    columns = lifeStyle_df.columns.to_list()\n",
    "\n",
    "    lifeStyle_df[columns] = lifeStyle_df[columns].apply(pd.to_numeric, axis=1) \n",
    "\n",
    "    lifeStyle_df = lifeStyle_df.groupby(lifeStyle).mean().reset_index().drop(['AGE'], axis=1)\n",
    "       \n",
    "                        \n",
    "    femaleInfo.append(lifeStyle_df)\n",
    "                        \n",
    "femaleInfo[0] #List of DataFrames for males and the intake limits for each meal. "
   ]
  },
  {
   "cell_type": "code",
   "execution_count": 37,
   "metadata": {
    "tags": []
   },
   "outputs": [
    {
     "output_type": "stream",
     "name": "stdout",
     "text": "Stored 'maleInfo' (list)\nStored 'femaleInfo' (list)\nStored 'foodFiltered_df' (DataFrame)\n"
    }
   ],
   "source": [
    "#Stores the DataFrames in the system to be abe to read it in another Notebook.\n",
    "\n",
    "%store maleInfo\n",
    "\n",
    "%store femaleInfo\n",
    "\n",
    "%store foodFiltered_df"
   ]
  }
 ],
 "metadata": {
  "kernelspec": {
   "display_name": "Python 3",
   "language": "python",
   "name": "python3"
  },
  "language_info": {
   "codemirror_mode": {
    "name": "ipython",
    "version": 3
   },
   "file_extension": ".py",
   "mimetype": "text/x-python",
   "name": "python",
   "nbconvert_exporter": "python",
   "pygments_lexer": "ipython3",
   "version": "3.7.6-final"
  }
 },
 "nbformat": 4,
 "nbformat_minor": 4
}