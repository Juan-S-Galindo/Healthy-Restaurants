{
 "cells": [
  {
   "cell_type": "code",
   "execution_count": 16,
   "metadata": {},
   "outputs": [],
   "source": [
    "import pandas as pd\n",
    "\n",
    "import ast"
   ]
  },
  {
   "cell_type": "code",
   "execution_count": 17,
   "metadata": {},
   "outputs": [
    {
     "output_type": "execute_result",
     "data": {
      "text/plain": "     Restaurant                                          Food_Name  \\\n0  Panera Bread                   Caesar Salad with Chicken, Whole   \n1  Panera Bread  Mediterranean Veggie Sandwich on Tomato Basil,...   \n2  Panera Bread  Napa Almond Chicken Salad Sandwich on Country ...   \n3  Panera Bread               Fuji Apple Salad with Chicken, Whole   \n4  Panera Bread              Modern Greek Salad with Quinoa, Whole   \n\n                                           Nutrients  Calories  \n0  [{'value': 35, 'attr_id': 203}, {'value': 27, ...       450  \n1  [{'value': 18, 'attr_id': 203}, {'value': 13, ...       440  \n2  [{'value': 28, 'attr_id': 203}, {'value': 32, ...       630  \n3  [{'value': 33, 'attr_id': 203}, {'value': 35, ...       570  \n4  [{'value': 12, 'attr_id': 203}, {'value': 43, ...       530  ",
      "text/html": "<div>\n<style scoped>\n    .dataframe tbody tr th:only-of-type {\n        vertical-align: middle;\n    }\n\n    .dataframe tbody tr th {\n        vertical-align: top;\n    }\n\n    .dataframe thead th {\n        text-align: right;\n    }\n</style>\n<table border=\"1\" class=\"dataframe\">\n  <thead>\n    <tr style=\"text-align: right;\">\n      <th></th>\n      <th>Restaurant</th>\n      <th>Food_Name</th>\n      <th>Nutrients</th>\n      <th>Calories</th>\n    </tr>\n  </thead>\n  <tbody>\n    <tr>\n      <th>0</th>\n      <td>Panera Bread</td>\n      <td>Caesar Salad with Chicken, Whole</td>\n      <td>[{'value': 35, 'attr_id': 203}, {'value': 27, ...</td>\n      <td>450</td>\n    </tr>\n    <tr>\n      <th>1</th>\n      <td>Panera Bread</td>\n      <td>Mediterranean Veggie Sandwich on Tomato Basil,...</td>\n      <td>[{'value': 18, 'attr_id': 203}, {'value': 13, ...</td>\n      <td>440</td>\n    </tr>\n    <tr>\n      <th>2</th>\n      <td>Panera Bread</td>\n      <td>Napa Almond Chicken Salad Sandwich on Country ...</td>\n      <td>[{'value': 28, 'attr_id': 203}, {'value': 32, ...</td>\n      <td>630</td>\n    </tr>\n    <tr>\n      <th>3</th>\n      <td>Panera Bread</td>\n      <td>Fuji Apple Salad with Chicken, Whole</td>\n      <td>[{'value': 33, 'attr_id': 203}, {'value': 35, ...</td>\n      <td>570</td>\n    </tr>\n    <tr>\n      <th>4</th>\n      <td>Panera Bread</td>\n      <td>Modern Greek Salad with Quinoa, Whole</td>\n      <td>[{'value': 12, 'attr_id': 203}, {'value': 43, ...</td>\n      <td>530</td>\n    </tr>\n  </tbody>\n</table>\n</div>"
     },
     "metadata": {},
     "execution_count": 17
    }
   ],
   "source": [
    "foodRaw_df = pd.read_csv('../../Resources/CSVs/all_menu_items.csv')\n",
    "\n",
    "foodRaw_df.head()"
   ]
  },
  {
   "cell_type": "code",
   "execution_count": 18,
   "metadata": {},
   "outputs": [
    {
     "output_type": "execute_result",
     "data": {
      "text/plain": "         2018 NFP    usda_tag                         name  unit notes  \\\nattr_id                                                                  \n203           1.0      PROCNT                      Protein     g   NaN   \n204           1.0         FAT            Total lipid (fat)     g   NaN   \n205           1.0      CHOCDF  Carbohydrate, by difference     g   NaN   \n207           0.0         ASH                          Ash     g   NaN   \n208           1.0  ENERC_KCAL                       Energy  kcal   NaN   \n\n                bulk_csv_field cxh_attribute_name Unnamed: 8  \nattr_id                                                       \n203                 nf_protein               PRO-        NaN  \n204               nf_total_fat                FAT        NaN  \n205      nf_total_carbohydrate               CHO-        NaN  \n207                        NaN                NaN        NaN  \n208                nf_calories              ENER-        NaN  ",
      "text/html": "<div>\n<style scoped>\n    .dataframe tbody tr th:only-of-type {\n        vertical-align: middle;\n    }\n\n    .dataframe tbody tr th {\n        vertical-align: top;\n    }\n\n    .dataframe thead th {\n        text-align: right;\n    }\n</style>\n<table border=\"1\" class=\"dataframe\">\n  <thead>\n    <tr style=\"text-align: right;\">\n      <th></th>\n      <th>2018 NFP</th>\n      <th>usda_tag</th>\n      <th>name</th>\n      <th>unit</th>\n      <th>notes</th>\n      <th>bulk_csv_field</th>\n      <th>cxh_attribute_name</th>\n      <th>Unnamed: 8</th>\n    </tr>\n    <tr>\n      <th>attr_id</th>\n      <th></th>\n      <th></th>\n      <th></th>\n      <th></th>\n      <th></th>\n      <th></th>\n      <th></th>\n      <th></th>\n    </tr>\n  </thead>\n  <tbody>\n    <tr>\n      <th>203</th>\n      <td>1.0</td>\n      <td>PROCNT</td>\n      <td>Protein</td>\n      <td>g</td>\n      <td>NaN</td>\n      <td>nf_protein</td>\n      <td>PRO-</td>\n      <td>NaN</td>\n    </tr>\n    <tr>\n      <th>204</th>\n      <td>1.0</td>\n      <td>FAT</td>\n      <td>Total lipid (fat)</td>\n      <td>g</td>\n      <td>NaN</td>\n      <td>nf_total_fat</td>\n      <td>FAT</td>\n      <td>NaN</td>\n    </tr>\n    <tr>\n      <th>205</th>\n      <td>1.0</td>\n      <td>CHOCDF</td>\n      <td>Carbohydrate, by difference</td>\n      <td>g</td>\n      <td>NaN</td>\n      <td>nf_total_carbohydrate</td>\n      <td>CHO-</td>\n      <td>NaN</td>\n    </tr>\n    <tr>\n      <th>207</th>\n      <td>0.0</td>\n      <td>ASH</td>\n      <td>Ash</td>\n      <td>g</td>\n      <td>NaN</td>\n      <td>NaN</td>\n      <td>NaN</td>\n      <td>NaN</td>\n    </tr>\n    <tr>\n      <th>208</th>\n      <td>1.0</td>\n      <td>ENERC_KCAL</td>\n      <td>Energy</td>\n      <td>kcal</td>\n      <td>NaN</td>\n      <td>nf_calories</td>\n      <td>ENER-</td>\n      <td>NaN</td>\n    </tr>\n  </tbody>\n</table>\n</div>"
     },
     "metadata": {},
     "execution_count": 18
    }
   ],
   "source": [
    "nutrient_map = pd.read_csv('../../Resources/CSVs/Nutritionix API v2 - Full Nutrient USDA Field Mapping.csv')\n",
    "\n",
    "nutrient_map = nutrient_map.set_index('attr_id')\n",
    "\n",
    "nutrient_map.head()"
   ]
  },
  {
   "cell_type": "code",
   "execution_count": 19,
   "metadata": {},
   "outputs": [
    {
     "output_type": "execute_result",
     "data": {
      "text/plain": "     Restaurant                                          Food_Name  \\\n0  Panera Bread                   Caesar Salad with Chicken, Whole   \n1  Panera Bread  Mediterranean Veggie Sandwich on Tomato Basil,...   \n2  Panera Bread  Napa Almond Chicken Salad Sandwich on Country ...   \n3  Panera Bread               Fuji Apple Salad with Chicken, Whole   \n4  Panera Bread              Modern Greek Salad with Quinoa, Whole   \n\n                                           Nutrients  Calories  Protein  \\\n0  [{'value': 35, 'attr_id': 203}, {'value': 27, ...       450      140   \n1  [{'value': 18, 'attr_id': 203}, {'value': 13, ...       440       72   \n2  [{'value': 28, 'attr_id': 203}, {'value': 32, ...       630      112   \n3  [{'value': 33, 'attr_id': 203}, {'value': 35, ...       570      132   \n4  [{'value': 12, 'attr_id': 203}, {'value': 43, ...       530       48   \n\n   Total lipid (fat)  Carbohydrate, by difference  Energy  Sugars, total  \\\n0              243.0                           68     450              8   \n1              117.0                          268     440             32   \n2              288.0                          240     630             48   \n3              315.0                          144     570             80   \n4              387.0                          108     530             16   \n\n   Fiber, total dietary  Sodium, Na  Cholesterol  Fatty acids, total trans  \\\n0                     2         770          120                         0   \n1                     6        1230           10                         0   \n2                     5         680           70                         0   \n3                     6         590           95                         0   \n4                     7         870           15                         0   \n\n   Fatty acids, total saturated  Calcium, Ca  Iron, Fe  Vitamin A, IU  \\\n0                          63.0            0       0.0            0.0   \n1                          27.0            0       0.0            0.0   \n2                          40.5            0       0.0            0.0   \n3                          63.0            0       0.0            0.0   \n4                          63.0            0       0.0            0.0   \n\n   Vitamin C, total ascorbic acid  \n0                               0  \n1                               0  \n2                               0  \n3                               0  \n4                               0  ",
      "text/html": "<div>\n<style scoped>\n    .dataframe tbody tr th:only-of-type {\n        vertical-align: middle;\n    }\n\n    .dataframe tbody tr th {\n        vertical-align: top;\n    }\n\n    .dataframe thead th {\n        text-align: right;\n    }\n</style>\n<table border=\"1\" class=\"dataframe\">\n  <thead>\n    <tr style=\"text-align: right;\">\n      <th></th>\n      <th>Restaurant</th>\n      <th>Food_Name</th>\n      <th>Nutrients</th>\n      <th>Calories</th>\n      <th>Protein</th>\n      <th>Total lipid (fat)</th>\n      <th>Carbohydrate, by difference</th>\n      <th>Energy</th>\n      <th>Sugars, total</th>\n      <th>Fiber, total dietary</th>\n      <th>Sodium, Na</th>\n      <th>Cholesterol</th>\n      <th>Fatty acids, total trans</th>\n      <th>Fatty acids, total saturated</th>\n      <th>Calcium, Ca</th>\n      <th>Iron, Fe</th>\n      <th>Vitamin A, IU</th>\n      <th>Vitamin C, total ascorbic acid</th>\n    </tr>\n  </thead>\n  <tbody>\n    <tr>\n      <th>0</th>\n      <td>Panera Bread</td>\n      <td>Caesar Salad with Chicken, Whole</td>\n      <td>[{'value': 35, 'attr_id': 203}, {'value': 27, ...</td>\n      <td>450</td>\n      <td>140</td>\n      <td>243.0</td>\n      <td>68</td>\n      <td>450</td>\n      <td>8</td>\n      <td>2</td>\n      <td>770</td>\n      <td>120</td>\n      <td>0</td>\n      <td>63.0</td>\n      <td>0</td>\n      <td>0.0</td>\n      <td>0.0</td>\n      <td>0</td>\n    </tr>\n    <tr>\n      <th>1</th>\n      <td>Panera Bread</td>\n      <td>Mediterranean Veggie Sandwich on Tomato Basil,...</td>\n      <td>[{'value': 18, 'attr_id': 203}, {'value': 13, ...</td>\n      <td>440</td>\n      <td>72</td>\n      <td>117.0</td>\n      <td>268</td>\n      <td>440</td>\n      <td>32</td>\n      <td>6</td>\n      <td>1230</td>\n      <td>10</td>\n      <td>0</td>\n      <td>27.0</td>\n      <td>0</td>\n      <td>0.0</td>\n      <td>0.0</td>\n      <td>0</td>\n    </tr>\n    <tr>\n      <th>2</th>\n      <td>Panera Bread</td>\n      <td>Napa Almond Chicken Salad Sandwich on Country ...</td>\n      <td>[{'value': 28, 'attr_id': 203}, {'value': 32, ...</td>\n      <td>630</td>\n      <td>112</td>\n      <td>288.0</td>\n      <td>240</td>\n      <td>630</td>\n      <td>48</td>\n      <td>5</td>\n      <td>680</td>\n      <td>70</td>\n      <td>0</td>\n      <td>40.5</td>\n      <td>0</td>\n      <td>0.0</td>\n      <td>0.0</td>\n      <td>0</td>\n    </tr>\n    <tr>\n      <th>3</th>\n      <td>Panera Bread</td>\n      <td>Fuji Apple Salad with Chicken, Whole</td>\n      <td>[{'value': 33, 'attr_id': 203}, {'value': 35, ...</td>\n      <td>570</td>\n      <td>132</td>\n      <td>315.0</td>\n      <td>144</td>\n      <td>570</td>\n      <td>80</td>\n      <td>6</td>\n      <td>590</td>\n      <td>95</td>\n      <td>0</td>\n      <td>63.0</td>\n      <td>0</td>\n      <td>0.0</td>\n      <td>0.0</td>\n      <td>0</td>\n    </tr>\n    <tr>\n      <th>4</th>\n      <td>Panera Bread</td>\n      <td>Modern Greek Salad with Quinoa, Whole</td>\n      <td>[{'value': 12, 'attr_id': 203}, {'value': 43, ...</td>\n      <td>530</td>\n      <td>48</td>\n      <td>387.0</td>\n      <td>108</td>\n      <td>530</td>\n      <td>16</td>\n      <td>7</td>\n      <td>870</td>\n      <td>15</td>\n      <td>0</td>\n      <td>63.0</td>\n      <td>0</td>\n      <td>0.0</td>\n      <td>0.0</td>\n      <td>0</td>\n    </tr>\n  </tbody>\n</table>\n</div>"
     },
     "metadata": {},
     "execution_count": 19
    }
   ],
   "source": [
    "for index,row in foodRaw_df.iterrows(): #iterate each index and row.\n",
    "    \n",
    "    nutrients = ast.literal_eval(row['Nutrients']) #The original column was as string. ast.literal_eval -->interprets \"strings, bytes, numbers, tuples, lists, dicts, sets, booleans, and None.\" and returns it in the right format.. Anything else is an error.\n",
    "    \n",
    "    for nutrient in nutrients: #Iterates each of the nutrients dictionaries. \n",
    "        \n",
    "        name = nutrient_map.loc[nutrient['attr_id'],'name'] #locates the name in the nutrient_map csv. \n",
    "        \n",
    "        conversion_dict = { #Converts the columns from grams to calories.\n",
    "            'Protein' : 4, #To cal\n",
    "            'Carbohydrate, by difference' : 4, #to cal\n",
    "            'Total lipid (fat)' : 9, #to cal\n",
    "            'Vitamin A, IU' : 0.3, #to mcg RAE\n",
    "            'Fatty acids, total trans' : 10,\n",
    "            'Fatty acids, total saturated' : 9,\n",
    "            'Sugars, total' : 4} \n",
    "        \n",
    "        if name in conversion_dict.keys():\n",
    "            conversionFactor = conversion_dict[name]\n",
    "        else:\n",
    "            conversionFactor = 1\n",
    "        \n",
    "        value = nutrient['value'] \n",
    "        \n",
    "       \n",
    "        if name in foodRaw_df.columns: #if the nutrient is a DataFrame column.\n",
    "                \n",
    "            foodRaw_df.loc[index,name] = value * conversionFactor #Adds the value. \n",
    "        \n",
    "        else: #if the nutrient is not in the DataFrame\n",
    "            foodRaw_df[name] =''\n",
    "            foodRaw_df.loc[index,name] = value * conversionFactor\n",
    "        \n",
    "food_df = foodRaw_df.replace(r\"^\\s*$\", 0, regex = True) #Finds and replace empty cells with 0. empty cell pattern = r\"^\\s*$\"\n",
    "\n",
    "food_df.head()"
   ]
  },
  {
   "cell_type": "code",
   "execution_count": 20,
   "metadata": {},
   "outputs": [
    {
     "output_type": "execute_result",
     "data": {
      "text/plain": "     Restaurant                                          Food_Name  Calories  \\\n0  Panera Bread                   Caesar Salad with Chicken, Whole       450   \n1  Panera Bread  Mediterranean Veggie Sandwich on Tomato Basil,...       440   \n2  Panera Bread  Napa Almond Chicken Salad Sandwich on Country ...       630   \n3  Panera Bread               Fuji Apple Salad with Chicken, Whole       570   \n4  Panera Bread              Modern Greek Salad with Quinoa, Whole       530   \n\n   Protein (Cal)  Carbohydrate (Cal)  Fiber (gr)  Total Sugar (Cal)  \\\n0            140                  68           2                  8   \n1             72                 268           6                 32   \n2            112                 240           5                 48   \n3            132                 144           6                 80   \n4             48                 108           7                 16   \n\n   Total Fat (Cal)  Total Trans Fat (Cal)  Total Saturated Fat (Cal)  \\\n0            243.0                      0                       63.0   \n1            117.0                      0                       27.0   \n2            288.0                      0                       40.5   \n3            315.0                      0                       63.0   \n4            387.0                      0                       63.0   \n\n   Cholesterol (mg)  Calcium (mg)  Iron (mg)  Sodium (mg)  \\\n0               120             0        0.0          770   \n1                10             0        0.0         1230   \n2                70             0        0.0          680   \n3                95             0        0.0          590   \n4                15             0        0.0          870   \n\n   Vitamin A (mcg RAE)  Vitamin C (mg)  \n0                  0.0               0  \n1                  0.0               0  \n2                  0.0               0  \n3                  0.0               0  \n4                  0.0               0  ",
      "text/html": "<div>\n<style scoped>\n    .dataframe tbody tr th:only-of-type {\n        vertical-align: middle;\n    }\n\n    .dataframe tbody tr th {\n        vertical-align: top;\n    }\n\n    .dataframe thead th {\n        text-align: right;\n    }\n</style>\n<table border=\"1\" class=\"dataframe\">\n  <thead>\n    <tr style=\"text-align: right;\">\n      <th></th>\n      <th>Restaurant</th>\n      <th>Food_Name</th>\n      <th>Calories</th>\n      <th>Protein (Cal)</th>\n      <th>Carbohydrate (Cal)</th>\n      <th>Fiber (gr)</th>\n      <th>Total Sugar (Cal)</th>\n      <th>Total Fat (Cal)</th>\n      <th>Total Trans Fat (Cal)</th>\n      <th>Total Saturated Fat (Cal)</th>\n      <th>Cholesterol (mg)</th>\n      <th>Calcium (mg)</th>\n      <th>Iron (mg)</th>\n      <th>Sodium (mg)</th>\n      <th>Vitamin A (mcg RAE)</th>\n      <th>Vitamin C (mg)</th>\n    </tr>\n  </thead>\n  <tbody>\n    <tr>\n      <th>0</th>\n      <td>Panera Bread</td>\n      <td>Caesar Salad with Chicken, Whole</td>\n      <td>450</td>\n      <td>140</td>\n      <td>68</td>\n      <td>2</td>\n      <td>8</td>\n      <td>243.0</td>\n      <td>0</td>\n      <td>63.0</td>\n      <td>120</td>\n      <td>0</td>\n      <td>0.0</td>\n      <td>770</td>\n      <td>0.0</td>\n      <td>0</td>\n    </tr>\n    <tr>\n      <th>1</th>\n      <td>Panera Bread</td>\n      <td>Mediterranean Veggie Sandwich on Tomato Basil,...</td>\n      <td>440</td>\n      <td>72</td>\n      <td>268</td>\n      <td>6</td>\n      <td>32</td>\n      <td>117.0</td>\n      <td>0</td>\n      <td>27.0</td>\n      <td>10</td>\n      <td>0</td>\n      <td>0.0</td>\n      <td>1230</td>\n      <td>0.0</td>\n      <td>0</td>\n    </tr>\n    <tr>\n      <th>2</th>\n      <td>Panera Bread</td>\n      <td>Napa Almond Chicken Salad Sandwich on Country ...</td>\n      <td>630</td>\n      <td>112</td>\n      <td>240</td>\n      <td>5</td>\n      <td>48</td>\n      <td>288.0</td>\n      <td>0</td>\n      <td>40.5</td>\n      <td>70</td>\n      <td>0</td>\n      <td>0.0</td>\n      <td>680</td>\n      <td>0.0</td>\n      <td>0</td>\n    </tr>\n    <tr>\n      <th>3</th>\n      <td>Panera Bread</td>\n      <td>Fuji Apple Salad with Chicken, Whole</td>\n      <td>570</td>\n      <td>132</td>\n      <td>144</td>\n      <td>6</td>\n      <td>80</td>\n      <td>315.0</td>\n      <td>0</td>\n      <td>63.0</td>\n      <td>95</td>\n      <td>0</td>\n      <td>0.0</td>\n      <td>590</td>\n      <td>0.0</td>\n      <td>0</td>\n    </tr>\n    <tr>\n      <th>4</th>\n      <td>Panera Bread</td>\n      <td>Modern Greek Salad with Quinoa, Whole</td>\n      <td>530</td>\n      <td>48</td>\n      <td>108</td>\n      <td>7</td>\n      <td>16</td>\n      <td>387.0</td>\n      <td>0</td>\n      <td>63.0</td>\n      <td>15</td>\n      <td>0</td>\n      <td>0.0</td>\n      <td>870</td>\n      <td>0.0</td>\n      <td>0</td>\n    </tr>\n  </tbody>\n</table>\n</div>"
     },
     "metadata": {},
     "execution_count": 20
    }
   ],
   "source": [
    "#DataFrame columns order edit and columns rename.\n",
    "\n",
    "foodFiltered_df = food_df[['Restaurant',\n",
    "                           'Food_Name',\n",
    "                           'Calories',\n",
    "                           'Protein',\n",
    "                           'Carbohydrate, by difference',\n",
    "                           'Fiber, total dietary',\n",
    "                           'Sugars, total',\n",
    "                           'Total lipid (fat)',\n",
    "                           'Fatty acids, total trans',\n",
    "                           'Fatty acids, total saturated',\n",
    "                           'Cholesterol',\n",
    "                           'Calcium, Ca',\n",
    "                           'Iron, Fe',\n",
    "                           'Sodium, Na',\n",
    "                           'Vitamin A, IU',\n",
    "                          'Vitamin C, total ascorbic acid']]\n",
    "\n",
    "columns_name = {\n",
    "    'Protein' : 'Protein (Cal)',\n",
    "    'Carbohydrate, by difference' : 'Carbohydrate (Cal)',\n",
    "    'Fiber, total dietary' : 'Fiber (gr)',\n",
    "    'Sugars, total' : 'Total Sugar (Cal)',\n",
    "    'Total lipid (fat)' : 'Total Fat (Cal)',\n",
    "    'Cholesterol' : 'Cholesterol (mg)',\n",
    "    'Calcium, Ca' : 'Calcium (mg)',\n",
    "    'Iron, Fe' : 'Iron (mg)',\n",
    "    'Sodium, Na' : 'Sodium (mg)',\n",
    "    'Vitamin A, IU' : 'Vitamin A (mcg RAE)',\n",
    "    'Vitamin C, total ascorbic acid' : 'Vitamin C (mg)',\n",
    "    'Fatty acids, total trans' : 'Total Trans Fat (Cal)',\n",
    "    'Fatty acids, total saturated' : 'Total Saturated Fat (Cal)'\n",
    "    \n",
    "}\n",
    "\n",
    "foodFiltered_df = foodFiltered_df.rename(columns = columns_name)\n",
    "\n",
    "foodFiltered_df.head()\n"
   ]
  },
  {
   "cell_type": "code",
   "execution_count": 21,
   "metadata": {},
   "outputs": [
    {
     "output_type": "execute_result",
     "data": {
      "text/plain": "    AGE  Sedentary  Moderately active  Active\n0    14       2000               2400    2800\n1    15       2200               2600    3000\n2    16       2400               2800    3200\n3    17       2400               2800    3200\n4    18       2400               2800    3200\n..  ...        ...                ...     ...\n58   72       2000               2200    2600\n59   73       2000               2200    2600\n60   74       2000               2200    2600\n61   75       2000               2200    2600\n62   76       2000               2200    2400\n\n[63 rows x 4 columns]",
      "text/html": "<div>\n<style scoped>\n    .dataframe tbody tr th:only-of-type {\n        vertical-align: middle;\n    }\n\n    .dataframe tbody tr th {\n        vertical-align: top;\n    }\n\n    .dataframe thead th {\n        text-align: right;\n    }\n</style>\n<table border=\"1\" class=\"dataframe\">\n  <thead>\n    <tr style=\"text-align: right;\">\n      <th></th>\n      <th>AGE</th>\n      <th>Sedentary</th>\n      <th>Moderately active</th>\n      <th>Active</th>\n    </tr>\n  </thead>\n  <tbody>\n    <tr>\n      <th>0</th>\n      <td>14</td>\n      <td>2000</td>\n      <td>2400</td>\n      <td>2800</td>\n    </tr>\n    <tr>\n      <th>1</th>\n      <td>15</td>\n      <td>2200</td>\n      <td>2600</td>\n      <td>3000</td>\n    </tr>\n    <tr>\n      <th>2</th>\n      <td>16</td>\n      <td>2400</td>\n      <td>2800</td>\n      <td>3200</td>\n    </tr>\n    <tr>\n      <th>3</th>\n      <td>17</td>\n      <td>2400</td>\n      <td>2800</td>\n      <td>3200</td>\n    </tr>\n    <tr>\n      <th>4</th>\n      <td>18</td>\n      <td>2400</td>\n      <td>2800</td>\n      <td>3200</td>\n    </tr>\n    <tr>\n      <th>...</th>\n      <td>...</td>\n      <td>...</td>\n      <td>...</td>\n      <td>...</td>\n    </tr>\n    <tr>\n      <th>58</th>\n      <td>72</td>\n      <td>2000</td>\n      <td>2200</td>\n      <td>2600</td>\n    </tr>\n    <tr>\n      <th>59</th>\n      <td>73</td>\n      <td>2000</td>\n      <td>2200</td>\n      <td>2600</td>\n    </tr>\n    <tr>\n      <th>60</th>\n      <td>74</td>\n      <td>2000</td>\n      <td>2200</td>\n      <td>2600</td>\n    </tr>\n    <tr>\n      <th>61</th>\n      <td>75</td>\n      <td>2000</td>\n      <td>2200</td>\n      <td>2600</td>\n    </tr>\n    <tr>\n      <th>62</th>\n      <td>76</td>\n      <td>2000</td>\n      <td>2200</td>\n      <td>2400</td>\n    </tr>\n  </tbody>\n</table>\n<p>63 rows × 4 columns</p>\n</div>"
     },
     "metadata": {},
     "execution_count": 21
    }
   ],
   "source": [
    "#Load kcal requirments from FDA\n",
    "\n",
    "calorieNeeds_male = pd.read_excel('../../FDA Tables XLSX/Appendix 2. Estimated Calorie Needs -2020 Dietary Guidelines _ health.gov_0002.xlsx', sheet_name = 'Males')\n",
    "\n",
    "calorieNeeds_male = calorieNeeds_male[calorieNeeds_male['AGE'] >= 14]\n",
    "\n",
    "calorieNeeds_male = calorieNeeds_male.reset_index(drop= True)\n",
    "\n",
    "calorieNeeds_male"
   ]
  },
  {
   "cell_type": "code",
   "execution_count": 22,
   "metadata": {},
   "outputs": [],
   "source": [
    "#Health Parameters Male\n",
    "\n",
    "nutritionParameters_dict = {'Protein (Cal)' : ((12 + 3) / 2)/100,\n",
    "                           'Carbohydrate (Cal)' : ((10 + 25) / 2) / 100,\n",
    "                           'Fiber (gr)' : (8 + 30) / 2,\n",
    "                           'Total Sugar (Cal)': .04, #https://www.livestrong.com/article/333407-how-many-calories-should-i-eat-at-lunch/\n",
    "                           'Total lipid (Cal)': ((12 + 8) / 2)/ 100,\n",
    "                           'Total Trans Fat (Cal)': .01, #https://medlineplus.gov/ency/patientinstructions/000786.htm#:~:text=You%20should%20limit%20saturated%20fat,or%202%20grams%20per%20day.\n",
    "                           'Total Saturated Fat (Cal)': 0.03,\n",
    "                           'Cholesterol (mg)' : 100, #https://www.healthline.com/health/high-cholesterol/rda#:~:text=Following%20dietary%20guidelines%2C%20doctors%20used,high%20risk%20of%20heart%20disease.\n",
    "                           'Calcium (mg)': (835 + 330) / 2,\n",
    "                           'Iron (mg)': (5 + 15) / 2,\n",
    "                           'Sodium, (mg)': (770 + 150)/2,\n",
    "                           'Vitamin A (mcg RAE)': (1000 + 230) / 2,\n",
    "                            'Vitamin C (mg)' : 21,\n",
    "                            'Calories per Meal' : 1/3}\n",
    "    \n"
   ]
  },
  {
   "cell_type": "markdown",
   "metadata": {},
   "source": [
    "maleNutrition19to30_dict = {'Protein (Cal)' : 0.225/3,\n",
    "                           'Carbohydrate (Cal)' : 0.175,\n",
    "                           'Fiber (gr)' : 33.6/3,\n",
    "                           'Total Sugar (gr)': 40/3, #https://www.livestrong.com/article/333407-how-many-calories-should-i-eat-at-lunch/\n",
    "                           'Total lipid (Cal)': 0.176/3,\n",
    "                           'Total Trans Fat (Cal)': .01/3, #https://medlineplus.gov/ency/patientinstructions/000786.htm#:~:text=You%20should%20limit%20saturated%20fat,or%202%20grams%20per%20day.\n",
    "                           'Total Saturated Fat (Cal)': 0.1/3,\n",
    "                           'Cholesterol (mg)' : 250/3, #https://www.healthline.com/health/high-cholesterol/rda#:~:text=Following%20dietary%20guidelines%2C%20doctors%20used,high%20risk%20of%20heart%20disease.\n",
    "                           'Calcium (mg)': 1000/3,\n",
    "                           'Iron (mg)': 8/2,\n",
    "                           'Sodium, (mg)': 2300/3,\n",
    "                           'Vitamin A, IU': 900/3,\n",
    "                            'Vitamin C (mg)' : 90/3}\n",
    "    \n",
    "maleNutrition31to50_dict = {'Protein (Cal)' : 0.225/3,\n",
    "                           'Carbohydrate (Cal)' : 0.175,\n",
    "                           'Fiber (gr)' : 30.8/3,\n",
    "                           'Total Sugar (gr)': 40/3, #https://www.livestrong.com/article/333407-how-many-calories-should-i-eat-at-lunch/\n",
    "                           'Total lipid (Cal)': 0.176/3,\n",
    "                            'Total Trans Fat (Cal)': .01/3, #https://medlineplus.gov/ency/patientinstructions/000786.htm#:~:text=You%20should%20limit%20saturated%20fat,or%202%20grams%20per%20day.\n",
    "                           'Total Saturated Fat (Cal)': 0.1/3,\n",
    "                           'Cholesterol (mg)' : 250/3, #https://www.healthline.com/health/high-cholesterol/rda#:~:text=Following%20dietary%20guidelines%2C%20doctors%20used,high%20risk%20of%20heart%20disease.\n",
    "                           'Calcium (mg)': 1000/3,\n",
    "                           'Iron (mg)': 8/2,\n",
    "                           'Sodium (mg)': 2300/3,\n",
    "                           'Vitamin A (mcg RAE)': 900/3,\n",
    "                            'Vitamin C (mg)' : 90/3}\n",
    "    \n",
    "maleNutrition51_dict = {'Protein (Cal)' : 0.225/3,\n",
    "                        'Carbohydrate (Cal)' : 0.175,\n",
    "                        'Fiber (gr)' : 28/3,\n",
    "                        'Total Sugar (gr)': 40/3, #https://www.livestrong.com/article/333407-how-many-calories-should-i-eat-at-lunch/\n",
    "                        'Total lipid (Cal)': 0.176/3,\n",
    "                        'Total Trans Fat (Cal)': .01/3, #https://medlineplus.gov/ency/patientinstructions/000786.htm#:~:text=You%20should%20limit%20saturated%20fat,or%202%20grams%20per%20day.\n",
    "                        'Total Saturated Fat (Cal)': 0.1/3,\n",
    "                        'Cholesterol (mg)' : 250/3, #https://www.healthline.com/health/high-cholesterol/rda#:~:text=Following%20dietary%20guidelines%2C%20doctors%20used,high%20risk%20of%20heart%20disease.\n",
    "                        'Calcium (mg)': 1000/3,\n",
    "                        'Iron (mg)': 8/2,\n",
    "                        'Sodium (mg)': 2300/3,\n",
    "                        'Vitamin A (mcg RAE)': 900/3,\n",
    "                        'Vitamin C (mg)' : 90/3}\n",
    "     "
   ]
  },
  {
   "cell_type": "code",
   "execution_count": 23,
   "metadata": {},
   "outputs": [
    {
     "output_type": "execute_result",
     "data": {
      "text/plain": "   Sedentary  Protein (Cal)  Carbohydrate (Cal)  Fiber (gr)  \\\n0     2000.0          150.0               350.0        19.0   \n1     2200.0          165.0               385.0        19.0   \n2     2400.0          180.0               420.0        19.0   \n3     2600.0          195.0               455.0        19.0   \n\n   Total Sugar (Cal)  Total lipid (Cal)  Total Trans Fat (Cal)  \\\n0               80.0              200.0                   20.0   \n1               88.0              220.0                   22.0   \n2               96.0              240.0                   24.0   \n3              104.0              260.0                   26.0   \n\n   Total Saturated Fat (Cal)  Cholesterol (mg)  Calcium (mg)  Iron (mg)  \\\n0                       60.0             100.0         582.5       10.0   \n1                       66.0             100.0         582.5       10.0   \n2                       72.0             100.0         582.5       10.0   \n3                       78.0             100.0         582.5       10.0   \n\n   Sodium, (mg)  Vitamin A (mcg RAE)  Vitamin C (mg)  Calories per Meal  \n0         460.0                615.0            21.0             666.67  \n1         460.0                615.0            21.0             733.33  \n2         460.0                615.0            21.0             800.00  \n3         460.0                615.0            21.0             866.67  ",
      "text/html": "<div>\n<style scoped>\n    .dataframe tbody tr th:only-of-type {\n        vertical-align: middle;\n    }\n\n    .dataframe tbody tr th {\n        vertical-align: top;\n    }\n\n    .dataframe thead th {\n        text-align: right;\n    }\n</style>\n<table border=\"1\" class=\"dataframe\">\n  <thead>\n    <tr style=\"text-align: right;\">\n      <th></th>\n      <th>Sedentary</th>\n      <th>Protein (Cal)</th>\n      <th>Carbohydrate (Cal)</th>\n      <th>Fiber (gr)</th>\n      <th>Total Sugar (Cal)</th>\n      <th>Total lipid (Cal)</th>\n      <th>Total Trans Fat (Cal)</th>\n      <th>Total Saturated Fat (Cal)</th>\n      <th>Cholesterol (mg)</th>\n      <th>Calcium (mg)</th>\n      <th>Iron (mg)</th>\n      <th>Sodium, (mg)</th>\n      <th>Vitamin A (mcg RAE)</th>\n      <th>Vitamin C (mg)</th>\n      <th>Calories per Meal</th>\n    </tr>\n  </thead>\n  <tbody>\n    <tr>\n      <th>0</th>\n      <td>2000.0</td>\n      <td>150.0</td>\n      <td>350.0</td>\n      <td>19.0</td>\n      <td>80.0</td>\n      <td>200.0</td>\n      <td>20.0</td>\n      <td>60.0</td>\n      <td>100.0</td>\n      <td>582.5</td>\n      <td>10.0</td>\n      <td>460.0</td>\n      <td>615.0</td>\n      <td>21.0</td>\n      <td>666.67</td>\n    </tr>\n    <tr>\n      <th>1</th>\n      <td>2200.0</td>\n      <td>165.0</td>\n      <td>385.0</td>\n      <td>19.0</td>\n      <td>88.0</td>\n      <td>220.0</td>\n      <td>22.0</td>\n      <td>66.0</td>\n      <td>100.0</td>\n      <td>582.5</td>\n      <td>10.0</td>\n      <td>460.0</td>\n      <td>615.0</td>\n      <td>21.0</td>\n      <td>733.33</td>\n    </tr>\n    <tr>\n      <th>2</th>\n      <td>2400.0</td>\n      <td>180.0</td>\n      <td>420.0</td>\n      <td>19.0</td>\n      <td>96.0</td>\n      <td>240.0</td>\n      <td>24.0</td>\n      <td>72.0</td>\n      <td>100.0</td>\n      <td>582.5</td>\n      <td>10.0</td>\n      <td>460.0</td>\n      <td>615.0</td>\n      <td>21.0</td>\n      <td>800.00</td>\n    </tr>\n    <tr>\n      <th>3</th>\n      <td>2600.0</td>\n      <td>195.0</td>\n      <td>455.0</td>\n      <td>19.0</td>\n      <td>104.0</td>\n      <td>260.0</td>\n      <td>26.0</td>\n      <td>78.0</td>\n      <td>100.0</td>\n      <td>582.5</td>\n      <td>10.0</td>\n      <td>460.0</td>\n      <td>615.0</td>\n      <td>21.0</td>\n      <td>866.67</td>\n    </tr>\n  </tbody>\n</table>\n</div>"
     },
     "metadata": {},
     "execution_count": 23
    }
   ],
   "source": [
    "#Lists of DataFrames with the information of the required nutrients for each age and lifestyle goup.\n",
    "\n",
    "maleInfo = []\n",
    "\n",
    "for lifeStyle in ['Sedentary','Moderately active','Active']:\n",
    "    \n",
    "    lifeStyle_df = calorieNeeds_male[['AGE', lifeStyle]]\n",
    "    \n",
    "    for index,row in lifeStyle_df.iterrows():\n",
    "\n",
    "        for key in nutritionParameters_dict.keys():\n",
    "\n",
    "            if key not in lifeStyle_df.columns:\n",
    "\n",
    "                lifeStyle_df[key] = ''\n",
    "\n",
    "                if (key == 'Protein (Cal)') |( key == 'Carbohydrate (Cal)') | (key == 'Total Sugar (Cal)') | (key == 'Total lipid (Cal)')| (key == 'Total Trans Fat (Cal)')|( key == 'Total Saturated Fat (Cal)') | (key == 'Calories per Meal'):\n",
    "\n",
    "                    lifeStyle_df.loc[index, key] = round(row[lifeStyle] * nutritionParameters_dict[key],2)\n",
    "\n",
    "                else:\n",
    "\n",
    "                    lifeStyle_df.loc[index, key] = round(nutritionParameters_dict[key],2)\n",
    "\n",
    "            else:\n",
    "\n",
    "                if (key == 'Protein (Cal)') |( key == 'Carbohydrate (Cal)') | (key == 'Total Sugar (Cal)') | (key == 'Total lipid (Cal)')| (key == 'Total Trans Fat (Cal)')|( key == 'Total Saturated Fat (Cal)') | (key == 'Calories per Meal'):\n",
    "\n",
    "                    lifeStyle_df.loc[index, key] = round(row[lifeStyle] * nutritionParameters_dict[key],2)\n",
    "\n",
    "                else:\n",
    "\n",
    "                    lifeStyle_df.loc[index, key] = round(nutritionParameters_dict[key],2)\n",
    "\n",
    "    columns = lifeStyle_df.columns.to_list()\n",
    "\n",
    "    lifeStyle_df[columns] = lifeStyle_df[columns].apply(pd.to_numeric, axis=1) \n",
    "\n",
    "    lifeStyle_df = lifeStyle_df.groupby(lifeStyle).mean().reset_index().drop(['AGE'], axis=1)\n",
    "                     \n",
    "    maleInfo.append(lifeStyle_df)\n",
    "                        \n",
    "maleInfo[0] #List of DataFrames for males and the intake limits for each meal. "
   ]
  },
  {
   "cell_type": "markdown",
   "metadata": {},
   "source": [
    "elif row['AGE'] > 19 & row['AGE'] <= 30 :\n",
    "\n",
    "            for key in maleNutrition19to30_dict.keys():\n",
    "\n",
    "                    if (key == 'Protein (Cal)') |( key == 'Carbohydrate (Cal)') | (key == 'Total lipid (Cal)')| (key == 'Total Trans Fat (Cal)')|( key == 'Total Saturated Fat (Cal)'):\n",
    "\n",
    "                        lifeStyle_df.loc[index, key] = round(row[lifeStyle] * maleNutrition19to30_dict[key],2)\n",
    "\n",
    "                    else:\n",
    "\n",
    "                        lifeStyle_df.loc[index, key] = round(maleNutrition19to30_dict[key],2)\n",
    "\n",
    "        elif row['AGE'] > 31 & row['AGE'] <= 50 :\n",
    "\n",
    "            for key in maleNutrition31to50_dict.keys():\n",
    "\n",
    "                    if (key == 'Protein (Cal)') |( key == 'Carbohydrate (Cal)') | (key == 'Total lipid (Cal)')| (key == 'Total Trans Fat (Cal)')|( key == 'Total Saturated Fat (Cal)'):\n",
    "\n",
    "                        lifeStyle_df.loc[index, key] = round(row[lifeStyle] * maleNutrition31to50_dict[key],2)\n",
    "\n",
    "                    else:\n",
    "\n",
    "                        lifeStyle_df.loc[index, key] = round(maleNutrition31to50_dict[key],2)\n",
    "\n",
    "        elif row['AGE'] > 31 & row['AGE'] <= 50 :\n",
    "\n",
    "            for key in maleNutrition51_dict.keys():\n",
    "\n",
    "                    if (key == 'Protein (Cal)') |( key == 'Carbohydrate (Cal)') | (key == 'Total lipid (Cal)')| (key == 'Total Trans Fat (Cal)')|( key == 'Total Saturated Fat (Cal)'):\n",
    "\n",
    "                        lifeStyle_df.loc[index, key] = round(row[lifeStyle] * maleNutrition51_dict[key],2)\n",
    "\n",
    "                    else:\n",
    "\n",
    "                        lifeStyle_df.loc[index, key] = round(maleNutrition51_dict[key],2)"
   ]
  },
  {
   "cell_type": "code",
   "execution_count": 24,
   "metadata": {},
   "outputs": [
    {
     "output_type": "execute_result",
     "data": {
      "text/plain": "   AGE  Sedentary  Moderately active  Active\n0   14       1800               2000    2400\n1   15       1800               2000    2400\n2   16       1800               2000    2400\n3   17       1800               2000    2400\n4   18       1800               2000    2400",
      "text/html": "<div>\n<style scoped>\n    .dataframe tbody tr th:only-of-type {\n        vertical-align: middle;\n    }\n\n    .dataframe tbody tr th {\n        vertical-align: top;\n    }\n\n    .dataframe thead th {\n        text-align: right;\n    }\n</style>\n<table border=\"1\" class=\"dataframe\">\n  <thead>\n    <tr style=\"text-align: right;\">\n      <th></th>\n      <th>AGE</th>\n      <th>Sedentary</th>\n      <th>Moderately active</th>\n      <th>Active</th>\n    </tr>\n  </thead>\n  <tbody>\n    <tr>\n      <th>0</th>\n      <td>14</td>\n      <td>1800</td>\n      <td>2000</td>\n      <td>2400</td>\n    </tr>\n    <tr>\n      <th>1</th>\n      <td>15</td>\n      <td>1800</td>\n      <td>2000</td>\n      <td>2400</td>\n    </tr>\n    <tr>\n      <th>2</th>\n      <td>16</td>\n      <td>1800</td>\n      <td>2000</td>\n      <td>2400</td>\n    </tr>\n    <tr>\n      <th>3</th>\n      <td>17</td>\n      <td>1800</td>\n      <td>2000</td>\n      <td>2400</td>\n    </tr>\n    <tr>\n      <th>4</th>\n      <td>18</td>\n      <td>1800</td>\n      <td>2000</td>\n      <td>2400</td>\n    </tr>\n  </tbody>\n</table>\n</div>"
     },
     "metadata": {},
     "execution_count": 24
    }
   ],
   "source": [
    "#Load kcal requirments from FDA\n",
    "\n",
    "calorieNeeds_female = pd.read_excel('../../FDA Tables XLSX/Appendix 2. Estimated Calorie Needs -2020 Dietary Guidelines _ health.gov_0002.xlsx', sheet_name = 'Females')\n",
    "\n",
    "calorieNeeds_female = calorieNeeds_female[calorieNeeds_female['AGE'] >= 14]\n",
    "\n",
    "calorieNeeds_female =  calorieNeeds_female.reset_index(drop= True)\n",
    "\n",
    "calorieNeeds_female.head()"
   ]
  },
  {
   "cell_type": "code",
   "execution_count": 25,
   "metadata": {},
   "outputs": [
    {
     "output_type": "execute_result",
     "data": {
      "text/plain": "   Sedentary  Protein (Cal)  Carbohydrate (Cal)  Fiber (gr)  \\\n0     1600.0          120.0               280.0        19.0   \n1     1800.0          135.0               315.0        19.0   \n2     2000.0          150.0               350.0        19.0   \n\n   Total Sugar (Cal)  Total lipid (Cal)  Total Trans Fat (Cal)  \\\n0               64.0              160.0                   16.0   \n1               72.0              180.0                   18.0   \n2               80.0              200.0                   20.0   \n\n   Total Saturated Fat (Cal)  Cholesterol (mg)  Calcium (mg)  Iron (mg)  \\\n0                       48.0             100.0         582.5       10.0   \n1                       54.0             100.0         582.5       10.0   \n2                       60.0             100.0         582.5       10.0   \n\n   Sodium, (mg)  Vitamin A (mcg RAE)  Vitamin C (mg)  Calories per Meal  \n0         460.0                615.0            21.0             533.33  \n1         460.0                615.0            21.0             600.00  \n2         460.0                615.0            21.0             666.67  ",
      "text/html": "<div>\n<style scoped>\n    .dataframe tbody tr th:only-of-type {\n        vertical-align: middle;\n    }\n\n    .dataframe tbody tr th {\n        vertical-align: top;\n    }\n\n    .dataframe thead th {\n        text-align: right;\n    }\n</style>\n<table border=\"1\" class=\"dataframe\">\n  <thead>\n    <tr style=\"text-align: right;\">\n      <th></th>\n      <th>Sedentary</th>\n      <th>Protein (Cal)</th>\n      <th>Carbohydrate (Cal)</th>\n      <th>Fiber (gr)</th>\n      <th>Total Sugar (Cal)</th>\n      <th>Total lipid (Cal)</th>\n      <th>Total Trans Fat (Cal)</th>\n      <th>Total Saturated Fat (Cal)</th>\n      <th>Cholesterol (mg)</th>\n      <th>Calcium (mg)</th>\n      <th>Iron (mg)</th>\n      <th>Sodium, (mg)</th>\n      <th>Vitamin A (mcg RAE)</th>\n      <th>Vitamin C (mg)</th>\n      <th>Calories per Meal</th>\n    </tr>\n  </thead>\n  <tbody>\n    <tr>\n      <th>0</th>\n      <td>1600.0</td>\n      <td>120.0</td>\n      <td>280.0</td>\n      <td>19.0</td>\n      <td>64.0</td>\n      <td>160.0</td>\n      <td>16.0</td>\n      <td>48.0</td>\n      <td>100.0</td>\n      <td>582.5</td>\n      <td>10.0</td>\n      <td>460.0</td>\n      <td>615.0</td>\n      <td>21.0</td>\n      <td>533.33</td>\n    </tr>\n    <tr>\n      <th>1</th>\n      <td>1800.0</td>\n      <td>135.0</td>\n      <td>315.0</td>\n      <td>19.0</td>\n      <td>72.0</td>\n      <td>180.0</td>\n      <td>18.0</td>\n      <td>54.0</td>\n      <td>100.0</td>\n      <td>582.5</td>\n      <td>10.0</td>\n      <td>460.0</td>\n      <td>615.0</td>\n      <td>21.0</td>\n      <td>600.00</td>\n    </tr>\n    <tr>\n      <th>2</th>\n      <td>2000.0</td>\n      <td>150.0</td>\n      <td>350.0</td>\n      <td>19.0</td>\n      <td>80.0</td>\n      <td>200.0</td>\n      <td>20.0</td>\n      <td>60.0</td>\n      <td>100.0</td>\n      <td>582.5</td>\n      <td>10.0</td>\n      <td>460.0</td>\n      <td>615.0</td>\n      <td>21.0</td>\n      <td>666.67</td>\n    </tr>\n  </tbody>\n</table>\n</div>"
     },
     "metadata": {},
     "execution_count": 25
    }
   ],
   "source": [
    "femaleInfo = []\n",
    "\n",
    "for lifeStyle in ['Sedentary','Moderately active','Active']:\n",
    "    \n",
    "    lifeStyle_df = calorieNeeds_female[['AGE', lifeStyle]]\n",
    "    \n",
    "    for index,row in lifeStyle_df.iterrows():\n",
    "\n",
    "        for key in nutritionParameters_dict.keys():\n",
    "\n",
    "            if key not in lifeStyle_df.columns:\n",
    "\n",
    "                lifeStyle_df[key] = ''\n",
    "\n",
    "                if (key == 'Protein (Cal)') |( key == 'Carbohydrate (Cal)') | (key == 'Total Sugar (Cal)') | (key == 'Total lipid (Cal)')| (key == 'Total Trans Fat (Cal)')|( key == 'Total Saturated Fat (Cal)') | (key == 'Calories per Meal'):\n",
    "\n",
    "                    lifeStyle_df.loc[index, key] = round(row[lifeStyle] * nutritionParameters_dict[key],2)\n",
    "\n",
    "                else:\n",
    "\n",
    "                    lifeStyle_df.loc[index, key] = round(nutritionParameters_dict[key],2)\n",
    "\n",
    "            else:\n",
    "\n",
    "                if (key == 'Protein (Cal)') |( key == 'Carbohydrate (Cal)') | (key == 'Total Sugar (Cal)') | (key == 'Total lipid (Cal)')| (key == 'Total Trans Fat (Cal)')|( key == 'Total Saturated Fat (Cal)') | (key == 'Calories per Meal'):\n",
    "\n",
    "                    lifeStyle_df.loc[index, key] = round(row[lifeStyle] * nutritionParameters_dict[key],2)\n",
    "\n",
    "                else:\n",
    "\n",
    "                    lifeStyle_df.loc[index, key] = round(nutritionParameters_dict[key],2)\n",
    "                    \n",
    "    columns = lifeStyle_df.columns.to_list()\n",
    "\n",
    "    lifeStyle_df[columns] = lifeStyle_df[columns].apply(pd.to_numeric, axis=1) \n",
    "\n",
    "    lifeStyle_df = lifeStyle_df.groupby(lifeStyle).mean().reset_index().drop(['AGE'], axis=1)\n",
    "       \n",
    "                        \n",
    "    femaleInfo.append(lifeStyle_df)\n",
    "                        \n",
    "femaleInfo[0] #List of DataFrames for males and the intake limits for each meal. "
   ]
  },
  {
   "cell_type": "code",
   "execution_count": 26,
   "metadata": {
    "tags": []
   },
   "outputs": [
    {
     "output_type": "stream",
     "name": "stdout",
     "text": "Stored 'maleInfo' (list)\nStored 'femaleInfo' (list)\nStored 'foodFiltered_df' (DataFrame)\n"
    }
   ],
   "source": [
    "#Stores the DataFrames in the system to be abe to read it in another Notebook.\n",
    "\n",
    "%store maleInfo\n",
    "\n",
    "%store femaleInfo\n",
    "\n",
    "%store foodFiltered_df"
   ]
  },
  {
   "cell_type": "code",
   "execution_count": 29,
   "metadata": {},
   "outputs": [
    {
     "output_type": "execute_result",
     "data": {
      "text/plain": "          Restaurant                                          Food_Name  \\\n0       Panera Bread                   Caesar Salad with Chicken, Whole   \n1       Panera Bread  Mediterranean Veggie Sandwich on Tomato Basil,...   \n2       Panera Bread  Napa Almond Chicken Salad Sandwich on Country ...   \n3       Panera Bread               Fuji Apple Salad with Chicken, Whole   \n4       Panera Bread              Modern Greek Salad with Quinoa, Whole   \n5       Panera Bread  Bacon Turkey Bravo Sandwich on Tomato Basil, W...   \n6       Panera Bread                             Green Passion Smoothie   \n7      Smoothie King                           Lean1 Chocolate Smoothie   \n8      Smoothie King                                 Gladiator Smoothie   \n9      Smoothie King                          Lean1 Strawberry Smoothie   \n10     Smoothie King                               Berry Punch Smoothie   \n11     Smoothie King                             Lean1 Vanilla Smoothie   \n12     Smoothie King                            Immune Builder Smoothie   \n13     Smoothie King                          Blueberry Heaven Smoothie   \n14       Jamba Juice                        Razzmatazz Smoothie, Medium   \n15       Jamba Juice                       Chili Mango Smoothie, Medium   \n16       Jamba Juice              Pomegranate Paradise Smoothie, Medium   \n17       Jamba Juice                   Aloha Pineapple Smoothie, Medium   \n18       Jamba Juice                 Watermelon Breeze Smoothie, Medium   \n19       Jamba Juice                 Strawberries Wild Smoothie, Medium   \n20       Jamba Juice                  Strawberry Whirl Smoothie, Medium   \n21  McAlister's Deli                                       Garden Salad   \n22  McAlister's Deli                           Grilled Chicken Sandwich   \n23  McAlister's Deli                             Savannah Chopped Salad   \n24  McAlister's Deli                              Italian Chopped Salad   \n25  McAlister's Deli                       Garden Fresh Turkey Sandwich   \n26  McAlister's Deli                      French Onion Chicken Sandwich   \n27  McAlister's Deli                  Southwest Chicken & Avocado Salad   \n28        Saladworks                                             Tivoli   \n29        Saladworks                                     Sophie's Salad   \n30        Saladworks                             Buffalo Chicken Panini   \n31        Saladworks                                     Chicken Caesar   \n32        Saladworks                                               Cobb   \n33        Saladworks                                        Turkey Melt   \n34        Saladworks                                   Mandarin Chicken   \n\n    Calories  Protein (Cal)  Carbohydrate (Cal)  Fiber (gr)  \\\n0        450            140                  68           2   \n1        440             72                 268           6   \n2        630            112                 240           5   \n3        570            132                 144           6   \n4        530             48                 108           7   \n5        630            184                 228           3   \n6        200              8                 204           2   \n7        290             88                 112           7   \n8        180            180                   4           0   \n9        280             80                 140           5   \n10       360              0                 364           4   \n11       270             88                 104           5   \n12       380             20                 356           6   \n13       330             28                 292           2   \n14       390             12                 364           4   \n15       410             12                 376           3   \n16       360              8                 360           5   \n17       410             32                 384           3   \n18       420             12                 404           3   \n19       370             20                 344           3   \n20       310              8                 308           6   \n21       310             72                  76           3   \n22       560            164                 188           2   \n23       480            160                 172           4   \n24       570            132                  64           4   \n25       670            144                 312          10   \n26       810            200                 296           4   \n27       630            200                 152           9   \n28       430            132                 128           4   \n29       310             48                 140          12   \n30       660            172                 224           2   \n31       290            168                  76           3   \n32       270             92                  52           6   \n33       800            188                 240           2   \n34       230             48                 148          11   \n\n    Total Sugar (Cal)  Total Fat (Cal)  Total Trans Fat (Cal)  \\\n0                   8            243.0                      0   \n1                  32            117.0                      0   \n2                  48            288.0                      0   \n3                  80            315.0                      0   \n4                  16            387.0                      0   \n5                  24            216.0                      0   \n6                 188              0.0                      0   \n7                  72             99.0                      0   \n8                   0              0.0                      0   \n9                 112             54.0                      0   \n10                336              0.0                      0   \n11                 68             90.0                      0   \n12                308              9.0                      0   \n13                256              9.0                      0   \n14                296             13.5                      0   \n15                356             18.0                      0   \n16                300              4.5                      0   \n17                360             13.5                      0   \n18                328             13.5                      0   \n19                300              0.0                      0   \n20                264              4.5                      0   \n21                 24            171.0                      0   \n22                 48            207.0                      0   \n23                128            144.0                      0   \n24                 40            378.0                      0   \n25                 56            207.0                      0   \n26                 28            306.0                      0   \n27                 40            288.0                      0   \n28                 24            171.0                      0   \n29                108            126.0                      0   \n30                 16            261.0                      0   \n31                 12             36.0                      0   \n32                 16            144.0                      0   \n33                 24            360.0                      0   \n34                 92             63.0                      0   \n\n    Total Saturated Fat (Cal)  Cholesterol (mg)  Calcium (mg)  Iron (mg)  \\\n0                        63.0               120             0       0.00   \n1                        27.0                10             0       0.00   \n2                        40.5                70             0       0.00   \n3                        63.0                95             0       0.00   \n4                        63.0                15             0       0.00   \n5                        81.0               100             0       0.00   \n6                         0.0                 0             0       0.00   \n7                         9.0                 5             0       0.00   \n8                         0.0                 0             0       0.00   \n9                         9.0                 5             0       0.00   \n10                        0.0                 0             0       0.00   \n11                        9.0                 5             0       0.00   \n12                        0.0                 0             0       0.00   \n13                        0.0                10             0       0.00   \n14                        9.0                 5           130       1.44   \n15                        4.5                 5           130       1.08   \n16                        0.0                 0           130       1.80   \n17                        4.5                 5           130       1.80   \n18                        9.0                 5           104       5.40   \n19                        0.0                 0           260       1.80   \n20                        0.0                 0           104       1.80   \n21                       90.0                50             0       0.00   \n22                       90.0               120             0       0.00   \n23                       45.0                90             0       0.00   \n24                      117.0                95             0       0.00   \n25                       40.5                65             0       0.00   \n26                       63.0               110             0       0.00   \n27                       99.0               125             0       0.00   \n28                       81.0                85             0       0.00   \n29                       27.0                25             0       0.00   \n30                       90.0                80             0       0.00   \n31                        0.0                85             0       0.00   \n32                       36.0                35             0       0.00   \n33                      126.0               135             0       0.00   \n34                        0.0                20             0       0.00   \n\n    Sodium (mg)  Vitamin A (mcg RAE)  Vitamin C (mg)  \n0           770                  0.0               0  \n1          1230                  0.0               0  \n2           680                  0.0               0  \n3           590                  0.0               0  \n4           870                  0.0               0  \n5          1540                  0.0               0  \n6            30                  0.0               0  \n7           320                  0.0               0  \n8           150                  0.0               0  \n9           320                  0.0               0  \n10           95                  0.0               0  \n11          320                  0.0               0  \n12           55                  0.0               0  \n13          260                  0.0               0  \n14           55                 60.0              54  \n15          690               2100.0              66  \n16           35               1350.0              78  \n17           40                 60.0              90  \n18           50                 30.0              66  \n19          140                 30.0              48  \n20           25                 30.0              72  \n21          540                  0.0               0  \n22          970                  0.0               0  \n23         1000                  0.0               0  \n24         2300                  0.0               0  \n25         2390                  0.0               0  \n26         1870                  0.0               0  \n27         1040                  0.0               0  \n28          930                  0.0               0  \n29          380                  0.0               0  \n30         1690                  0.0               0  \n31          790                  0.0               0  \n32          820                  0.0               0  \n33         1930                  0.0               0  \n34          190                  0.0               0  ",
      "text/html": "<div>\n<style scoped>\n    .dataframe tbody tr th:only-of-type {\n        vertical-align: middle;\n    }\n\n    .dataframe tbody tr th {\n        vertical-align: top;\n    }\n\n    .dataframe thead th {\n        text-align: right;\n    }\n</style>\n<table border=\"1\" class=\"dataframe\">\n  <thead>\n    <tr style=\"text-align: right;\">\n      <th></th>\n      <th>Restaurant</th>\n      <th>Food_Name</th>\n      <th>Calories</th>\n      <th>Protein (Cal)</th>\n      <th>Carbohydrate (Cal)</th>\n      <th>Fiber (gr)</th>\n      <th>Total Sugar (Cal)</th>\n      <th>Total Fat (Cal)</th>\n      <th>Total Trans Fat (Cal)</th>\n      <th>Total Saturated Fat (Cal)</th>\n      <th>Cholesterol (mg)</th>\n      <th>Calcium (mg)</th>\n      <th>Iron (mg)</th>\n      <th>Sodium (mg)</th>\n      <th>Vitamin A (mcg RAE)</th>\n      <th>Vitamin C (mg)</th>\n    </tr>\n  </thead>\n  <tbody>\n    <tr>\n      <th>0</th>\n      <td>Panera Bread</td>\n      <td>Caesar Salad with Chicken, Whole</td>\n      <td>450</td>\n      <td>140</td>\n      <td>68</td>\n      <td>2</td>\n      <td>8</td>\n      <td>243.0</td>\n      <td>0</td>\n      <td>63.0</td>\n      <td>120</td>\n      <td>0</td>\n      <td>0.00</td>\n      <td>770</td>\n      <td>0.0</td>\n      <td>0</td>\n    </tr>\n    <tr>\n      <th>1</th>\n      <td>Panera Bread</td>\n      <td>Mediterranean Veggie Sandwich on Tomato Basil,...</td>\n      <td>440</td>\n      <td>72</td>\n      <td>268</td>\n      <td>6</td>\n      <td>32</td>\n      <td>117.0</td>\n      <td>0</td>\n      <td>27.0</td>\n      <td>10</td>\n      <td>0</td>\n      <td>0.00</td>\n      <td>1230</td>\n      <td>0.0</td>\n      <td>0</td>\n    </tr>\n    <tr>\n      <th>2</th>\n      <td>Panera Bread</td>\n      <td>Napa Almond Chicken Salad Sandwich on Country ...</td>\n      <td>630</td>\n      <td>112</td>\n      <td>240</td>\n      <td>5</td>\n      <td>48</td>\n      <td>288.0</td>\n      <td>0</td>\n      <td>40.5</td>\n      <td>70</td>\n      <td>0</td>\n      <td>0.00</td>\n      <td>680</td>\n      <td>0.0</td>\n      <td>0</td>\n    </tr>\n    <tr>\n      <th>3</th>\n      <td>Panera Bread</td>\n      <td>Fuji Apple Salad with Chicken, Whole</td>\n      <td>570</td>\n      <td>132</td>\n      <td>144</td>\n      <td>6</td>\n      <td>80</td>\n      <td>315.0</td>\n      <td>0</td>\n      <td>63.0</td>\n      <td>95</td>\n      <td>0</td>\n      <td>0.00</td>\n      <td>590</td>\n      <td>0.0</td>\n      <td>0</td>\n    </tr>\n    <tr>\n      <th>4</th>\n      <td>Panera Bread</td>\n      <td>Modern Greek Salad with Quinoa, Whole</td>\n      <td>530</td>\n      <td>48</td>\n      <td>108</td>\n      <td>7</td>\n      <td>16</td>\n      <td>387.0</td>\n      <td>0</td>\n      <td>63.0</td>\n      <td>15</td>\n      <td>0</td>\n      <td>0.00</td>\n      <td>870</td>\n      <td>0.0</td>\n      <td>0</td>\n    </tr>\n    <tr>\n      <th>5</th>\n      <td>Panera Bread</td>\n      <td>Bacon Turkey Bravo Sandwich on Tomato Basil, W...</td>\n      <td>630</td>\n      <td>184</td>\n      <td>228</td>\n      <td>3</td>\n      <td>24</td>\n      <td>216.0</td>\n      <td>0</td>\n      <td>81.0</td>\n      <td>100</td>\n      <td>0</td>\n      <td>0.00</td>\n      <td>1540</td>\n      <td>0.0</td>\n      <td>0</td>\n    </tr>\n    <tr>\n      <th>6</th>\n      <td>Panera Bread</td>\n      <td>Green Passion Smoothie</td>\n      <td>200</td>\n      <td>8</td>\n      <td>204</td>\n      <td>2</td>\n      <td>188</td>\n      <td>0.0</td>\n      <td>0</td>\n      <td>0.0</td>\n      <td>0</td>\n      <td>0</td>\n      <td>0.00</td>\n      <td>30</td>\n      <td>0.0</td>\n      <td>0</td>\n    </tr>\n    <tr>\n      <th>7</th>\n      <td>Smoothie King</td>\n      <td>Lean1 Chocolate Smoothie</td>\n      <td>290</td>\n      <td>88</td>\n      <td>112</td>\n      <td>7</td>\n      <td>72</td>\n      <td>99.0</td>\n      <td>0</td>\n      <td>9.0</td>\n      <td>5</td>\n      <td>0</td>\n      <td>0.00</td>\n      <td>320</td>\n      <td>0.0</td>\n      <td>0</td>\n    </tr>\n    <tr>\n      <th>8</th>\n      <td>Smoothie King</td>\n      <td>Gladiator Smoothie</td>\n      <td>180</td>\n      <td>180</td>\n      <td>4</td>\n      <td>0</td>\n      <td>0</td>\n      <td>0.0</td>\n      <td>0</td>\n      <td>0.0</td>\n      <td>0</td>\n      <td>0</td>\n      <td>0.00</td>\n      <td>150</td>\n      <td>0.0</td>\n      <td>0</td>\n    </tr>\n    <tr>\n      <th>9</th>\n      <td>Smoothie King</td>\n      <td>Lean1 Strawberry Smoothie</td>\n      <td>280</td>\n      <td>80</td>\n      <td>140</td>\n      <td>5</td>\n      <td>112</td>\n      <td>54.0</td>\n      <td>0</td>\n      <td>9.0</td>\n      <td>5</td>\n      <td>0</td>\n      <td>0.00</td>\n      <td>320</td>\n      <td>0.0</td>\n      <td>0</td>\n    </tr>\n    <tr>\n      <th>10</th>\n      <td>Smoothie King</td>\n      <td>Berry Punch Smoothie</td>\n      <td>360</td>\n      <td>0</td>\n      <td>364</td>\n      <td>4</td>\n      <td>336</td>\n      <td>0.0</td>\n      <td>0</td>\n      <td>0.0</td>\n      <td>0</td>\n      <td>0</td>\n      <td>0.00</td>\n      <td>95</td>\n      <td>0.0</td>\n      <td>0</td>\n    </tr>\n    <tr>\n      <th>11</th>\n      <td>Smoothie King</td>\n      <td>Lean1 Vanilla Smoothie</td>\n      <td>270</td>\n      <td>88</td>\n      <td>104</td>\n      <td>5</td>\n      <td>68</td>\n      <td>90.0</td>\n      <td>0</td>\n      <td>9.0</td>\n      <td>5</td>\n      <td>0</td>\n      <td>0.00</td>\n      <td>320</td>\n      <td>0.0</td>\n      <td>0</td>\n    </tr>\n    <tr>\n      <th>12</th>\n      <td>Smoothie King</td>\n      <td>Immune Builder Smoothie</td>\n      <td>380</td>\n      <td>20</td>\n      <td>356</td>\n      <td>6</td>\n      <td>308</td>\n      <td>9.0</td>\n      <td>0</td>\n      <td>0.0</td>\n      <td>0</td>\n      <td>0</td>\n      <td>0.00</td>\n      <td>55</td>\n      <td>0.0</td>\n      <td>0</td>\n    </tr>\n    <tr>\n      <th>13</th>\n      <td>Smoothie King</td>\n      <td>Blueberry Heaven Smoothie</td>\n      <td>330</td>\n      <td>28</td>\n      <td>292</td>\n      <td>2</td>\n      <td>256</td>\n      <td>9.0</td>\n      <td>0</td>\n      <td>0.0</td>\n      <td>10</td>\n      <td>0</td>\n      <td>0.00</td>\n      <td>260</td>\n      <td>0.0</td>\n      <td>0</td>\n    </tr>\n    <tr>\n      <th>14</th>\n      <td>Jamba Juice</td>\n      <td>Razzmatazz Smoothie, Medium</td>\n      <td>390</td>\n      <td>12</td>\n      <td>364</td>\n      <td>4</td>\n      <td>296</td>\n      <td>13.5</td>\n      <td>0</td>\n      <td>9.0</td>\n      <td>5</td>\n      <td>130</td>\n      <td>1.44</td>\n      <td>55</td>\n      <td>60.0</td>\n      <td>54</td>\n    </tr>\n    <tr>\n      <th>15</th>\n      <td>Jamba Juice</td>\n      <td>Chili Mango Smoothie, Medium</td>\n      <td>410</td>\n      <td>12</td>\n      <td>376</td>\n      <td>3</td>\n      <td>356</td>\n      <td>18.0</td>\n      <td>0</td>\n      <td>4.5</td>\n      <td>5</td>\n      <td>130</td>\n      <td>1.08</td>\n      <td>690</td>\n      <td>2100.0</td>\n      <td>66</td>\n    </tr>\n    <tr>\n      <th>16</th>\n      <td>Jamba Juice</td>\n      <td>Pomegranate Paradise Smoothie, Medium</td>\n      <td>360</td>\n      <td>8</td>\n      <td>360</td>\n      <td>5</td>\n      <td>300</td>\n      <td>4.5</td>\n      <td>0</td>\n      <td>0.0</td>\n      <td>0</td>\n      <td>130</td>\n      <td>1.80</td>\n      <td>35</td>\n      <td>1350.0</td>\n      <td>78</td>\n    </tr>\n    <tr>\n      <th>17</th>\n      <td>Jamba Juice</td>\n      <td>Aloha Pineapple Smoothie, Medium</td>\n      <td>410</td>\n      <td>32</td>\n      <td>384</td>\n      <td>3</td>\n      <td>360</td>\n      <td>13.5</td>\n      <td>0</td>\n      <td>4.5</td>\n      <td>5</td>\n      <td>130</td>\n      <td>1.80</td>\n      <td>40</td>\n      <td>60.0</td>\n      <td>90</td>\n    </tr>\n    <tr>\n      <th>18</th>\n      <td>Jamba Juice</td>\n      <td>Watermelon Breeze Smoothie, Medium</td>\n      <td>420</td>\n      <td>12</td>\n      <td>404</td>\n      <td>3</td>\n      <td>328</td>\n      <td>13.5</td>\n      <td>0</td>\n      <td>9.0</td>\n      <td>5</td>\n      <td>104</td>\n      <td>5.40</td>\n      <td>50</td>\n      <td>30.0</td>\n      <td>66</td>\n    </tr>\n    <tr>\n      <th>19</th>\n      <td>Jamba Juice</td>\n      <td>Strawberries Wild Smoothie, Medium</td>\n      <td>370</td>\n      <td>20</td>\n      <td>344</td>\n      <td>3</td>\n      <td>300</td>\n      <td>0.0</td>\n      <td>0</td>\n      <td>0.0</td>\n      <td>0</td>\n      <td>260</td>\n      <td>1.80</td>\n      <td>140</td>\n      <td>30.0</td>\n      <td>48</td>\n    </tr>\n    <tr>\n      <th>20</th>\n      <td>Jamba Juice</td>\n      <td>Strawberry Whirl Smoothie, Medium</td>\n      <td>310</td>\n      <td>8</td>\n      <td>308</td>\n      <td>6</td>\n      <td>264</td>\n      <td>4.5</td>\n      <td>0</td>\n      <td>0.0</td>\n      <td>0</td>\n      <td>104</td>\n      <td>1.80</td>\n      <td>25</td>\n      <td>30.0</td>\n      <td>72</td>\n    </tr>\n    <tr>\n      <th>21</th>\n      <td>McAlister's Deli</td>\n      <td>Garden Salad</td>\n      <td>310</td>\n      <td>72</td>\n      <td>76</td>\n      <td>3</td>\n      <td>24</td>\n      <td>171.0</td>\n      <td>0</td>\n      <td>90.0</td>\n      <td>50</td>\n      <td>0</td>\n      <td>0.00</td>\n      <td>540</td>\n      <td>0.0</td>\n      <td>0</td>\n    </tr>\n    <tr>\n      <th>22</th>\n      <td>McAlister's Deli</td>\n      <td>Grilled Chicken Sandwich</td>\n      <td>560</td>\n      <td>164</td>\n      <td>188</td>\n      <td>2</td>\n      <td>48</td>\n      <td>207.0</td>\n      <td>0</td>\n      <td>90.0</td>\n      <td>120</td>\n      <td>0</td>\n      <td>0.00</td>\n      <td>970</td>\n      <td>0.0</td>\n      <td>0</td>\n    </tr>\n    <tr>\n      <th>23</th>\n      <td>McAlister's Deli</td>\n      <td>Savannah Chopped Salad</td>\n      <td>480</td>\n      <td>160</td>\n      <td>172</td>\n      <td>4</td>\n      <td>128</td>\n      <td>144.0</td>\n      <td>0</td>\n      <td>45.0</td>\n      <td>90</td>\n      <td>0</td>\n      <td>0.00</td>\n      <td>1000</td>\n      <td>0.0</td>\n      <td>0</td>\n    </tr>\n    <tr>\n      <th>24</th>\n      <td>McAlister's Deli</td>\n      <td>Italian Chopped Salad</td>\n      <td>570</td>\n      <td>132</td>\n      <td>64</td>\n      <td>4</td>\n      <td>40</td>\n      <td>378.0</td>\n      <td>0</td>\n      <td>117.0</td>\n      <td>95</td>\n      <td>0</td>\n      <td>0.00</td>\n      <td>2300</td>\n      <td>0.0</td>\n      <td>0</td>\n    </tr>\n    <tr>\n      <th>25</th>\n      <td>McAlister's Deli</td>\n      <td>Garden Fresh Turkey Sandwich</td>\n      <td>670</td>\n      <td>144</td>\n      <td>312</td>\n      <td>10</td>\n      <td>56</td>\n      <td>207.0</td>\n      <td>0</td>\n      <td>40.5</td>\n      <td>65</td>\n      <td>0</td>\n      <td>0.00</td>\n      <td>2390</td>\n      <td>0.0</td>\n      <td>0</td>\n    </tr>\n    <tr>\n      <th>26</th>\n      <td>McAlister's Deli</td>\n      <td>French Onion Chicken Sandwich</td>\n      <td>810</td>\n      <td>200</td>\n      <td>296</td>\n      <td>4</td>\n      <td>28</td>\n      <td>306.0</td>\n      <td>0</td>\n      <td>63.0</td>\n      <td>110</td>\n      <td>0</td>\n      <td>0.00</td>\n      <td>1870</td>\n      <td>0.0</td>\n      <td>0</td>\n    </tr>\n    <tr>\n      <th>27</th>\n      <td>McAlister's Deli</td>\n      <td>Southwest Chicken &amp; Avocado Salad</td>\n      <td>630</td>\n      <td>200</td>\n      <td>152</td>\n      <td>9</td>\n      <td>40</td>\n      <td>288.0</td>\n      <td>0</td>\n      <td>99.0</td>\n      <td>125</td>\n      <td>0</td>\n      <td>0.00</td>\n      <td>1040</td>\n      <td>0.0</td>\n      <td>0</td>\n    </tr>\n    <tr>\n      <th>28</th>\n      <td>Saladworks</td>\n      <td>Tivoli</td>\n      <td>430</td>\n      <td>132</td>\n      <td>128</td>\n      <td>4</td>\n      <td>24</td>\n      <td>171.0</td>\n      <td>0</td>\n      <td>81.0</td>\n      <td>85</td>\n      <td>0</td>\n      <td>0.00</td>\n      <td>930</td>\n      <td>0.0</td>\n      <td>0</td>\n    </tr>\n    <tr>\n      <th>29</th>\n      <td>Saladworks</td>\n      <td>Sophie's Salad</td>\n      <td>310</td>\n      <td>48</td>\n      <td>140</td>\n      <td>12</td>\n      <td>108</td>\n      <td>126.0</td>\n      <td>0</td>\n      <td>27.0</td>\n      <td>25</td>\n      <td>0</td>\n      <td>0.00</td>\n      <td>380</td>\n      <td>0.0</td>\n      <td>0</td>\n    </tr>\n    <tr>\n      <th>30</th>\n      <td>Saladworks</td>\n      <td>Buffalo Chicken Panini</td>\n      <td>660</td>\n      <td>172</td>\n      <td>224</td>\n      <td>2</td>\n      <td>16</td>\n      <td>261.0</td>\n      <td>0</td>\n      <td>90.0</td>\n      <td>80</td>\n      <td>0</td>\n      <td>0.00</td>\n      <td>1690</td>\n      <td>0.0</td>\n      <td>0</td>\n    </tr>\n    <tr>\n      <th>31</th>\n      <td>Saladworks</td>\n      <td>Chicken Caesar</td>\n      <td>290</td>\n      <td>168</td>\n      <td>76</td>\n      <td>3</td>\n      <td>12</td>\n      <td>36.0</td>\n      <td>0</td>\n      <td>0.0</td>\n      <td>85</td>\n      <td>0</td>\n      <td>0.00</td>\n      <td>790</td>\n      <td>0.0</td>\n      <td>0</td>\n    </tr>\n    <tr>\n      <th>32</th>\n      <td>Saladworks</td>\n      <td>Cobb</td>\n      <td>270</td>\n      <td>92</td>\n      <td>52</td>\n      <td>6</td>\n      <td>16</td>\n      <td>144.0</td>\n      <td>0</td>\n      <td>36.0</td>\n      <td>35</td>\n      <td>0</td>\n      <td>0.00</td>\n      <td>820</td>\n      <td>0.0</td>\n      <td>0</td>\n    </tr>\n    <tr>\n      <th>33</th>\n      <td>Saladworks</td>\n      <td>Turkey Melt</td>\n      <td>800</td>\n      <td>188</td>\n      <td>240</td>\n      <td>2</td>\n      <td>24</td>\n      <td>360.0</td>\n      <td>0</td>\n      <td>126.0</td>\n      <td>135</td>\n      <td>0</td>\n      <td>0.00</td>\n      <td>1930</td>\n      <td>0.0</td>\n      <td>0</td>\n    </tr>\n    <tr>\n      <th>34</th>\n      <td>Saladworks</td>\n      <td>Mandarin Chicken</td>\n      <td>230</td>\n      <td>48</td>\n      <td>148</td>\n      <td>11</td>\n      <td>92</td>\n      <td>63.0</td>\n      <td>0</td>\n      <td>0.0</td>\n      <td>20</td>\n      <td>0</td>\n      <td>0.00</td>\n      <td>190</td>\n      <td>0.0</td>\n      <td>0</td>\n    </tr>\n  </tbody>\n</table>\n</div>"
     },
     "metadata": {},
     "execution_count": 29
    }
   ],
   "source": []
  },
  {
   "cell_type": "code",
   "execution_count": null,
   "metadata": {},
   "outputs": [],
   "source": []
  }
 ],
 "metadata": {
  "kernelspec": {
   "display_name": "Python 3",
   "language": "python",
   "name": "python3"
  },
  "language_info": {
   "codemirror_mode": {
    "name": "ipython",
    "version": 3
   },
   "file_extension": ".py",
   "mimetype": "text/x-python",
   "name": "python",
   "nbconvert_exporter": "python",
   "pygments_lexer": "ipython3",
   "version": "3.7.6-final"
  }
 },
 "nbformat": 4,
 "nbformat_minor": 4
}