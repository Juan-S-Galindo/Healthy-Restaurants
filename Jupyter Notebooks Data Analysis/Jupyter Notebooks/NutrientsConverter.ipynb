{
 "cells": [
  {
   "cell_type": "code",
   "execution_count": 14,
   "metadata": {},
   "outputs": [],
   "source": [
    "import pandas as pd\n",
    "\n",
    "import ast"
   ]
  },
  {
   "cell_type": "code",
   "execution_count": 15,
   "metadata": {},
   "outputs": [
    {
     "output_type": "execute_result",
     "data": {
      "text/plain": "  Restaurant        Food_Name  \\\n0     Subway     Cheese Pizza   \n1     Subway    Sausage Pizza   \n2     Subway   Meatball Pizza   \n3     Subway  Pepperoni Pizza   \n4     Subway      Bacon Pizza   \n\n                                           Nutrients  Calories  \n0  [{'value': 28, 'attr_id': 203}, {'value': 23, ...       720  \n1  [{'value': 35, 'attr_id': 203}, {'value': 35, ...       860  \n2  [{'value': 37, 'attr_id': 203}, {'value': 33, ...       860  \n3  [{'value': 35, 'attr_id': 203}, {'value': 33, ...       840  \n4  [{'value': 37, 'attr_id': 203}, {'value': 31, ...       840  ",
      "text/html": "<div>\n<style scoped>\n    .dataframe tbody tr th:only-of-type {\n        vertical-align: middle;\n    }\n\n    .dataframe tbody tr th {\n        vertical-align: top;\n    }\n\n    .dataframe thead th {\n        text-align: right;\n    }\n</style>\n<table border=\"1\" class=\"dataframe\">\n  <thead>\n    <tr style=\"text-align: right;\">\n      <th></th>\n      <th>Restaurant</th>\n      <th>Food_Name</th>\n      <th>Nutrients</th>\n      <th>Calories</th>\n    </tr>\n  </thead>\n  <tbody>\n    <tr>\n      <th>0</th>\n      <td>Subway</td>\n      <td>Cheese Pizza</td>\n      <td>[{'value': 28, 'attr_id': 203}, {'value': 23, ...</td>\n      <td>720</td>\n    </tr>\n    <tr>\n      <th>1</th>\n      <td>Subway</td>\n      <td>Sausage Pizza</td>\n      <td>[{'value': 35, 'attr_id': 203}, {'value': 35, ...</td>\n      <td>860</td>\n    </tr>\n    <tr>\n      <th>2</th>\n      <td>Subway</td>\n      <td>Meatball Pizza</td>\n      <td>[{'value': 37, 'attr_id': 203}, {'value': 33, ...</td>\n      <td>860</td>\n    </tr>\n    <tr>\n      <th>3</th>\n      <td>Subway</td>\n      <td>Pepperoni Pizza</td>\n      <td>[{'value': 35, 'attr_id': 203}, {'value': 33, ...</td>\n      <td>840</td>\n    </tr>\n    <tr>\n      <th>4</th>\n      <td>Subway</td>\n      <td>Bacon Pizza</td>\n      <td>[{'value': 37, 'attr_id': 203}, {'value': 31, ...</td>\n      <td>840</td>\n    </tr>\n  </tbody>\n</table>\n</div>"
     },
     "metadata": {},
     "execution_count": 15
    }
   ],
   "source": [
    "foodRaw_df = pd.read_csv('../../Resources/CSVs/all_food.csv')\n",
    "\n",
    "foodRaw_df.head()"
   ]
  },
  {
   "cell_type": "code",
   "execution_count": 16,
   "metadata": {},
   "outputs": [
    {
     "output_type": "execute_result",
     "data": {
      "text/plain": "         2018 NFP    usda_tag                         name  unit notes  \\\nattr_id                                                                  \n203           1.0      PROCNT                      Protein     g   NaN   \n204           1.0         FAT            Total lipid (fat)     g   NaN   \n205           1.0      CHOCDF  Carbohydrate, by difference     g   NaN   \n207           0.0         ASH                          Ash     g   NaN   \n208           1.0  ENERC_KCAL                       Energy  kcal   NaN   \n\n                bulk_csv_field cxh_attribute_name Unnamed: 8  \nattr_id                                                       \n203                 nf_protein               PRO-        NaN  \n204               nf_total_fat                FAT        NaN  \n205      nf_total_carbohydrate               CHO-        NaN  \n207                        NaN                NaN        NaN  \n208                nf_calories              ENER-        NaN  ",
      "text/html": "<div>\n<style scoped>\n    .dataframe tbody tr th:only-of-type {\n        vertical-align: middle;\n    }\n\n    .dataframe tbody tr th {\n        vertical-align: top;\n    }\n\n    .dataframe thead th {\n        text-align: right;\n    }\n</style>\n<table border=\"1\" class=\"dataframe\">\n  <thead>\n    <tr style=\"text-align: right;\">\n      <th></th>\n      <th>2018 NFP</th>\n      <th>usda_tag</th>\n      <th>name</th>\n      <th>unit</th>\n      <th>notes</th>\n      <th>bulk_csv_field</th>\n      <th>cxh_attribute_name</th>\n      <th>Unnamed: 8</th>\n    </tr>\n    <tr>\n      <th>attr_id</th>\n      <th></th>\n      <th></th>\n      <th></th>\n      <th></th>\n      <th></th>\n      <th></th>\n      <th></th>\n      <th></th>\n    </tr>\n  </thead>\n  <tbody>\n    <tr>\n      <th>203</th>\n      <td>1.0</td>\n      <td>PROCNT</td>\n      <td>Protein</td>\n      <td>g</td>\n      <td>NaN</td>\n      <td>nf_protein</td>\n      <td>PRO-</td>\n      <td>NaN</td>\n    </tr>\n    <tr>\n      <th>204</th>\n      <td>1.0</td>\n      <td>FAT</td>\n      <td>Total lipid (fat)</td>\n      <td>g</td>\n      <td>NaN</td>\n      <td>nf_total_fat</td>\n      <td>FAT</td>\n      <td>NaN</td>\n    </tr>\n    <tr>\n      <th>205</th>\n      <td>1.0</td>\n      <td>CHOCDF</td>\n      <td>Carbohydrate, by difference</td>\n      <td>g</td>\n      <td>NaN</td>\n      <td>nf_total_carbohydrate</td>\n      <td>CHO-</td>\n      <td>NaN</td>\n    </tr>\n    <tr>\n      <th>207</th>\n      <td>0.0</td>\n      <td>ASH</td>\n      <td>Ash</td>\n      <td>g</td>\n      <td>NaN</td>\n      <td>NaN</td>\n      <td>NaN</td>\n      <td>NaN</td>\n    </tr>\n    <tr>\n      <th>208</th>\n      <td>1.0</td>\n      <td>ENERC_KCAL</td>\n      <td>Energy</td>\n      <td>kcal</td>\n      <td>NaN</td>\n      <td>nf_calories</td>\n      <td>ENER-</td>\n      <td>NaN</td>\n    </tr>\n  </tbody>\n</table>\n</div>"
     },
     "metadata": {},
     "execution_count": 16
    }
   ],
   "source": [
    "nutrient_map = pd.read_csv('../../Resources/CSVs/Nutritionix API v2 - Full Nutrient USDA Field Mapping.csv')\n",
    "\n",
    "nutrient_map = nutrient_map.set_index('attr_id')\n",
    "\n",
    "nutrient_map.head()"
   ]
  },
  {
   "cell_type": "code",
   "execution_count": 17,
   "metadata": {},
   "outputs": [
    {
     "output_type": "execute_result",
     "data": {
      "text/plain": "  Restaurant        Food_Name  \\\n0     Subway     Cheese Pizza   \n1     Subway    Sausage Pizza   \n2     Subway   Meatball Pizza   \n3     Subway  Pepperoni Pizza   \n4     Subway      Bacon Pizza   \n\n                                           Nutrients  Calories  Protein  \\\n0  [{'value': 28, 'attr_id': 203}, {'value': 23, ...       720      112   \n1  [{'value': 35, 'attr_id': 203}, {'value': 35, ...       860      140   \n2  [{'value': 37, 'attr_id': 203}, {'value': 33, ...       860      148   \n3  [{'value': 35, 'attr_id': 203}, {'value': 33, ...       840      140   \n4  [{'value': 37, 'attr_id': 203}, {'value': 31, ...       840      148   \n\n   Total lipid (fat)  Carbohydrate, by difference  Energy  Sugars, total  \\\n0              207.0                          388     720             28   \n1              315.0                          392     860             32   \n2              297.0                          400     860             28   \n3              297.0                          388     840             32   \n4              279.0                          392     840             32   \n\n   Fiber, total dietary  Calcium, Ca  Iron, Fe  Sodium, Na  Vitamin A, IU  \\\n0                     4          520       7.2        1530          300.0   \n1                     4          650       7.2        1870          300.0   \n2                     5          650       8.1        1840          300.0   \n3                     4          650       7.2        1800          300.0   \n4                     4          650       7.2        2060          300.0   \n\n   Vitamin C, total ascorbic acid  Cholesterol  Fatty acids, total trans  \\\n0                             9.0           50                       5.0   \n1                             9.0           80                       5.0   \n2                             9.0           80                      10.0   \n3                             9.0           70                      10.0   \n4                             9.0           70                       5.0   \n\n   Fatty acids, total saturated  \n0                          81.0  \n1                         126.0  \n2                         126.0  \n3                         117.0  \n4                         108.0  ",
      "text/html": "<div>\n<style scoped>\n    .dataframe tbody tr th:only-of-type {\n        vertical-align: middle;\n    }\n\n    .dataframe tbody tr th {\n        vertical-align: top;\n    }\n\n    .dataframe thead th {\n        text-align: right;\n    }\n</style>\n<table border=\"1\" class=\"dataframe\">\n  <thead>\n    <tr style=\"text-align: right;\">\n      <th></th>\n      <th>Restaurant</th>\n      <th>Food_Name</th>\n      <th>Nutrients</th>\n      <th>Calories</th>\n      <th>Protein</th>\n      <th>Total lipid (fat)</th>\n      <th>Carbohydrate, by difference</th>\n      <th>Energy</th>\n      <th>Sugars, total</th>\n      <th>Fiber, total dietary</th>\n      <th>Calcium, Ca</th>\n      <th>Iron, Fe</th>\n      <th>Sodium, Na</th>\n      <th>Vitamin A, IU</th>\n      <th>Vitamin C, total ascorbic acid</th>\n      <th>Cholesterol</th>\n      <th>Fatty acids, total trans</th>\n      <th>Fatty acids, total saturated</th>\n    </tr>\n  </thead>\n  <tbody>\n    <tr>\n      <th>0</th>\n      <td>Subway</td>\n      <td>Cheese Pizza</td>\n      <td>[{'value': 28, 'attr_id': 203}, {'value': 23, ...</td>\n      <td>720</td>\n      <td>112</td>\n      <td>207.0</td>\n      <td>388</td>\n      <td>720</td>\n      <td>28</td>\n      <td>4</td>\n      <td>520</td>\n      <td>7.2</td>\n      <td>1530</td>\n      <td>300.0</td>\n      <td>9.0</td>\n      <td>50</td>\n      <td>5.0</td>\n      <td>81.0</td>\n    </tr>\n    <tr>\n      <th>1</th>\n      <td>Subway</td>\n      <td>Sausage Pizza</td>\n      <td>[{'value': 35, 'attr_id': 203}, {'value': 35, ...</td>\n      <td>860</td>\n      <td>140</td>\n      <td>315.0</td>\n      <td>392</td>\n      <td>860</td>\n      <td>32</td>\n      <td>4</td>\n      <td>650</td>\n      <td>7.2</td>\n      <td>1870</td>\n      <td>300.0</td>\n      <td>9.0</td>\n      <td>80</td>\n      <td>5.0</td>\n      <td>126.0</td>\n    </tr>\n    <tr>\n      <th>2</th>\n      <td>Subway</td>\n      <td>Meatball Pizza</td>\n      <td>[{'value': 37, 'attr_id': 203}, {'value': 33, ...</td>\n      <td>860</td>\n      <td>148</td>\n      <td>297.0</td>\n      <td>400</td>\n      <td>860</td>\n      <td>28</td>\n      <td>5</td>\n      <td>650</td>\n      <td>8.1</td>\n      <td>1840</td>\n      <td>300.0</td>\n      <td>9.0</td>\n      <td>80</td>\n      <td>10.0</td>\n      <td>126.0</td>\n    </tr>\n    <tr>\n      <th>3</th>\n      <td>Subway</td>\n      <td>Pepperoni Pizza</td>\n      <td>[{'value': 35, 'attr_id': 203}, {'value': 33, ...</td>\n      <td>840</td>\n      <td>140</td>\n      <td>297.0</td>\n      <td>388</td>\n      <td>840</td>\n      <td>32</td>\n      <td>4</td>\n      <td>650</td>\n      <td>7.2</td>\n      <td>1800</td>\n      <td>300.0</td>\n      <td>9.0</td>\n      <td>70</td>\n      <td>10.0</td>\n      <td>117.0</td>\n    </tr>\n    <tr>\n      <th>4</th>\n      <td>Subway</td>\n      <td>Bacon Pizza</td>\n      <td>[{'value': 37, 'attr_id': 203}, {'value': 31, ...</td>\n      <td>840</td>\n      <td>148</td>\n      <td>279.0</td>\n      <td>392</td>\n      <td>840</td>\n      <td>32</td>\n      <td>4</td>\n      <td>650</td>\n      <td>7.2</td>\n      <td>2060</td>\n      <td>300.0</td>\n      <td>9.0</td>\n      <td>70</td>\n      <td>5.0</td>\n      <td>108.0</td>\n    </tr>\n  </tbody>\n</table>\n</div>"
     },
     "metadata": {},
     "execution_count": 17
    }
   ],
   "source": [
    "for index,row in foodRaw_df.iterrows(): #iterate each index and row.\n",
    "    \n",
    "    nutrients = ast.literal_eval(row['Nutrients']) #The original column was as string. ast.literal_eval -->interprets \"strings, bytes, numbers, tuples, lists, dicts, sets, booleans, and None.\" and returns it in the right format.. Anything else is an error.\n",
    "    \n",
    "    for nutrient in nutrients: #Iterates each of the nutrients dictionaries. \n",
    "        \n",
    "        name = nutrient_map.loc[nutrient['attr_id'],'name'] #locates the name in the nutrient_map csv. \n",
    "        \n",
    "        conversion_dict = { #Converts the columns from grams to calories.\n",
    "            'Protein' : 4, #To cal\n",
    "            'Carbohydrate, by difference' : 4, #to cal\n",
    "            'Total lipid (fat)' : 9, #to cal\n",
    "            'Vitamin A, IU' : 0.3, #to mcg RAE\n",
    "            'Fatty acids, total trans' : 10,\n",
    "            'Fatty acids, total saturated' : 9,\n",
    "            'Sugars, total' : 4} \n",
    "        \n",
    "        if name in conversion_dict.keys():\n",
    "            conversionFactor = conversion_dict[name]\n",
    "        else:\n",
    "            conversionFactor = 1\n",
    "        \n",
    "        value = nutrient['value'] \n",
    "        \n",
    "       \n",
    "        if name in foodRaw_df.columns: #if the nutrient is a DataFrame column.\n",
    "                \n",
    "            foodRaw_df.loc[index,name] = value * conversionFactor #Adds the value. \n",
    "        \n",
    "        else: #if the nutrient is not in the DataFrame\n",
    "            foodRaw_df[name] =''\n",
    "            foodRaw_df.loc[index,name] = value * conversionFactor\n",
    "        \n",
    "food_df = foodRaw_df.replace(r\"^\\s*$\", 0, regex = True) #Finds and replace empty cells with 0. empty cell pattern = r\"^\\s*$\"\n",
    "\n",
    "food_df.head()"
   ]
  },
  {
   "cell_type": "code",
   "execution_count": 18,
   "metadata": {},
   "outputs": [
    {
     "output_type": "execute_result",
     "data": {
      "text/plain": "  Restaurant        Food_Name  Calories  Protein (Cal)  Carbohydrate (Cal)  \\\n0     Subway     Cheese Pizza       720            112                 388   \n1     Subway    Sausage Pizza       860            140                 392   \n2     Subway   Meatball Pizza       860            148                 400   \n3     Subway  Pepperoni Pizza       840            140                 388   \n4     Subway      Bacon Pizza       840            148                 392   \n\n   Fiber (gr)  Total Sugar (Cal)  Total Fat (Cal)  Total Trans Fat (Cal)  \\\n0           4                 28            207.0                    5.0   \n1           4                 32            315.0                    5.0   \n2           5                 28            297.0                   10.0   \n3           4                 32            297.0                   10.0   \n4           4                 32            279.0                    5.0   \n\n   Total Saturated Fat (Cal)  Cholesterol (mg)  Calcium (mg)  Iron (mg)  \\\n0                       81.0                50           520        7.2   \n1                      126.0                80           650        7.2   \n2                      126.0                80           650        8.1   \n3                      117.0                70           650        7.2   \n4                      108.0                70           650        7.2   \n\n   Sodium (mg)  Vitamin A (mcg RAE)  Vitamin C (mg)  \n0         1530                300.0             9.0  \n1         1870                300.0             9.0  \n2         1840                300.0             9.0  \n3         1800                300.0             9.0  \n4         2060                300.0             9.0  ",
      "text/html": "<div>\n<style scoped>\n    .dataframe tbody tr th:only-of-type {\n        vertical-align: middle;\n    }\n\n    .dataframe tbody tr th {\n        vertical-align: top;\n    }\n\n    .dataframe thead th {\n        text-align: right;\n    }\n</style>\n<table border=\"1\" class=\"dataframe\">\n  <thead>\n    <tr style=\"text-align: right;\">\n      <th></th>\n      <th>Restaurant</th>\n      <th>Food_Name</th>\n      <th>Calories</th>\n      <th>Protein (Cal)</th>\n      <th>Carbohydrate (Cal)</th>\n      <th>Fiber (gr)</th>\n      <th>Total Sugar (Cal)</th>\n      <th>Total Fat (Cal)</th>\n      <th>Total Trans Fat (Cal)</th>\n      <th>Total Saturated Fat (Cal)</th>\n      <th>Cholesterol (mg)</th>\n      <th>Calcium (mg)</th>\n      <th>Iron (mg)</th>\n      <th>Sodium (mg)</th>\n      <th>Vitamin A (mcg RAE)</th>\n      <th>Vitamin C (mg)</th>\n    </tr>\n  </thead>\n  <tbody>\n    <tr>\n      <th>0</th>\n      <td>Subway</td>\n      <td>Cheese Pizza</td>\n      <td>720</td>\n      <td>112</td>\n      <td>388</td>\n      <td>4</td>\n      <td>28</td>\n      <td>207.0</td>\n      <td>5.0</td>\n      <td>81.0</td>\n      <td>50</td>\n      <td>520</td>\n      <td>7.2</td>\n      <td>1530</td>\n      <td>300.0</td>\n      <td>9.0</td>\n    </tr>\n    <tr>\n      <th>1</th>\n      <td>Subway</td>\n      <td>Sausage Pizza</td>\n      <td>860</td>\n      <td>140</td>\n      <td>392</td>\n      <td>4</td>\n      <td>32</td>\n      <td>315.0</td>\n      <td>5.0</td>\n      <td>126.0</td>\n      <td>80</td>\n      <td>650</td>\n      <td>7.2</td>\n      <td>1870</td>\n      <td>300.0</td>\n      <td>9.0</td>\n    </tr>\n    <tr>\n      <th>2</th>\n      <td>Subway</td>\n      <td>Meatball Pizza</td>\n      <td>860</td>\n      <td>148</td>\n      <td>400</td>\n      <td>5</td>\n      <td>28</td>\n      <td>297.0</td>\n      <td>10.0</td>\n      <td>126.0</td>\n      <td>80</td>\n      <td>650</td>\n      <td>8.1</td>\n      <td>1840</td>\n      <td>300.0</td>\n      <td>9.0</td>\n    </tr>\n    <tr>\n      <th>3</th>\n      <td>Subway</td>\n      <td>Pepperoni Pizza</td>\n      <td>840</td>\n      <td>140</td>\n      <td>388</td>\n      <td>4</td>\n      <td>32</td>\n      <td>297.0</td>\n      <td>10.0</td>\n      <td>117.0</td>\n      <td>70</td>\n      <td>650</td>\n      <td>7.2</td>\n      <td>1800</td>\n      <td>300.0</td>\n      <td>9.0</td>\n    </tr>\n    <tr>\n      <th>4</th>\n      <td>Subway</td>\n      <td>Bacon Pizza</td>\n      <td>840</td>\n      <td>148</td>\n      <td>392</td>\n      <td>4</td>\n      <td>32</td>\n      <td>279.0</td>\n      <td>5.0</td>\n      <td>108.0</td>\n      <td>70</td>\n      <td>650</td>\n      <td>7.2</td>\n      <td>2060</td>\n      <td>300.0</td>\n      <td>9.0</td>\n    </tr>\n  </tbody>\n</table>\n</div>"
     },
     "metadata": {},
     "execution_count": 18
    }
   ],
   "source": [
    "#DataFrame columns order edit and columns rename.\n",
    "\n",
    "foodFiltered_df = food_df[['Restaurant',\n",
    "                           'Food_Name',\n",
    "                           'Calories',\n",
    "                           'Protein',\n",
    "                           'Carbohydrate, by difference',\n",
    "                           'Fiber, total dietary',\n",
    "                           'Sugars, total',\n",
    "                           'Total lipid (fat)',\n",
    "                           'Fatty acids, total trans',\n",
    "                           'Fatty acids, total saturated',\n",
    "                           'Cholesterol',\n",
    "                           'Calcium, Ca',\n",
    "                           'Iron, Fe',\n",
    "                           'Sodium, Na',\n",
    "                           'Vitamin A, IU',\n",
    "                          'Vitamin C, total ascorbic acid']]\n",
    "\n",
    "columns_name = {\n",
    "    'Protein' : 'Protein (Cal)',\n",
    "    'Carbohydrate, by difference' : 'Carbohydrate (Cal)',\n",
    "    'Fiber, total dietary' : 'Fiber (gr)',\n",
    "    'Sugars, total' : 'Total Sugar (Cal)',\n",
    "    'Total lipid (fat)' : 'Total Fat (Cal)',\n",
    "    'Cholesterol' : 'Cholesterol (mg)',\n",
    "    'Calcium, Ca' : 'Calcium (mg)',\n",
    "    'Iron, Fe' : 'Iron (mg)',\n",
    "    'Sodium, Na' : 'Sodium (mg)',\n",
    "    'Vitamin A, IU' : 'Vitamin A (mcg RAE)',\n",
    "    'Vitamin C, total ascorbic acid' : 'Vitamin C (mg)',\n",
    "    'Fatty acids, total trans' : 'Total Trans Fat (Cal)',\n",
    "    'Fatty acids, total saturated' : 'Total Saturated Fat (Cal)'\n",
    "    \n",
    "}\n",
    "\n",
    "foodFiltered_df = foodFiltered_df.rename(columns = columns_name)\n",
    "\n",
    "foodFiltered_df.head()\n"
   ]
  },
  {
   "cell_type": "code",
   "execution_count": 19,
   "metadata": {},
   "outputs": [
    {
     "output_type": "execute_result",
     "data": {
      "text/plain": "    AGE  Sedentary  Moderately active  Active\n0    14       2000               2400    2800\n1    15       2200               2600    3000\n2    16       2400               2800    3200\n3    17       2400               2800    3200\n4    18       2400               2800    3200\n..  ...        ...                ...     ...\n58   72       2000               2200    2600\n59   73       2000               2200    2600\n60   74       2000               2200    2600\n61   75       2000               2200    2600\n62   76       2000               2200    2400\n\n[63 rows x 4 columns]",
      "text/html": "<div>\n<style scoped>\n    .dataframe tbody tr th:only-of-type {\n        vertical-align: middle;\n    }\n\n    .dataframe tbody tr th {\n        vertical-align: top;\n    }\n\n    .dataframe thead th {\n        text-align: right;\n    }\n</style>\n<table border=\"1\" class=\"dataframe\">\n  <thead>\n    <tr style=\"text-align: right;\">\n      <th></th>\n      <th>AGE</th>\n      <th>Sedentary</th>\n      <th>Moderately active</th>\n      <th>Active</th>\n    </tr>\n  </thead>\n  <tbody>\n    <tr>\n      <th>0</th>\n      <td>14</td>\n      <td>2000</td>\n      <td>2400</td>\n      <td>2800</td>\n    </tr>\n    <tr>\n      <th>1</th>\n      <td>15</td>\n      <td>2200</td>\n      <td>2600</td>\n      <td>3000</td>\n    </tr>\n    <tr>\n      <th>2</th>\n      <td>16</td>\n      <td>2400</td>\n      <td>2800</td>\n      <td>3200</td>\n    </tr>\n    <tr>\n      <th>3</th>\n      <td>17</td>\n      <td>2400</td>\n      <td>2800</td>\n      <td>3200</td>\n    </tr>\n    <tr>\n      <th>4</th>\n      <td>18</td>\n      <td>2400</td>\n      <td>2800</td>\n      <td>3200</td>\n    </tr>\n    <tr>\n      <th>...</th>\n      <td>...</td>\n      <td>...</td>\n      <td>...</td>\n      <td>...</td>\n    </tr>\n    <tr>\n      <th>58</th>\n      <td>72</td>\n      <td>2000</td>\n      <td>2200</td>\n      <td>2600</td>\n    </tr>\n    <tr>\n      <th>59</th>\n      <td>73</td>\n      <td>2000</td>\n      <td>2200</td>\n      <td>2600</td>\n    </tr>\n    <tr>\n      <th>60</th>\n      <td>74</td>\n      <td>2000</td>\n      <td>2200</td>\n      <td>2600</td>\n    </tr>\n    <tr>\n      <th>61</th>\n      <td>75</td>\n      <td>2000</td>\n      <td>2200</td>\n      <td>2600</td>\n    </tr>\n    <tr>\n      <th>62</th>\n      <td>76</td>\n      <td>2000</td>\n      <td>2200</td>\n      <td>2400</td>\n    </tr>\n  </tbody>\n</table>\n<p>63 rows × 4 columns</p>\n</div>"
     },
     "metadata": {},
     "execution_count": 19
    }
   ],
   "source": [
    "#Load kcal requirments from FDA\n",
    "\n",
    "calorieNeeds_male = pd.read_excel('../../FDA Tables XLSX/Appendix 2. Estimated Calorie Needs -2020 Dietary Guidelines _ health.gov_0002.xlsx', sheet_name = 'Males')\n",
    "\n",
    "calorieNeeds_male = calorieNeeds_male[calorieNeeds_male['AGE'] >= 14]\n",
    "\n",
    "calorieNeeds_male = calorieNeeds_male.reset_index(drop= True)\n",
    "\n",
    "calorieNeeds_male"
   ]
  },
  {
   "cell_type": "code",
   "execution_count": 20,
   "metadata": {},
   "outputs": [],
   "source": [
    "#Health Parameters Male\n",
    "\n",
    "nutritionParameters_dict = {'Protein (Cal)' : ((12 + 3) / 2)/100,\n",
    "                           'Carbohydrate (Cal)' : ((10 + 25) / 2) / 100,\n",
    "                           'Fiber (gr)' : (8 + 30) / 2,\n",
    "                           'Total Sugar (Cal)': .04, #https://www.livestrong.com/article/333407-how-many-calories-should-i-eat-at-lunch/\n",
    "                           'Total lipid (Cal)': ((12 + 8) / 2)/ 100,\n",
    "                           'Total Trans Fat (Cal)': .01, #https://medlineplus.gov/ency/patientinstructions/000786.htm#:~:text=You%20should%20limit%20saturated%20fat,or%202%20grams%20per%20day.\n",
    "                           'Total Saturated Fat (Cal)': 0.03,\n",
    "                           'Cholesterol (mg)' : 100, #https://www.healthline.com/health/high-cholesterol/rda#:~:text=Following%20dietary%20guidelines%2C%20doctors%20used,high%20risk%20of%20heart%20disease.\n",
    "                           'Calcium (mg)': (835 + 330) / 2,\n",
    "                           'Iron (mg)': (5 + 15) / 2,\n",
    "                           'Sodium, (mg)': (770 + 150)/2,\n",
    "                           'Vitamin A (mcg RAE)': (1000 + 230) / 2,\n",
    "                            'Vitamin C (mg)' : 21,\n",
    "                            'Calories per Meal' : 1/3}\n",
    "    \n"
   ]
  },
  {
   "cell_type": "markdown",
   "metadata": {},
   "source": [
    "maleNutrition19to30_dict = {'Protein (Cal)' : 0.225/3,\n",
    "                           'Carbohydrate (Cal)' : 0.175,\n",
    "                           'Fiber (gr)' : 33.6/3,\n",
    "                           'Total Sugar (gr)': 40/3, #https://www.livestrong.com/article/333407-how-many-calories-should-i-eat-at-lunch/\n",
    "                           'Total lipid (Cal)': 0.176/3,\n",
    "                           'Total Trans Fat (Cal)': .01/3, #https://medlineplus.gov/ency/patientinstructions/000786.htm#:~:text=You%20should%20limit%20saturated%20fat,or%202%20grams%20per%20day.\n",
    "                           'Total Saturated Fat (Cal)': 0.1/3,\n",
    "                           'Cholesterol (mg)' : 250/3, #https://www.healthline.com/health/high-cholesterol/rda#:~:text=Following%20dietary%20guidelines%2C%20doctors%20used,high%20risk%20of%20heart%20disease.\n",
    "                           'Calcium (mg)': 1000/3,\n",
    "                           'Iron (mg)': 8/2,\n",
    "                           'Sodium, (mg)': 2300/3,\n",
    "                           'Vitamin A, IU': 900/3,\n",
    "                            'Vitamin C (mg)' : 90/3}\n",
    "    \n",
    "maleNutrition31to50_dict = {'Protein (Cal)' : 0.225/3,\n",
    "                           'Carbohydrate (Cal)' : 0.175,\n",
    "                           'Fiber (gr)' : 30.8/3,\n",
    "                           'Total Sugar (gr)': 40/3, #https://www.livestrong.com/article/333407-how-many-calories-should-i-eat-at-lunch/\n",
    "                           'Total lipid (Cal)': 0.176/3,\n",
    "                            'Total Trans Fat (Cal)': .01/3, #https://medlineplus.gov/ency/patientinstructions/000786.htm#:~:text=You%20should%20limit%20saturated%20fat,or%202%20grams%20per%20day.\n",
    "                           'Total Saturated Fat (Cal)': 0.1/3,\n",
    "                           'Cholesterol (mg)' : 250/3, #https://www.healthline.com/health/high-cholesterol/rda#:~:text=Following%20dietary%20guidelines%2C%20doctors%20used,high%20risk%20of%20heart%20disease.\n",
    "                           'Calcium (mg)': 1000/3,\n",
    "                           'Iron (mg)': 8/2,\n",
    "                           'Sodium (mg)': 2300/3,\n",
    "                           'Vitamin A (mcg RAE)': 900/3,\n",
    "                            'Vitamin C (mg)' : 90/3}\n",
    "    \n",
    "maleNutrition51_dict = {'Protein (Cal)' : 0.225/3,\n",
    "                        'Carbohydrate (Cal)' : 0.175,\n",
    "                        'Fiber (gr)' : 28/3,\n",
    "                        'Total Sugar (gr)': 40/3, #https://www.livestrong.com/article/333407-how-many-calories-should-i-eat-at-lunch/\n",
    "                        'Total lipid (Cal)': 0.176/3,\n",
    "                        'Total Trans Fat (Cal)': .01/3, #https://medlineplus.gov/ency/patientinstructions/000786.htm#:~:text=You%20should%20limit%20saturated%20fat,or%202%20grams%20per%20day.\n",
    "                        'Total Saturated Fat (Cal)': 0.1/3,\n",
    "                        'Cholesterol (mg)' : 250/3, #https://www.healthline.com/health/high-cholesterol/rda#:~:text=Following%20dietary%20guidelines%2C%20doctors%20used,high%20risk%20of%20heart%20disease.\n",
    "                        'Calcium (mg)': 1000/3,\n",
    "                        'Iron (mg)': 8/2,\n",
    "                        'Sodium (mg)': 2300/3,\n",
    "                        'Vitamin A (mcg RAE)': 900/3,\n",
    "                        'Vitamin C (mg)' : 90/3}\n",
    "     "
   ]
  },
  {
   "cell_type": "code",
   "execution_count": 21,
   "metadata": {},
   "outputs": [
    {
     "output_type": "execute_result",
     "data": {
      "text/plain": "    AGE  Sedentary Protein (Cal) Carbohydrate (Cal) Fiber (gr)  \\\n0    14       2000           150                350         19   \n1    15       2200           165                385         19   \n2    16       2400           180                420         19   \n3    17       2400           180                420         19   \n4    18       2400           180                420         19   \n..  ...        ...           ...                ...        ...   \n58   72       2000           150                350         19   \n59   73       2000           150                350         19   \n60   74       2000           150                350         19   \n61   75       2000           150                350         19   \n62   76       2000           150                350         19   \n\n   Total Sugar (Cal) Total lipid (Cal) Total Trans Fat (Cal)  \\\n0                 80               200                    20   \n1                 88               220                    22   \n2                 96               240                    24   \n3                 96               240                    24   \n4                 96               240                    24   \n..               ...               ...                   ...   \n58                80               200                    20   \n59                80               200                    20   \n60                80               200                    20   \n61                80               200                    20   \n62                80               200                    20   \n\n   Total Saturated Fat (Cal) Cholesterol (mg) Calcium (mg) Iron (mg)  \\\n0                         60              100        582.5        10   \n1                         66              100        582.5        10   \n2                         72              100        582.5        10   \n3                         72              100        582.5        10   \n4                         72              100        582.5        10   \n..                       ...              ...          ...       ...   \n58                        60              100        582.5        10   \n59                        60              100        582.5        10   \n60                        60              100        582.5        10   \n61                        60              100        582.5        10   \n62                        60              100        582.5        10   \n\n   Sodium, (mg) Vitamin A (mcg RAE) Vitamin C (mg) Calories per Meal  \n0           460                 615             21            666.67  \n1           460                 615             21            733.33  \n2           460                 615             21               800  \n3           460                 615             21               800  \n4           460                 615             21               800  \n..          ...                 ...            ...               ...  \n58          460                 615             21            666.67  \n59          460                 615             21            666.67  \n60          460                 615             21            666.67  \n61          460                 615             21            666.67  \n62          460                 615             21            666.67  \n\n[63 rows x 16 columns]",
      "text/html": "<div>\n<style scoped>\n    .dataframe tbody tr th:only-of-type {\n        vertical-align: middle;\n    }\n\n    .dataframe tbody tr th {\n        vertical-align: top;\n    }\n\n    .dataframe thead th {\n        text-align: right;\n    }\n</style>\n<table border=\"1\" class=\"dataframe\">\n  <thead>\n    <tr style=\"text-align: right;\">\n      <th></th>\n      <th>AGE</th>\n      <th>Sedentary</th>\n      <th>Protein (Cal)</th>\n      <th>Carbohydrate (Cal)</th>\n      <th>Fiber (gr)</th>\n      <th>Total Sugar (Cal)</th>\n      <th>Total lipid (Cal)</th>\n      <th>Total Trans Fat (Cal)</th>\n      <th>Total Saturated Fat (Cal)</th>\n      <th>Cholesterol (mg)</th>\n      <th>Calcium (mg)</th>\n      <th>Iron (mg)</th>\n      <th>Sodium, (mg)</th>\n      <th>Vitamin A (mcg RAE)</th>\n      <th>Vitamin C (mg)</th>\n      <th>Calories per Meal</th>\n    </tr>\n  </thead>\n  <tbody>\n    <tr>\n      <th>0</th>\n      <td>14</td>\n      <td>2000</td>\n      <td>150</td>\n      <td>350</td>\n      <td>19</td>\n      <td>80</td>\n      <td>200</td>\n      <td>20</td>\n      <td>60</td>\n      <td>100</td>\n      <td>582.5</td>\n      <td>10</td>\n      <td>460</td>\n      <td>615</td>\n      <td>21</td>\n      <td>666.67</td>\n    </tr>\n    <tr>\n      <th>1</th>\n      <td>15</td>\n      <td>2200</td>\n      <td>165</td>\n      <td>385</td>\n      <td>19</td>\n      <td>88</td>\n      <td>220</td>\n      <td>22</td>\n      <td>66</td>\n      <td>100</td>\n      <td>582.5</td>\n      <td>10</td>\n      <td>460</td>\n      <td>615</td>\n      <td>21</td>\n      <td>733.33</td>\n    </tr>\n    <tr>\n      <th>2</th>\n      <td>16</td>\n      <td>2400</td>\n      <td>180</td>\n      <td>420</td>\n      <td>19</td>\n      <td>96</td>\n      <td>240</td>\n      <td>24</td>\n      <td>72</td>\n      <td>100</td>\n      <td>582.5</td>\n      <td>10</td>\n      <td>460</td>\n      <td>615</td>\n      <td>21</td>\n      <td>800</td>\n    </tr>\n    <tr>\n      <th>3</th>\n      <td>17</td>\n      <td>2400</td>\n      <td>180</td>\n      <td>420</td>\n      <td>19</td>\n      <td>96</td>\n      <td>240</td>\n      <td>24</td>\n      <td>72</td>\n      <td>100</td>\n      <td>582.5</td>\n      <td>10</td>\n      <td>460</td>\n      <td>615</td>\n      <td>21</td>\n      <td>800</td>\n    </tr>\n    <tr>\n      <th>4</th>\n      <td>18</td>\n      <td>2400</td>\n      <td>180</td>\n      <td>420</td>\n      <td>19</td>\n      <td>96</td>\n      <td>240</td>\n      <td>24</td>\n      <td>72</td>\n      <td>100</td>\n      <td>582.5</td>\n      <td>10</td>\n      <td>460</td>\n      <td>615</td>\n      <td>21</td>\n      <td>800</td>\n    </tr>\n    <tr>\n      <th>...</th>\n      <td>...</td>\n      <td>...</td>\n      <td>...</td>\n      <td>...</td>\n      <td>...</td>\n      <td>...</td>\n      <td>...</td>\n      <td>...</td>\n      <td>...</td>\n      <td>...</td>\n      <td>...</td>\n      <td>...</td>\n      <td>...</td>\n      <td>...</td>\n      <td>...</td>\n      <td>...</td>\n    </tr>\n    <tr>\n      <th>58</th>\n      <td>72</td>\n      <td>2000</td>\n      <td>150</td>\n      <td>350</td>\n      <td>19</td>\n      <td>80</td>\n      <td>200</td>\n      <td>20</td>\n      <td>60</td>\n      <td>100</td>\n      <td>582.5</td>\n      <td>10</td>\n      <td>460</td>\n      <td>615</td>\n      <td>21</td>\n      <td>666.67</td>\n    </tr>\n    <tr>\n      <th>59</th>\n      <td>73</td>\n      <td>2000</td>\n      <td>150</td>\n      <td>350</td>\n      <td>19</td>\n      <td>80</td>\n      <td>200</td>\n      <td>20</td>\n      <td>60</td>\n      <td>100</td>\n      <td>582.5</td>\n      <td>10</td>\n      <td>460</td>\n      <td>615</td>\n      <td>21</td>\n      <td>666.67</td>\n    </tr>\n    <tr>\n      <th>60</th>\n      <td>74</td>\n      <td>2000</td>\n      <td>150</td>\n      <td>350</td>\n      <td>19</td>\n      <td>80</td>\n      <td>200</td>\n      <td>20</td>\n      <td>60</td>\n      <td>100</td>\n      <td>582.5</td>\n      <td>10</td>\n      <td>460</td>\n      <td>615</td>\n      <td>21</td>\n      <td>666.67</td>\n    </tr>\n    <tr>\n      <th>61</th>\n      <td>75</td>\n      <td>2000</td>\n      <td>150</td>\n      <td>350</td>\n      <td>19</td>\n      <td>80</td>\n      <td>200</td>\n      <td>20</td>\n      <td>60</td>\n      <td>100</td>\n      <td>582.5</td>\n      <td>10</td>\n      <td>460</td>\n      <td>615</td>\n      <td>21</td>\n      <td>666.67</td>\n    </tr>\n    <tr>\n      <th>62</th>\n      <td>76</td>\n      <td>2000</td>\n      <td>150</td>\n      <td>350</td>\n      <td>19</td>\n      <td>80</td>\n      <td>200</td>\n      <td>20</td>\n      <td>60</td>\n      <td>100</td>\n      <td>582.5</td>\n      <td>10</td>\n      <td>460</td>\n      <td>615</td>\n      <td>21</td>\n      <td>666.67</td>\n    </tr>\n  </tbody>\n</table>\n<p>63 rows × 16 columns</p>\n</div>"
     },
     "metadata": {},
     "execution_count": 21
    }
   ],
   "source": [
    "#Lists of DataFrames with the information of the required nutrients for each age and lifestyle goup.\n",
    "\n",
    "maleInfo = []\n",
    "\n",
    "for lifeStyle in ['Sedentary','Moderately active','Active']:\n",
    "    \n",
    "    lifeStyle_df = calorieNeeds_male[['AGE', lifeStyle]]\n",
    "    \n",
    "    for index,row in lifeStyle_df.iterrows():\n",
    "\n",
    "        for key in nutritionParameters_dict.keys():\n",
    "\n",
    "            if key not in lifeStyle_df.columns:\n",
    "\n",
    "                lifeStyle_df[key] = ''\n",
    "\n",
    "                if (key == 'Protein (Cal)') |( key == 'Carbohydrate (Cal)') | (key == 'Total Sugar (Cal)') | (key == 'Total lipid (Cal)')| (key == 'Total Trans Fat (Cal)')|( key == 'Total Saturated Fat (Cal)') | (key == 'Calories per Meal'):\n",
    "\n",
    "                    lifeStyle_df.loc[index, key] = round(row[lifeStyle] * nutritionParameters_dict[key],2)\n",
    "\n",
    "                else:\n",
    "\n",
    "                    lifeStyle_df.loc[index, key] = round(nutritionParameters_dict[key],2)\n",
    "\n",
    "            else:\n",
    "\n",
    "                if (key == 'Protein (Cal)') |( key == 'Carbohydrate (Cal)') | (key == 'Total Sugar (Cal)') | (key == 'Total lipid (Cal)')| (key == 'Total Trans Fat (Cal)')|( key == 'Total Saturated Fat (Cal)') | (key == 'Calories per Meal'):\n",
    "\n",
    "                    lifeStyle_df.loc[index, key] = round(row[lifeStyle] * nutritionParameters_dict[key],2)\n",
    "\n",
    "                else:\n",
    "\n",
    "                    lifeStyle_df.loc[index, key] = round(nutritionParameters_dict[key],2)\n",
    "\n",
    "        \n",
    "                        \n",
    "    maleInfo.append(lifeStyle_df)\n",
    "                        \n",
    "maleInfo[0] #List of DataFrames for males and the intake limits for each meal. "
   ]
  },
  {
   "cell_type": "markdown",
   "metadata": {},
   "source": [
    "elif row['AGE'] > 19 & row['AGE'] <= 30 :\n",
    "\n",
    "            for key in maleNutrition19to30_dict.keys():\n",
    "\n",
    "                    if (key == 'Protein (Cal)') |( key == 'Carbohydrate (Cal)') | (key == 'Total lipid (Cal)')| (key == 'Total Trans Fat (Cal)')|( key == 'Total Saturated Fat (Cal)'):\n",
    "\n",
    "                        lifeStyle_df.loc[index, key] = round(row[lifeStyle] * maleNutrition19to30_dict[key],2)\n",
    "\n",
    "                    else:\n",
    "\n",
    "                        lifeStyle_df.loc[index, key] = round(maleNutrition19to30_dict[key],2)\n",
    "\n",
    "        elif row['AGE'] > 31 & row['AGE'] <= 50 :\n",
    "\n",
    "            for key in maleNutrition31to50_dict.keys():\n",
    "\n",
    "                    if (key == 'Protein (Cal)') |( key == 'Carbohydrate (Cal)') | (key == 'Total lipid (Cal)')| (key == 'Total Trans Fat (Cal)')|( key == 'Total Saturated Fat (Cal)'):\n",
    "\n",
    "                        lifeStyle_df.loc[index, key] = round(row[lifeStyle] * maleNutrition31to50_dict[key],2)\n",
    "\n",
    "                    else:\n",
    "\n",
    "                        lifeStyle_df.loc[index, key] = round(maleNutrition31to50_dict[key],2)\n",
    "\n",
    "        elif row['AGE'] > 31 & row['AGE'] <= 50 :\n",
    "\n",
    "            for key in maleNutrition51_dict.keys():\n",
    "\n",
    "                    if (key == 'Protein (Cal)') |( key == 'Carbohydrate (Cal)') | (key == 'Total lipid (Cal)')| (key == 'Total Trans Fat (Cal)')|( key == 'Total Saturated Fat (Cal)'):\n",
    "\n",
    "                        lifeStyle_df.loc[index, key] = round(row[lifeStyle] * maleNutrition51_dict[key],2)\n",
    "\n",
    "                    else:\n",
    "\n",
    "                        lifeStyle_df.loc[index, key] = round(maleNutrition51_dict[key],2)"
   ]
  },
  {
   "cell_type": "code",
   "execution_count": 22,
   "metadata": {},
   "outputs": [
    {
     "output_type": "execute_result",
     "data": {
      "text/plain": "   AGE  Sedentary  Moderately active  Active\n0   14       1800               2000    2400\n1   15       1800               2000    2400\n2   16       1800               2000    2400\n3   17       1800               2000    2400\n4   18       1800               2000    2400",
      "text/html": "<div>\n<style scoped>\n    .dataframe tbody tr th:only-of-type {\n        vertical-align: middle;\n    }\n\n    .dataframe tbody tr th {\n        vertical-align: top;\n    }\n\n    .dataframe thead th {\n        text-align: right;\n    }\n</style>\n<table border=\"1\" class=\"dataframe\">\n  <thead>\n    <tr style=\"text-align: right;\">\n      <th></th>\n      <th>AGE</th>\n      <th>Sedentary</th>\n      <th>Moderately active</th>\n      <th>Active</th>\n    </tr>\n  </thead>\n  <tbody>\n    <tr>\n      <th>0</th>\n      <td>14</td>\n      <td>1800</td>\n      <td>2000</td>\n      <td>2400</td>\n    </tr>\n    <tr>\n      <th>1</th>\n      <td>15</td>\n      <td>1800</td>\n      <td>2000</td>\n      <td>2400</td>\n    </tr>\n    <tr>\n      <th>2</th>\n      <td>16</td>\n      <td>1800</td>\n      <td>2000</td>\n      <td>2400</td>\n    </tr>\n    <tr>\n      <th>3</th>\n      <td>17</td>\n      <td>1800</td>\n      <td>2000</td>\n      <td>2400</td>\n    </tr>\n    <tr>\n      <th>4</th>\n      <td>18</td>\n      <td>1800</td>\n      <td>2000</td>\n      <td>2400</td>\n    </tr>\n  </tbody>\n</table>\n</div>"
     },
     "metadata": {},
     "execution_count": 22
    }
   ],
   "source": [
    "#Load kcal requirments from FDA\n",
    "\n",
    "calorieNeeds_female = pd.read_excel('../../FDA Tables XLSX/Appendix 2. Estimated Calorie Needs -2020 Dietary Guidelines _ health.gov_0002.xlsx', sheet_name = 'Females')\n",
    "\n",
    "calorieNeeds_female = calorieNeeds_female[calorieNeeds_female['AGE'] >= 14]\n",
    "\n",
    "calorieNeeds_female =  calorieNeeds_female.reset_index(drop= True)\n",
    "\n",
    "calorieNeeds_female.head()"
   ]
  },
  {
   "cell_type": "code",
   "execution_count": 23,
   "metadata": {},
   "outputs": [
    {
     "output_type": "execute_result",
     "data": {
      "text/plain": "    AGE  Sedentary Protein (Cal) Carbohydrate (Cal) Fiber (gr)  \\\n0    14       1800           135                315         19   \n1    15       1800           135                315         19   \n2    16       1800           135                315         19   \n3    17       1800           135                315         19   \n4    18       1800           135                315         19   \n..  ...        ...           ...                ...        ...   \n58   72       1600           120                280         19   \n59   73       1600           120                280         19   \n60   74       1600           120                280         19   \n61   75       1600           120                280         19   \n62   76       1600           120                280         19   \n\n   Total Sugar (Cal) Total lipid (Cal) Total Trans Fat (Cal)  \\\n0                 72               180                    18   \n1                 72               180                    18   \n2                 72               180                    18   \n3                 72               180                    18   \n4                 72               180                    18   \n..               ...               ...                   ...   \n58                64               160                    16   \n59                64               160                    16   \n60                64               160                    16   \n61                64               160                    16   \n62                64               160                    16   \n\n   Total Saturated Fat (Cal) Cholesterol (mg) Calcium (mg) Iron (mg)  \\\n0                         54              100        582.5        10   \n1                         54              100        582.5        10   \n2                         54              100        582.5        10   \n3                         54              100        582.5        10   \n4                         54              100        582.5        10   \n..                       ...              ...          ...       ...   \n58                        48              100        582.5        10   \n59                        48              100        582.5        10   \n60                        48              100        582.5        10   \n61                        48              100        582.5        10   \n62                        48              100        582.5        10   \n\n   Sodium, (mg) Vitamin A (mcg RAE) Vitamin C (mg) Calories per Meal  \n0           460                 615             21               600  \n1           460                 615             21               600  \n2           460                 615             21               600  \n3           460                 615             21               600  \n4           460                 615             21               600  \n..          ...                 ...            ...               ...  \n58          460                 615             21            533.33  \n59          460                 615             21            533.33  \n60          460                 615             21            533.33  \n61          460                 615             21            533.33  \n62          460                 615             21            533.33  \n\n[63 rows x 16 columns]",
      "text/html": "<div>\n<style scoped>\n    .dataframe tbody tr th:only-of-type {\n        vertical-align: middle;\n    }\n\n    .dataframe tbody tr th {\n        vertical-align: top;\n    }\n\n    .dataframe thead th {\n        text-align: right;\n    }\n</style>\n<table border=\"1\" class=\"dataframe\">\n  <thead>\n    <tr style=\"text-align: right;\">\n      <th></th>\n      <th>AGE</th>\n      <th>Sedentary</th>\n      <th>Protein (Cal)</th>\n      <th>Carbohydrate (Cal)</th>\n      <th>Fiber (gr)</th>\n      <th>Total Sugar (Cal)</th>\n      <th>Total lipid (Cal)</th>\n      <th>Total Trans Fat (Cal)</th>\n      <th>Total Saturated Fat (Cal)</th>\n      <th>Cholesterol (mg)</th>\n      <th>Calcium (mg)</th>\n      <th>Iron (mg)</th>\n      <th>Sodium, (mg)</th>\n      <th>Vitamin A (mcg RAE)</th>\n      <th>Vitamin C (mg)</th>\n      <th>Calories per Meal</th>\n    </tr>\n  </thead>\n  <tbody>\n    <tr>\n      <th>0</th>\n      <td>14</td>\n      <td>1800</td>\n      <td>135</td>\n      <td>315</td>\n      <td>19</td>\n      <td>72</td>\n      <td>180</td>\n      <td>18</td>\n      <td>54</td>\n      <td>100</td>\n      <td>582.5</td>\n      <td>10</td>\n      <td>460</td>\n      <td>615</td>\n      <td>21</td>\n      <td>600</td>\n    </tr>\n    <tr>\n      <th>1</th>\n      <td>15</td>\n      <td>1800</td>\n      <td>135</td>\n      <td>315</td>\n      <td>19</td>\n      <td>72</td>\n      <td>180</td>\n      <td>18</td>\n      <td>54</td>\n      <td>100</td>\n      <td>582.5</td>\n      <td>10</td>\n      <td>460</td>\n      <td>615</td>\n      <td>21</td>\n      <td>600</td>\n    </tr>\n    <tr>\n      <th>2</th>\n      <td>16</td>\n      <td>1800</td>\n      <td>135</td>\n      <td>315</td>\n      <td>19</td>\n      <td>72</td>\n      <td>180</td>\n      <td>18</td>\n      <td>54</td>\n      <td>100</td>\n      <td>582.5</td>\n      <td>10</td>\n      <td>460</td>\n      <td>615</td>\n      <td>21</td>\n      <td>600</td>\n    </tr>\n    <tr>\n      <th>3</th>\n      <td>17</td>\n      <td>1800</td>\n      <td>135</td>\n      <td>315</td>\n      <td>19</td>\n      <td>72</td>\n      <td>180</td>\n      <td>18</td>\n      <td>54</td>\n      <td>100</td>\n      <td>582.5</td>\n      <td>10</td>\n      <td>460</td>\n      <td>615</td>\n      <td>21</td>\n      <td>600</td>\n    </tr>\n    <tr>\n      <th>4</th>\n      <td>18</td>\n      <td>1800</td>\n      <td>135</td>\n      <td>315</td>\n      <td>19</td>\n      <td>72</td>\n      <td>180</td>\n      <td>18</td>\n      <td>54</td>\n      <td>100</td>\n      <td>582.5</td>\n      <td>10</td>\n      <td>460</td>\n      <td>615</td>\n      <td>21</td>\n      <td>600</td>\n    </tr>\n    <tr>\n      <th>...</th>\n      <td>...</td>\n      <td>...</td>\n      <td>...</td>\n      <td>...</td>\n      <td>...</td>\n      <td>...</td>\n      <td>...</td>\n      <td>...</td>\n      <td>...</td>\n      <td>...</td>\n      <td>...</td>\n      <td>...</td>\n      <td>...</td>\n      <td>...</td>\n      <td>...</td>\n      <td>...</td>\n    </tr>\n    <tr>\n      <th>58</th>\n      <td>72</td>\n      <td>1600</td>\n      <td>120</td>\n      <td>280</td>\n      <td>19</td>\n      <td>64</td>\n      <td>160</td>\n      <td>16</td>\n      <td>48</td>\n      <td>100</td>\n      <td>582.5</td>\n      <td>10</td>\n      <td>460</td>\n      <td>615</td>\n      <td>21</td>\n      <td>533.33</td>\n    </tr>\n    <tr>\n      <th>59</th>\n      <td>73</td>\n      <td>1600</td>\n      <td>120</td>\n      <td>280</td>\n      <td>19</td>\n      <td>64</td>\n      <td>160</td>\n      <td>16</td>\n      <td>48</td>\n      <td>100</td>\n      <td>582.5</td>\n      <td>10</td>\n      <td>460</td>\n      <td>615</td>\n      <td>21</td>\n      <td>533.33</td>\n    </tr>\n    <tr>\n      <th>60</th>\n      <td>74</td>\n      <td>1600</td>\n      <td>120</td>\n      <td>280</td>\n      <td>19</td>\n      <td>64</td>\n      <td>160</td>\n      <td>16</td>\n      <td>48</td>\n      <td>100</td>\n      <td>582.5</td>\n      <td>10</td>\n      <td>460</td>\n      <td>615</td>\n      <td>21</td>\n      <td>533.33</td>\n    </tr>\n    <tr>\n      <th>61</th>\n      <td>75</td>\n      <td>1600</td>\n      <td>120</td>\n      <td>280</td>\n      <td>19</td>\n      <td>64</td>\n      <td>160</td>\n      <td>16</td>\n      <td>48</td>\n      <td>100</td>\n      <td>582.5</td>\n      <td>10</td>\n      <td>460</td>\n      <td>615</td>\n      <td>21</td>\n      <td>533.33</td>\n    </tr>\n    <tr>\n      <th>62</th>\n      <td>76</td>\n      <td>1600</td>\n      <td>120</td>\n      <td>280</td>\n      <td>19</td>\n      <td>64</td>\n      <td>160</td>\n      <td>16</td>\n      <td>48</td>\n      <td>100</td>\n      <td>582.5</td>\n      <td>10</td>\n      <td>460</td>\n      <td>615</td>\n      <td>21</td>\n      <td>533.33</td>\n    </tr>\n  </tbody>\n</table>\n<p>63 rows × 16 columns</p>\n</div>"
     },
     "metadata": {},
     "execution_count": 23
    }
   ],
   "source": [
    "femaleInfo = []\n",
    "\n",
    "for lifeStyle in ['Sedentary','Moderately active','Active']:\n",
    "    \n",
    "    lifeStyle_df = calorieNeeds_female[['AGE', lifeStyle]]\n",
    "    \n",
    "    for index,row in lifeStyle_df.iterrows():\n",
    "\n",
    "        for key in nutritionParameters_dict.keys():\n",
    "\n",
    "            if key not in lifeStyle_df.columns:\n",
    "\n",
    "                lifeStyle_df[key] = ''\n",
    "\n",
    "                if (key == 'Protein (Cal)') |( key == 'Carbohydrate (Cal)') | (key == 'Total Sugar (Cal)') | (key == 'Total lipid (Cal)')| (key == 'Total Trans Fat (Cal)')|( key == 'Total Saturated Fat (Cal)') | (key == 'Calories per Meal'):\n",
    "\n",
    "                    lifeStyle_df.loc[index, key] = round(row[lifeStyle] * nutritionParameters_dict[key],2)\n",
    "\n",
    "                else:\n",
    "\n",
    "                    lifeStyle_df.loc[index, key] = round(nutritionParameters_dict[key],2)\n",
    "\n",
    "            else:\n",
    "\n",
    "                if (key == 'Protein (Cal)') |( key == 'Carbohydrate (Cal)') | (key == 'Total Sugar (Cal)') | (key == 'Total lipid (Cal)')| (key == 'Total Trans Fat (Cal)')|( key == 'Total Saturated Fat (Cal)') | (key == 'Calories per Meal'):\n",
    "\n",
    "                    lifeStyle_df.loc[index, key] = round(row[lifeStyle] * nutritionParameters_dict[key],2)\n",
    "\n",
    "                else:\n",
    "\n",
    "                    lifeStyle_df.loc[index, key] = round(nutritionParameters_dict[key],2)\n",
    "\n",
    "       \n",
    "                        \n",
    "    femaleInfo.append(lifeStyle_df)\n",
    "                        \n",
    "femaleInfo[0] #List of DataFrames for males and the intake limits for each meal. "
   ]
  },
  {
   "cell_type": "code",
   "execution_count": 24,
   "metadata": {
    "tags": []
   },
   "outputs": [
    {
     "output_type": "stream",
     "name": "stdout",
     "text": "Stored 'maleInfo' (list)\nStored 'femaleInfo' (list)\nStored 'foodFiltered_df' (DataFrame)\n"
    }
   ],
   "source": [
    "#Stores the DataFrames in the system to be abe to read it in another Notebook.\n",
    "\n",
    "%store maleInfo\n",
    "\n",
    "%store femaleInfo\n",
    "\n",
    "%store foodFiltered_df"
   ]
  }
 ],
 "metadata": {
  "kernelspec": {
   "display_name": "Python 3",
   "language": "python",
   "name": "python3"
  },
  "language_info": {
   "codemirror_mode": {
    "name": "ipython",
    "version": 3
   },
   "file_extension": ".py",
   "mimetype": "text/x-python",
   "name": "python",
   "nbconvert_exporter": "python",
   "pygments_lexer": "ipython3",
   "version": "3.7.6-final"
  }
 },
 "nbformat": 4,
 "nbformat_minor": 4
}