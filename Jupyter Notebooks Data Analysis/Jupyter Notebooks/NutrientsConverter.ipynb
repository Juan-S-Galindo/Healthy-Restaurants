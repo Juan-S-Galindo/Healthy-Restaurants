{
 "cells": [
  {
   "cell_type": "code",
   "execution_count": 1,
   "metadata": {},
   "outputs": [],
   "source": [
    "import pandas as pd\n",
    "\n",
    "import ast"
   ]
  },
  {
   "cell_type": "code",
   "execution_count": 2,
   "metadata": {},
   "outputs": [
    {
     "output_type": "execute_result",
     "data": {
      "text/plain": "     Restaurant                      Food_Name  \\\n0  Schlotzsky's              Kids Cheese Pizza   \n1  Schlotzsky's           Kids Pepperoni Pizza   \n2  Schlotzsky's  Pepperoni Double Cheese Pizza   \n3  Schlotzsky's       Double Cheese Pizza 10''   \n4  Schlotzsky's        Fresh Veggie Pizza 10''   \n\n                                           Nutrients  Calories  \n0  [{'value': 18, 'attr_id': 203}, {'value': 17, ...       540  \n1  [{'value': 20, 'attr_id': 203}, {'value': 22, ...       590  \n2  [{'value': 39, 'attr_id': 203}, {'value': 42, ...       980  \n3  [{'value': 33, 'attr_id': 203}, {'value': 35, ...       920  \n4  [{'value': 33, 'attr_id': 203}, {'value': 35, ...       920  ",
      "text/html": "<div>\n<style scoped>\n    .dataframe tbody tr th:only-of-type {\n        vertical-align: middle;\n    }\n\n    .dataframe tbody tr th {\n        vertical-align: top;\n    }\n\n    .dataframe thead th {\n        text-align: right;\n    }\n</style>\n<table border=\"1\" class=\"dataframe\">\n  <thead>\n    <tr style=\"text-align: right;\">\n      <th></th>\n      <th>Restaurant</th>\n      <th>Food_Name</th>\n      <th>Nutrients</th>\n      <th>Calories</th>\n    </tr>\n  </thead>\n  <tbody>\n    <tr>\n      <th>0</th>\n      <td>Schlotzsky's</td>\n      <td>Kids Cheese Pizza</td>\n      <td>[{'value': 18, 'attr_id': 203}, {'value': 17, ...</td>\n      <td>540</td>\n    </tr>\n    <tr>\n      <th>1</th>\n      <td>Schlotzsky's</td>\n      <td>Kids Pepperoni Pizza</td>\n      <td>[{'value': 20, 'attr_id': 203}, {'value': 22, ...</td>\n      <td>590</td>\n    </tr>\n    <tr>\n      <th>2</th>\n      <td>Schlotzsky's</td>\n      <td>Pepperoni Double Cheese Pizza</td>\n      <td>[{'value': 39, 'attr_id': 203}, {'value': 42, ...</td>\n      <td>980</td>\n    </tr>\n    <tr>\n      <th>3</th>\n      <td>Schlotzsky's</td>\n      <td>Double Cheese Pizza 10''</td>\n      <td>[{'value': 33, 'attr_id': 203}, {'value': 35, ...</td>\n      <td>920</td>\n    </tr>\n    <tr>\n      <th>4</th>\n      <td>Schlotzsky's</td>\n      <td>Fresh Veggie Pizza 10''</td>\n      <td>[{'value': 33, 'attr_id': 203}, {'value': 35, ...</td>\n      <td>920</td>\n    </tr>\n  </tbody>\n</table>\n</div>"
     },
     "metadata": {},
     "execution_count": 2
    }
   ],
   "source": [
    "foodRaw_df = pd.read_csv('../../Resources/CSVs/all_menu_items.csv')\n",
    "\n",
    "foodRaw_df.head()"
   ]
  },
  {
   "cell_type": "code",
   "execution_count": 3,
   "metadata": {},
   "outputs": [
    {
     "output_type": "execute_result",
     "data": {
      "text/plain": "         2018 NFP    usda_tag                         name  unit notes  \\\nattr_id                                                                  \n203           1.0      PROCNT                      Protein     g   NaN   \n204           1.0         FAT            Total lipid (fat)     g   NaN   \n205           1.0      CHOCDF  Carbohydrate, by difference     g   NaN   \n207           0.0         ASH                          Ash     g   NaN   \n208           1.0  ENERC_KCAL                       Energy  kcal   NaN   \n\n                bulk_csv_field cxh_attribute_name Unnamed: 8  \nattr_id                                                       \n203                 nf_protein               PRO-        NaN  \n204               nf_total_fat                FAT        NaN  \n205      nf_total_carbohydrate               CHO-        NaN  \n207                        NaN                NaN        NaN  \n208                nf_calories              ENER-        NaN  ",
      "text/html": "<div>\n<style scoped>\n    .dataframe tbody tr th:only-of-type {\n        vertical-align: middle;\n    }\n\n    .dataframe tbody tr th {\n        vertical-align: top;\n    }\n\n    .dataframe thead th {\n        text-align: right;\n    }\n</style>\n<table border=\"1\" class=\"dataframe\">\n  <thead>\n    <tr style=\"text-align: right;\">\n      <th></th>\n      <th>2018 NFP</th>\n      <th>usda_tag</th>\n      <th>name</th>\n      <th>unit</th>\n      <th>notes</th>\n      <th>bulk_csv_field</th>\n      <th>cxh_attribute_name</th>\n      <th>Unnamed: 8</th>\n    </tr>\n    <tr>\n      <th>attr_id</th>\n      <th></th>\n      <th></th>\n      <th></th>\n      <th></th>\n      <th></th>\n      <th></th>\n      <th></th>\n      <th></th>\n    </tr>\n  </thead>\n  <tbody>\n    <tr>\n      <th>203</th>\n      <td>1.0</td>\n      <td>PROCNT</td>\n      <td>Protein</td>\n      <td>g</td>\n      <td>NaN</td>\n      <td>nf_protein</td>\n      <td>PRO-</td>\n      <td>NaN</td>\n    </tr>\n    <tr>\n      <th>204</th>\n      <td>1.0</td>\n      <td>FAT</td>\n      <td>Total lipid (fat)</td>\n      <td>g</td>\n      <td>NaN</td>\n      <td>nf_total_fat</td>\n      <td>FAT</td>\n      <td>NaN</td>\n    </tr>\n    <tr>\n      <th>205</th>\n      <td>1.0</td>\n      <td>CHOCDF</td>\n      <td>Carbohydrate, by difference</td>\n      <td>g</td>\n      <td>NaN</td>\n      <td>nf_total_carbohydrate</td>\n      <td>CHO-</td>\n      <td>NaN</td>\n    </tr>\n    <tr>\n      <th>207</th>\n      <td>0.0</td>\n      <td>ASH</td>\n      <td>Ash</td>\n      <td>g</td>\n      <td>NaN</td>\n      <td>NaN</td>\n      <td>NaN</td>\n      <td>NaN</td>\n    </tr>\n    <tr>\n      <th>208</th>\n      <td>1.0</td>\n      <td>ENERC_KCAL</td>\n      <td>Energy</td>\n      <td>kcal</td>\n      <td>NaN</td>\n      <td>nf_calories</td>\n      <td>ENER-</td>\n      <td>NaN</td>\n    </tr>\n  </tbody>\n</table>\n</div>"
     },
     "metadata": {},
     "execution_count": 3
    }
   ],
   "source": [
    "nutrient_map = pd.read_csv('../../Resources/CSVs/Nutritionix API v2 - Full Nutrient USDA Field Mapping.csv')\n",
    "\n",
    "nutrient_map = nutrient_map.set_index('attr_id')\n",
    "\n",
    "nutrient_map.head()"
   ]
  },
  {
   "cell_type": "code",
   "execution_count": 4,
   "metadata": {},
   "outputs": [
    {
     "output_type": "execute_result",
     "data": {
      "text/plain": "     Restaurant                      Food_Name  \\\n0  Schlotzsky's              Kids Cheese Pizza   \n1  Schlotzsky's           Kids Pepperoni Pizza   \n2  Schlotzsky's  Pepperoni Double Cheese Pizza   \n3  Schlotzsky's       Double Cheese Pizza 10''   \n4  Schlotzsky's        Fresh Veggie Pizza 10''   \n\n                                           Nutrients  Calories  Protein  \\\n0  [{'value': 18, 'attr_id': 203}, {'value': 17, ...       540       72   \n1  [{'value': 20, 'attr_id': 203}, {'value': 22, ...       590       80   \n2  [{'value': 39, 'attr_id': 203}, {'value': 42, ...       980      156   \n3  [{'value': 33, 'attr_id': 203}, {'value': 35, ...       920      132   \n4  [{'value': 33, 'attr_id': 203}, {'value': 35, ...       920      132   \n\n   Total lipid (fat)  Carbohydrate, by difference  Energy  Sugars, total  \\\n0              153.0                          312     540             16   \n1              198.0                          312     590             16   \n2              378.0                          460     980             20   \n3              315.0                          472     920             28   \n4              315.0                          472     920             28   \n\n   Fiber, total dietary  Sodium, Na  Cholesterol  Fatty acids, total trans  \\\n0                     4         960           30                       0.0   \n1                     4        1160           40                       0.0   \n2                     6        2000           95                       0.0   \n3                     7        2150           55                       0.0   \n4                     7        2150           55                       0.0   \n\n   Fatty acids, total saturated  Calcium, Ca  Iron, Fe  Vitamin A, IU  \\\n0                          45.0            0       0.0            0.0   \n1                          63.0            0       0.0            0.0   \n2                         162.0            0       0.0            0.0   \n3                          99.0            0       0.0            0.0   \n4                          99.0            0       0.0            0.0   \n\n   Vitamin C, total ascorbic acid  \n0                             0.0  \n1                             0.0  \n2                             0.0  \n3                             0.0  \n4                             0.0  ",
      "text/html": "<div>\n<style scoped>\n    .dataframe tbody tr th:only-of-type {\n        vertical-align: middle;\n    }\n\n    .dataframe tbody tr th {\n        vertical-align: top;\n    }\n\n    .dataframe thead th {\n        text-align: right;\n    }\n</style>\n<table border=\"1\" class=\"dataframe\">\n  <thead>\n    <tr style=\"text-align: right;\">\n      <th></th>\n      <th>Restaurant</th>\n      <th>Food_Name</th>\n      <th>Nutrients</th>\n      <th>Calories</th>\n      <th>Protein</th>\n      <th>Total lipid (fat)</th>\n      <th>Carbohydrate, by difference</th>\n      <th>Energy</th>\n      <th>Sugars, total</th>\n      <th>Fiber, total dietary</th>\n      <th>Sodium, Na</th>\n      <th>Cholesterol</th>\n      <th>Fatty acids, total trans</th>\n      <th>Fatty acids, total saturated</th>\n      <th>Calcium, Ca</th>\n      <th>Iron, Fe</th>\n      <th>Vitamin A, IU</th>\n      <th>Vitamin C, total ascorbic acid</th>\n    </tr>\n  </thead>\n  <tbody>\n    <tr>\n      <th>0</th>\n      <td>Schlotzsky's</td>\n      <td>Kids Cheese Pizza</td>\n      <td>[{'value': 18, 'attr_id': 203}, {'value': 17, ...</td>\n      <td>540</td>\n      <td>72</td>\n      <td>153.0</td>\n      <td>312</td>\n      <td>540</td>\n      <td>16</td>\n      <td>4</td>\n      <td>960</td>\n      <td>30</td>\n      <td>0.0</td>\n      <td>45.0</td>\n      <td>0</td>\n      <td>0.0</td>\n      <td>0.0</td>\n      <td>0.0</td>\n    </tr>\n    <tr>\n      <th>1</th>\n      <td>Schlotzsky's</td>\n      <td>Kids Pepperoni Pizza</td>\n      <td>[{'value': 20, 'attr_id': 203}, {'value': 22, ...</td>\n      <td>590</td>\n      <td>80</td>\n      <td>198.0</td>\n      <td>312</td>\n      <td>590</td>\n      <td>16</td>\n      <td>4</td>\n      <td>1160</td>\n      <td>40</td>\n      <td>0.0</td>\n      <td>63.0</td>\n      <td>0</td>\n      <td>0.0</td>\n      <td>0.0</td>\n      <td>0.0</td>\n    </tr>\n    <tr>\n      <th>2</th>\n      <td>Schlotzsky's</td>\n      <td>Pepperoni Double Cheese Pizza</td>\n      <td>[{'value': 39, 'attr_id': 203}, {'value': 42, ...</td>\n      <td>980</td>\n      <td>156</td>\n      <td>378.0</td>\n      <td>460</td>\n      <td>980</td>\n      <td>20</td>\n      <td>6</td>\n      <td>2000</td>\n      <td>95</td>\n      <td>0.0</td>\n      <td>162.0</td>\n      <td>0</td>\n      <td>0.0</td>\n      <td>0.0</td>\n      <td>0.0</td>\n    </tr>\n    <tr>\n      <th>3</th>\n      <td>Schlotzsky's</td>\n      <td>Double Cheese Pizza 10''</td>\n      <td>[{'value': 33, 'attr_id': 203}, {'value': 35, ...</td>\n      <td>920</td>\n      <td>132</td>\n      <td>315.0</td>\n      <td>472</td>\n      <td>920</td>\n      <td>28</td>\n      <td>7</td>\n      <td>2150</td>\n      <td>55</td>\n      <td>0.0</td>\n      <td>99.0</td>\n      <td>0</td>\n      <td>0.0</td>\n      <td>0.0</td>\n      <td>0.0</td>\n    </tr>\n    <tr>\n      <th>4</th>\n      <td>Schlotzsky's</td>\n      <td>Fresh Veggie Pizza 10''</td>\n      <td>[{'value': 33, 'attr_id': 203}, {'value': 35, ...</td>\n      <td>920</td>\n      <td>132</td>\n      <td>315.0</td>\n      <td>472</td>\n      <td>920</td>\n      <td>28</td>\n      <td>7</td>\n      <td>2150</td>\n      <td>55</td>\n      <td>0.0</td>\n      <td>99.0</td>\n      <td>0</td>\n      <td>0.0</td>\n      <td>0.0</td>\n      <td>0.0</td>\n    </tr>\n  </tbody>\n</table>\n</div>"
     },
     "metadata": {},
     "execution_count": 4
    }
   ],
   "source": [
    "for index,row in foodRaw_df.iterrows(): #iterate each index and row.\n",
    "    \n",
    "    nutrients = ast.literal_eval(row['Nutrients']) #The original column was as string. ast.literal_eval -->interprets \"strings, bytes, numbers, tuples, lists, dicts, sets, booleans, and None.\" and returns it in the right format.. Anything else is an error.\n",
    "    \n",
    "    for nutrient in nutrients: #Iterates each of the nutrients dictionaries. \n",
    "        \n",
    "        name = nutrient_map.loc[nutrient['attr_id'],'name'] #locates the name in the nutrient_map csv. \n",
    "        \n",
    "        conversion_dict = { #Converts the columns from grams to calories.\n",
    "            'Protein' : 4, #To cal\n",
    "            'Carbohydrate, by difference' : 4, #to cal\n",
    "            'Total lipid (fat)' : 9, #to cal\n",
    "            'Vitamin A, IU' : 0.3, #to mcg RAE\n",
    "            'Fatty acids, total trans' : 10,\n",
    "            'Fatty acids, total saturated' : 9,\n",
    "            'Sugars, total' : 4} \n",
    "        \n",
    "        if name in conversion_dict.keys():\n",
    "            conversionFactor = conversion_dict[name]\n",
    "        else:\n",
    "            conversionFactor = 1\n",
    "        \n",
    "        value = nutrient['value'] \n",
    "        \n",
    "       \n",
    "        if name in foodRaw_df.columns: #if the nutrient is a DataFrame column.\n",
    "                \n",
    "            foodRaw_df.loc[index,name] = value * conversionFactor #Adds the value. \n",
    "        \n",
    "        else: #if the nutrient is not in the DataFrame\n",
    "            foodRaw_df[name] =''\n",
    "            foodRaw_df.loc[index,name] = value * conversionFactor\n",
    "        \n",
    "food_df = foodRaw_df.replace(r\"^\\s*$\", 0, regex = True) #Finds and replace empty cells with 0. empty cell pattern = r\"^\\s*$\"\n",
    "\n",
    "food_df.head()"
   ]
  },
  {
   "cell_type": "code",
   "execution_count": 5,
   "metadata": {},
   "outputs": [
    {
     "output_type": "execute_result",
     "data": {
      "text/plain": "     Restaurant                      Food_Name  Calories  Protein (Cal)  \\\n0  Schlotzsky's              Kids Cheese Pizza       540             72   \n1  Schlotzsky's           Kids Pepperoni Pizza       590             80   \n2  Schlotzsky's  Pepperoni Double Cheese Pizza       980            156   \n3  Schlotzsky's       Double Cheese Pizza 10''       920            132   \n4  Schlotzsky's        Fresh Veggie Pizza 10''       920            132   \n\n   Carbohydrate (Cal)  Fiber (gr)  Total Sugar (Cal)  Total Fat (Cal)  \\\n0                 312           4                 16            153.0   \n1                 312           4                 16            198.0   \n2                 460           6                 20            378.0   \n3                 472           7                 28            315.0   \n4                 472           7                 28            315.0   \n\n   Total Trans Fat (Cal)  Total Saturated Fat (Cal)  Cholesterol (mg)  \\\n0                    0.0                       45.0                30   \n1                    0.0                       63.0                40   \n2                    0.0                      162.0                95   \n3                    0.0                       99.0                55   \n4                    0.0                       99.0                55   \n\n   Calcium (mg)  Iron (mg)  Sodium (mg)  Vitamin A (mcg RAE)  Vitamin C (mg)  \n0             0        0.0          960                  0.0             0.0  \n1             0        0.0         1160                  0.0             0.0  \n2             0        0.0         2000                  0.0             0.0  \n3             0        0.0         2150                  0.0             0.0  \n4             0        0.0         2150                  0.0             0.0  ",
      "text/html": "<div>\n<style scoped>\n    .dataframe tbody tr th:only-of-type {\n        vertical-align: middle;\n    }\n\n    .dataframe tbody tr th {\n        vertical-align: top;\n    }\n\n    .dataframe thead th {\n        text-align: right;\n    }\n</style>\n<table border=\"1\" class=\"dataframe\">\n  <thead>\n    <tr style=\"text-align: right;\">\n      <th></th>\n      <th>Restaurant</th>\n      <th>Food_Name</th>\n      <th>Calories</th>\n      <th>Protein (Cal)</th>\n      <th>Carbohydrate (Cal)</th>\n      <th>Fiber (gr)</th>\n      <th>Total Sugar (Cal)</th>\n      <th>Total Fat (Cal)</th>\n      <th>Total Trans Fat (Cal)</th>\n      <th>Total Saturated Fat (Cal)</th>\n      <th>Cholesterol (mg)</th>\n      <th>Calcium (mg)</th>\n      <th>Iron (mg)</th>\n      <th>Sodium (mg)</th>\n      <th>Vitamin A (mcg RAE)</th>\n      <th>Vitamin C (mg)</th>\n    </tr>\n  </thead>\n  <tbody>\n    <tr>\n      <th>0</th>\n      <td>Schlotzsky's</td>\n      <td>Kids Cheese Pizza</td>\n      <td>540</td>\n      <td>72</td>\n      <td>312</td>\n      <td>4</td>\n      <td>16</td>\n      <td>153.0</td>\n      <td>0.0</td>\n      <td>45.0</td>\n      <td>30</td>\n      <td>0</td>\n      <td>0.0</td>\n      <td>960</td>\n      <td>0.0</td>\n      <td>0.0</td>\n    </tr>\n    <tr>\n      <th>1</th>\n      <td>Schlotzsky's</td>\n      <td>Kids Pepperoni Pizza</td>\n      <td>590</td>\n      <td>80</td>\n      <td>312</td>\n      <td>4</td>\n      <td>16</td>\n      <td>198.0</td>\n      <td>0.0</td>\n      <td>63.0</td>\n      <td>40</td>\n      <td>0</td>\n      <td>0.0</td>\n      <td>1160</td>\n      <td>0.0</td>\n      <td>0.0</td>\n    </tr>\n    <tr>\n      <th>2</th>\n      <td>Schlotzsky's</td>\n      <td>Pepperoni Double Cheese Pizza</td>\n      <td>980</td>\n      <td>156</td>\n      <td>460</td>\n      <td>6</td>\n      <td>20</td>\n      <td>378.0</td>\n      <td>0.0</td>\n      <td>162.0</td>\n      <td>95</td>\n      <td>0</td>\n      <td>0.0</td>\n      <td>2000</td>\n      <td>0.0</td>\n      <td>0.0</td>\n    </tr>\n    <tr>\n      <th>3</th>\n      <td>Schlotzsky's</td>\n      <td>Double Cheese Pizza 10''</td>\n      <td>920</td>\n      <td>132</td>\n      <td>472</td>\n      <td>7</td>\n      <td>28</td>\n      <td>315.0</td>\n      <td>0.0</td>\n      <td>99.0</td>\n      <td>55</td>\n      <td>0</td>\n      <td>0.0</td>\n      <td>2150</td>\n      <td>0.0</td>\n      <td>0.0</td>\n    </tr>\n    <tr>\n      <th>4</th>\n      <td>Schlotzsky's</td>\n      <td>Fresh Veggie Pizza 10''</td>\n      <td>920</td>\n      <td>132</td>\n      <td>472</td>\n      <td>7</td>\n      <td>28</td>\n      <td>315.0</td>\n      <td>0.0</td>\n      <td>99.0</td>\n      <td>55</td>\n      <td>0</td>\n      <td>0.0</td>\n      <td>2150</td>\n      <td>0.0</td>\n      <td>0.0</td>\n    </tr>\n  </tbody>\n</table>\n</div>"
     },
     "metadata": {},
     "execution_count": 5
    }
   ],
   "source": [
    "#DataFrame columns order edit and columns rename.\n",
    "\n",
    "foodFiltered_df = food_df[['Restaurant',\n",
    "                           'Food_Name',\n",
    "                           'Calories',\n",
    "                           'Protein',\n",
    "                           'Carbohydrate, by difference',\n",
    "                           'Fiber, total dietary',\n",
    "                           'Sugars, total',\n",
    "                           'Total lipid (fat)',\n",
    "                           'Fatty acids, total trans',\n",
    "                           'Fatty acids, total saturated',\n",
    "                           'Cholesterol',\n",
    "                           'Calcium, Ca',\n",
    "                           'Iron, Fe',\n",
    "                           'Sodium, Na',\n",
    "                           'Vitamin A, IU',\n",
    "                          'Vitamin C, total ascorbic acid']]\n",
    "\n",
    "columns_name = {\n",
    "    'Protein' : 'Protein (Cal)',\n",
    "    'Carbohydrate, by difference' : 'Carbohydrate (Cal)',\n",
    "    'Fiber, total dietary' : 'Fiber (gr)',\n",
    "    'Sugars, total' : 'Total Sugar (Cal)',\n",
    "    'Total lipid (fat)' : 'Total Fat (Cal)',\n",
    "    'Cholesterol' : 'Cholesterol (mg)',\n",
    "    'Calcium, Ca' : 'Calcium (mg)',\n",
    "    'Iron, Fe' : 'Iron (mg)',\n",
    "    'Sodium, Na' : 'Sodium (mg)',\n",
    "    'Vitamin A, IU' : 'Vitamin A (mcg RAE)',\n",
    "    'Vitamin C, total ascorbic acid' : 'Vitamin C (mg)',\n",
    "    'Fatty acids, total trans' : 'Total Trans Fat (Cal)',\n",
    "    'Fatty acids, total saturated' : 'Total Saturated Fat (Cal)'\n",
    "    \n",
    "}\n",
    "\n",
    "foodFiltered_df = foodFiltered_df.rename(columns = columns_name)\n",
    "\n",
    "foodFiltered_df.head()\n"
   ]
  },
  {
   "cell_type": "code",
   "execution_count": 6,
   "metadata": {},
   "outputs": [
    {
     "output_type": "execute_result",
     "data": {
      "text/plain": "    AGE  Sedentary  Moderately active  Active\n0    14       2000               2400    2800\n1    15       2200               2600    3000\n2    16       2400               2800    3200\n3    17       2400               2800    3200\n4    18       2400               2800    3200\n..  ...        ...                ...     ...\n58   72       2000               2200    2600\n59   73       2000               2200    2600\n60   74       2000               2200    2600\n61   75       2000               2200    2600\n62   76       2000               2200    2400\n\n[63 rows x 4 columns]",
      "text/html": "<div>\n<style scoped>\n    .dataframe tbody tr th:only-of-type {\n        vertical-align: middle;\n    }\n\n    .dataframe tbody tr th {\n        vertical-align: top;\n    }\n\n    .dataframe thead th {\n        text-align: right;\n    }\n</style>\n<table border=\"1\" class=\"dataframe\">\n  <thead>\n    <tr style=\"text-align: right;\">\n      <th></th>\n      <th>AGE</th>\n      <th>Sedentary</th>\n      <th>Moderately active</th>\n      <th>Active</th>\n    </tr>\n  </thead>\n  <tbody>\n    <tr>\n      <th>0</th>\n      <td>14</td>\n      <td>2000</td>\n      <td>2400</td>\n      <td>2800</td>\n    </tr>\n    <tr>\n      <th>1</th>\n      <td>15</td>\n      <td>2200</td>\n      <td>2600</td>\n      <td>3000</td>\n    </tr>\n    <tr>\n      <th>2</th>\n      <td>16</td>\n      <td>2400</td>\n      <td>2800</td>\n      <td>3200</td>\n    </tr>\n    <tr>\n      <th>3</th>\n      <td>17</td>\n      <td>2400</td>\n      <td>2800</td>\n      <td>3200</td>\n    </tr>\n    <tr>\n      <th>4</th>\n      <td>18</td>\n      <td>2400</td>\n      <td>2800</td>\n      <td>3200</td>\n    </tr>\n    <tr>\n      <th>...</th>\n      <td>...</td>\n      <td>...</td>\n      <td>...</td>\n      <td>...</td>\n    </tr>\n    <tr>\n      <th>58</th>\n      <td>72</td>\n      <td>2000</td>\n      <td>2200</td>\n      <td>2600</td>\n    </tr>\n    <tr>\n      <th>59</th>\n      <td>73</td>\n      <td>2000</td>\n      <td>2200</td>\n      <td>2600</td>\n    </tr>\n    <tr>\n      <th>60</th>\n      <td>74</td>\n      <td>2000</td>\n      <td>2200</td>\n      <td>2600</td>\n    </tr>\n    <tr>\n      <th>61</th>\n      <td>75</td>\n      <td>2000</td>\n      <td>2200</td>\n      <td>2600</td>\n    </tr>\n    <tr>\n      <th>62</th>\n      <td>76</td>\n      <td>2000</td>\n      <td>2200</td>\n      <td>2400</td>\n    </tr>\n  </tbody>\n</table>\n<p>63 rows × 4 columns</p>\n</div>"
     },
     "metadata": {},
     "execution_count": 6
    }
   ],
   "source": [
    "#Load kcal requirments from FDA\n",
    "\n",
    "calorieNeeds_male = pd.read_excel('../../FDA Tables XLSX/Appendix 2. Estimated Calorie Needs -2020 Dietary Guidelines _ health.gov_0002.xlsx', sheet_name = 'Males')\n",
    "\n",
    "calorieNeeds_male = calorieNeeds_male[calorieNeeds_male['AGE'] >= 14]\n",
    "\n",
    "calorieNeeds_male = calorieNeeds_male.reset_index(drop= True)\n",
    "\n",
    "calorieNeeds_male"
   ]
  },
  {
   "cell_type": "code",
   "execution_count": 7,
   "metadata": {},
   "outputs": [],
   "source": [
    "#Health Parameters Male\n",
    "\n",
    "nutritionParameters_dict = {'Protein (Cal)' : ((12 + 3) / 2)/100,\n",
    "                           'Carbohydrate (Cal)' : ((10 + 25) / 2) / 100,\n",
    "                           'Fiber (gr)' : (8 + 30) / 2,\n",
    "                           'Total Sugar (Cal)': .04, #https://www.livestrong.com/article/333407-how-many-calories-should-i-eat-at-lunch/\n",
    "                           'Total lipid (Cal)': ((12 + 8) / 2)/ 100,\n",
    "                           'Total Trans Fat (Cal)': .01, #https://medlineplus.gov/ency/patientinstructions/000786.htm#:~:text=You%20should%20limit%20saturated%20fat,or%202%20grams%20per%20day.\n",
    "                           'Total Saturated Fat (Cal)': 0.03,\n",
    "                           'Cholesterol (mg)' : 100, #https://www.healthline.com/health/high-cholesterol/rda#:~:text=Following%20dietary%20guidelines%2C%20doctors%20used,high%20risk%20of%20heart%20disease.\n",
    "                           'Calcium (mg)': (835 + 330) / 2,\n",
    "                           'Iron (mg)': (5 + 15) / 2,\n",
    "                           'Sodium, (mg)': (770 + 150)/2,\n",
    "                           'Vitamin A (mcg RAE)': (1000 + 230) / 2,\n",
    "                            'Vitamin C (mg)' : 21,\n",
    "                            'Calories per Meal' : 1/3}\n",
    "    \n"
   ]
  },
  {
   "cell_type": "markdown",
   "metadata": {},
   "source": [
    "maleNutrition19to30_dict = {'Protein (Cal)' : 0.225/3,\n",
    "                           'Carbohydrate (Cal)' : 0.175,\n",
    "                           'Fiber (gr)' : 33.6/3,\n",
    "                           'Total Sugar (gr)': 40/3, #https://www.livestrong.com/article/333407-how-many-calories-should-i-eat-at-lunch/\n",
    "                           'Total lipid (Cal)': 0.176/3,\n",
    "                           'Total Trans Fat (Cal)': .01/3, #https://medlineplus.gov/ency/patientinstructions/000786.htm#:~:text=You%20should%20limit%20saturated%20fat,or%202%20grams%20per%20day.\n",
    "                           'Total Saturated Fat (Cal)': 0.1/3,\n",
    "                           'Cholesterol (mg)' : 250/3, #https://www.healthline.com/health/high-cholesterol/rda#:~:text=Following%20dietary%20guidelines%2C%20doctors%20used,high%20risk%20of%20heart%20disease.\n",
    "                           'Calcium (mg)': 1000/3,\n",
    "                           'Iron (mg)': 8/2,\n",
    "                           'Sodium, (mg)': 2300/3,\n",
    "                           'Vitamin A, IU': 900/3,\n",
    "                            'Vitamin C (mg)' : 90/3}\n",
    "    \n",
    "maleNutrition31to50_dict = {'Protein (Cal)' : 0.225/3,\n",
    "                           'Carbohydrate (Cal)' : 0.175,\n",
    "                           'Fiber (gr)' : 30.8/3,\n",
    "                           'Total Sugar (gr)': 40/3, #https://www.livestrong.com/article/333407-how-many-calories-should-i-eat-at-lunch/\n",
    "                           'Total lipid (Cal)': 0.176/3,\n",
    "                            'Total Trans Fat (Cal)': .01/3, #https://medlineplus.gov/ency/patientinstructions/000786.htm#:~:text=You%20should%20limit%20saturated%20fat,or%202%20grams%20per%20day.\n",
    "                           'Total Saturated Fat (Cal)': 0.1/3,\n",
    "                           'Cholesterol (mg)' : 250/3, #https://www.healthline.com/health/high-cholesterol/rda#:~:text=Following%20dietary%20guidelines%2C%20doctors%20used,high%20risk%20of%20heart%20disease.\n",
    "                           'Calcium (mg)': 1000/3,\n",
    "                           'Iron (mg)': 8/2,\n",
    "                           'Sodium (mg)': 2300/3,\n",
    "                           'Vitamin A (mcg RAE)': 900/3,\n",
    "                            'Vitamin C (mg)' : 90/3}\n",
    "    \n",
    "maleNutrition51_dict = {'Protein (Cal)' : 0.225/3,\n",
    "                        'Carbohydrate (Cal)' : 0.175,\n",
    "                        'Fiber (gr)' : 28/3,\n",
    "                        'Total Sugar (gr)': 40/3, #https://www.livestrong.com/article/333407-how-many-calories-should-i-eat-at-lunch/\n",
    "                        'Total lipid (Cal)': 0.176/3,\n",
    "                        'Total Trans Fat (Cal)': .01/3, #https://medlineplus.gov/ency/patientinstructions/000786.htm#:~:text=You%20should%20limit%20saturated%20fat,or%202%20grams%20per%20day.\n",
    "                        'Total Saturated Fat (Cal)': 0.1/3,\n",
    "                        'Cholesterol (mg)' : 250/3, #https://www.healthline.com/health/high-cholesterol/rda#:~:text=Following%20dietary%20guidelines%2C%20doctors%20used,high%20risk%20of%20heart%20disease.\n",
    "                        'Calcium (mg)': 1000/3,\n",
    "                        'Iron (mg)': 8/2,\n",
    "                        'Sodium (mg)': 2300/3,\n",
    "                        'Vitamin A (mcg RAE)': 900/3,\n",
    "                        'Vitamin C (mg)' : 90/3}\n",
    "     "
   ]
  },
  {
   "cell_type": "code",
   "execution_count": 8,
   "metadata": {},
   "outputs": [
    {
     "output_type": "execute_result",
     "data": {
      "text/plain": "   Sedentary  Protein (Cal)  Carbohydrate (Cal)  Fiber (gr)  \\\n0     2000.0          150.0               350.0        19.0   \n1     2200.0          165.0               385.0        19.0   \n2     2400.0          180.0               420.0        19.0   \n3     2600.0          195.0               455.0        19.0   \n\n   Total Sugar (Cal)  Total lipid (Cal)  Total Trans Fat (Cal)  \\\n0               80.0              200.0                   20.0   \n1               88.0              220.0                   22.0   \n2               96.0              240.0                   24.0   \n3              104.0              260.0                   26.0   \n\n   Total Saturated Fat (Cal)  Cholesterol (mg)  Calcium (mg)  Iron (mg)  \\\n0                       60.0             100.0         582.5       10.0   \n1                       66.0             100.0         582.5       10.0   \n2                       72.0             100.0         582.5       10.0   \n3                       78.0             100.0         582.5       10.0   \n\n   Sodium, (mg)  Vitamin A (mcg RAE)  Vitamin C (mg)  Calories per Meal  \n0         460.0                615.0            21.0             666.67  \n1         460.0                615.0            21.0             733.33  \n2         460.0                615.0            21.0             800.00  \n3         460.0                615.0            21.0             866.67  ",
      "text/html": "<div>\n<style scoped>\n    .dataframe tbody tr th:only-of-type {\n        vertical-align: middle;\n    }\n\n    .dataframe tbody tr th {\n        vertical-align: top;\n    }\n\n    .dataframe thead th {\n        text-align: right;\n    }\n</style>\n<table border=\"1\" class=\"dataframe\">\n  <thead>\n    <tr style=\"text-align: right;\">\n      <th></th>\n      <th>Sedentary</th>\n      <th>Protein (Cal)</th>\n      <th>Carbohydrate (Cal)</th>\n      <th>Fiber (gr)</th>\n      <th>Total Sugar (Cal)</th>\n      <th>Total lipid (Cal)</th>\n      <th>Total Trans Fat (Cal)</th>\n      <th>Total Saturated Fat (Cal)</th>\n      <th>Cholesterol (mg)</th>\n      <th>Calcium (mg)</th>\n      <th>Iron (mg)</th>\n      <th>Sodium, (mg)</th>\n      <th>Vitamin A (mcg RAE)</th>\n      <th>Vitamin C (mg)</th>\n      <th>Calories per Meal</th>\n    </tr>\n  </thead>\n  <tbody>\n    <tr>\n      <th>0</th>\n      <td>2000.0</td>\n      <td>150.0</td>\n      <td>350.0</td>\n      <td>19.0</td>\n      <td>80.0</td>\n      <td>200.0</td>\n      <td>20.0</td>\n      <td>60.0</td>\n      <td>100.0</td>\n      <td>582.5</td>\n      <td>10.0</td>\n      <td>460.0</td>\n      <td>615.0</td>\n      <td>21.0</td>\n      <td>666.67</td>\n    </tr>\n    <tr>\n      <th>1</th>\n      <td>2200.0</td>\n      <td>165.0</td>\n      <td>385.0</td>\n      <td>19.0</td>\n      <td>88.0</td>\n      <td>220.0</td>\n      <td>22.0</td>\n      <td>66.0</td>\n      <td>100.0</td>\n      <td>582.5</td>\n      <td>10.0</td>\n      <td>460.0</td>\n      <td>615.0</td>\n      <td>21.0</td>\n      <td>733.33</td>\n    </tr>\n    <tr>\n      <th>2</th>\n      <td>2400.0</td>\n      <td>180.0</td>\n      <td>420.0</td>\n      <td>19.0</td>\n      <td>96.0</td>\n      <td>240.0</td>\n      <td>24.0</td>\n      <td>72.0</td>\n      <td>100.0</td>\n      <td>582.5</td>\n      <td>10.0</td>\n      <td>460.0</td>\n      <td>615.0</td>\n      <td>21.0</td>\n      <td>800.00</td>\n    </tr>\n    <tr>\n      <th>3</th>\n      <td>2600.0</td>\n      <td>195.0</td>\n      <td>455.0</td>\n      <td>19.0</td>\n      <td>104.0</td>\n      <td>260.0</td>\n      <td>26.0</td>\n      <td>78.0</td>\n      <td>100.0</td>\n      <td>582.5</td>\n      <td>10.0</td>\n      <td>460.0</td>\n      <td>615.0</td>\n      <td>21.0</td>\n      <td>866.67</td>\n    </tr>\n  </tbody>\n</table>\n</div>"
     },
     "metadata": {},
     "execution_count": 8
    }
   ],
   "source": [
    "#Lists of DataFrames with the information of the required nutrients for each age and lifestyle goup.\n",
    "\n",
    "maleInfo = []\n",
    "\n",
    "for lifeStyle in ['Sedentary','Moderately active','Active']:\n",
    "    \n",
    "    lifeStyle_df = calorieNeeds_male[['AGE', lifeStyle]]\n",
    "    \n",
    "    for index,row in lifeStyle_df.iterrows():\n",
    "\n",
    "        for key in nutritionParameters_dict.keys():\n",
    "\n",
    "            if key not in lifeStyle_df.columns:\n",
    "\n",
    "                lifeStyle_df[key] = ''\n",
    "\n",
    "                if (key == 'Protein (Cal)') |( key == 'Carbohydrate (Cal)') | (key == 'Total Sugar (Cal)') | (key == 'Total lipid (Cal)')| (key == 'Total Trans Fat (Cal)')|( key == 'Total Saturated Fat (Cal)') | (key == 'Calories per Meal'):\n",
    "\n",
    "                    lifeStyle_df.loc[index, key] = round(row[lifeStyle] * nutritionParameters_dict[key],2)\n",
    "\n",
    "                else:\n",
    "\n",
    "                    lifeStyle_df.loc[index, key] = round(nutritionParameters_dict[key],2)\n",
    "\n",
    "            else:\n",
    "\n",
    "                if (key == 'Protein (Cal)') |( key == 'Carbohydrate (Cal)') | (key == 'Total Sugar (Cal)') | (key == 'Total lipid (Cal)')| (key == 'Total Trans Fat (Cal)')|( key == 'Total Saturated Fat (Cal)') | (key == 'Calories per Meal'):\n",
    "\n",
    "                    lifeStyle_df.loc[index, key] = round(row[lifeStyle] * nutritionParameters_dict[key],2)\n",
    "\n",
    "                else:\n",
    "\n",
    "                    lifeStyle_df.loc[index, key] = round(nutritionParameters_dict[key],2)\n",
    "\n",
    "    columns = lifeStyle_df.columns.to_list()\n",
    "\n",
    "    lifeStyle_df[columns] = lifeStyle_df[columns].apply(pd.to_numeric, axis=1) \n",
    "\n",
    "    lifeStyle_df = lifeStyle_df.groupby(lifeStyle).mean().reset_index().drop(['AGE'], axis=1)\n",
    "                     \n",
    "    maleInfo.append(lifeStyle_df)\n",
    "                        \n",
    "maleInfo[0] #List of DataFrames for males and the intake limits for each meal. "
   ]
  },
  {
   "cell_type": "markdown",
   "metadata": {},
   "source": [
    "elif row['AGE'] > 19 & row['AGE'] <= 30 :\n",
    "\n",
    "            for key in maleNutrition19to30_dict.keys():\n",
    "\n",
    "                    if (key == 'Protein (Cal)') |( key == 'Carbohydrate (Cal)') | (key == 'Total lipid (Cal)')| (key == 'Total Trans Fat (Cal)')|( key == 'Total Saturated Fat (Cal)'):\n",
    "\n",
    "                        lifeStyle_df.loc[index, key] = round(row[lifeStyle] * maleNutrition19to30_dict[key],2)\n",
    "\n",
    "                    else:\n",
    "\n",
    "                        lifeStyle_df.loc[index, key] = round(maleNutrition19to30_dict[key],2)\n",
    "\n",
    "        elif row['AGE'] > 31 & row['AGE'] <= 50 :\n",
    "\n",
    "            for key in maleNutrition31to50_dict.keys():\n",
    "\n",
    "                    if (key == 'Protein (Cal)') |( key == 'Carbohydrate (Cal)') | (key == 'Total lipid (Cal)')| (key == 'Total Trans Fat (Cal)')|( key == 'Total Saturated Fat (Cal)'):\n",
    "\n",
    "                        lifeStyle_df.loc[index, key] = round(row[lifeStyle] * maleNutrition31to50_dict[key],2)\n",
    "\n",
    "                    else:\n",
    "\n",
    "                        lifeStyle_df.loc[index, key] = round(maleNutrition31to50_dict[key],2)\n",
    "\n",
    "        elif row['AGE'] > 31 & row['AGE'] <= 50 :\n",
    "\n",
    "            for key in maleNutrition51_dict.keys():\n",
    "\n",
    "                    if (key == 'Protein (Cal)') |( key == 'Carbohydrate (Cal)') | (key == 'Total lipid (Cal)')| (key == 'Total Trans Fat (Cal)')|( key == 'Total Saturated Fat (Cal)'):\n",
    "\n",
    "                        lifeStyle_df.loc[index, key] = round(row[lifeStyle] * maleNutrition51_dict[key],2)\n",
    "\n",
    "                    else:\n",
    "\n",
    "                        lifeStyle_df.loc[index, key] = round(maleNutrition51_dict[key],2)"
   ]
  },
  {
   "cell_type": "code",
   "execution_count": 9,
   "metadata": {},
   "outputs": [
    {
     "output_type": "execute_result",
     "data": {
      "text/plain": "   AGE  Sedentary  Moderately active  Active\n0   14       1800               2000    2400\n1   15       1800               2000    2400\n2   16       1800               2000    2400\n3   17       1800               2000    2400\n4   18       1800               2000    2400",
      "text/html": "<div>\n<style scoped>\n    .dataframe tbody tr th:only-of-type {\n        vertical-align: middle;\n    }\n\n    .dataframe tbody tr th {\n        vertical-align: top;\n    }\n\n    .dataframe thead th {\n        text-align: right;\n    }\n</style>\n<table border=\"1\" class=\"dataframe\">\n  <thead>\n    <tr style=\"text-align: right;\">\n      <th></th>\n      <th>AGE</th>\n      <th>Sedentary</th>\n      <th>Moderately active</th>\n      <th>Active</th>\n    </tr>\n  </thead>\n  <tbody>\n    <tr>\n      <th>0</th>\n      <td>14</td>\n      <td>1800</td>\n      <td>2000</td>\n      <td>2400</td>\n    </tr>\n    <tr>\n      <th>1</th>\n      <td>15</td>\n      <td>1800</td>\n      <td>2000</td>\n      <td>2400</td>\n    </tr>\n    <tr>\n      <th>2</th>\n      <td>16</td>\n      <td>1800</td>\n      <td>2000</td>\n      <td>2400</td>\n    </tr>\n    <tr>\n      <th>3</th>\n      <td>17</td>\n      <td>1800</td>\n      <td>2000</td>\n      <td>2400</td>\n    </tr>\n    <tr>\n      <th>4</th>\n      <td>18</td>\n      <td>1800</td>\n      <td>2000</td>\n      <td>2400</td>\n    </tr>\n  </tbody>\n</table>\n</div>"
     },
     "metadata": {},
     "execution_count": 9
    }
   ],
   "source": [
    "#Load kcal requirments from FDA\n",
    "\n",
    "calorieNeeds_female = pd.read_excel('../../FDA Tables XLSX/Appendix 2. Estimated Calorie Needs -2020 Dietary Guidelines _ health.gov_0002.xlsx', sheet_name = 'Females')\n",
    "\n",
    "calorieNeeds_female = calorieNeeds_female[calorieNeeds_female['AGE'] >= 14]\n",
    "\n",
    "calorieNeeds_female =  calorieNeeds_female.reset_index(drop= True)\n",
    "\n",
    "calorieNeeds_female.head()"
   ]
  },
  {
   "cell_type": "code",
   "execution_count": 10,
   "metadata": {},
   "outputs": [
    {
     "output_type": "execute_result",
     "data": {
      "text/plain": "   Sedentary  Protein (Cal)  Carbohydrate (Cal)  Fiber (gr)  \\\n0     1600.0          120.0               280.0        19.0   \n1     1800.0          135.0               315.0        19.0   \n2     2000.0          150.0               350.0        19.0   \n\n   Total Sugar (Cal)  Total lipid (Cal)  Total Trans Fat (Cal)  \\\n0               64.0              160.0                   16.0   \n1               72.0              180.0                   18.0   \n2               80.0              200.0                   20.0   \n\n   Total Saturated Fat (Cal)  Cholesterol (mg)  Calcium (mg)  Iron (mg)  \\\n0                       48.0             100.0         582.5       10.0   \n1                       54.0             100.0         582.5       10.0   \n2                       60.0             100.0         582.5       10.0   \n\n   Sodium, (mg)  Vitamin A (mcg RAE)  Vitamin C (mg)  Calories per Meal  \n0         460.0                615.0            21.0             533.33  \n1         460.0                615.0            21.0             600.00  \n2         460.0                615.0            21.0             666.67  ",
      "text/html": "<div>\n<style scoped>\n    .dataframe tbody tr th:only-of-type {\n        vertical-align: middle;\n    }\n\n    .dataframe tbody tr th {\n        vertical-align: top;\n    }\n\n    .dataframe thead th {\n        text-align: right;\n    }\n</style>\n<table border=\"1\" class=\"dataframe\">\n  <thead>\n    <tr style=\"text-align: right;\">\n      <th></th>\n      <th>Sedentary</th>\n      <th>Protein (Cal)</th>\n      <th>Carbohydrate (Cal)</th>\n      <th>Fiber (gr)</th>\n      <th>Total Sugar (Cal)</th>\n      <th>Total lipid (Cal)</th>\n      <th>Total Trans Fat (Cal)</th>\n      <th>Total Saturated Fat (Cal)</th>\n      <th>Cholesterol (mg)</th>\n      <th>Calcium (mg)</th>\n      <th>Iron (mg)</th>\n      <th>Sodium, (mg)</th>\n      <th>Vitamin A (mcg RAE)</th>\n      <th>Vitamin C (mg)</th>\n      <th>Calories per Meal</th>\n    </tr>\n  </thead>\n  <tbody>\n    <tr>\n      <th>0</th>\n      <td>1600.0</td>\n      <td>120.0</td>\n      <td>280.0</td>\n      <td>19.0</td>\n      <td>64.0</td>\n      <td>160.0</td>\n      <td>16.0</td>\n      <td>48.0</td>\n      <td>100.0</td>\n      <td>582.5</td>\n      <td>10.0</td>\n      <td>460.0</td>\n      <td>615.0</td>\n      <td>21.0</td>\n      <td>533.33</td>\n    </tr>\n    <tr>\n      <th>1</th>\n      <td>1800.0</td>\n      <td>135.0</td>\n      <td>315.0</td>\n      <td>19.0</td>\n      <td>72.0</td>\n      <td>180.0</td>\n      <td>18.0</td>\n      <td>54.0</td>\n      <td>100.0</td>\n      <td>582.5</td>\n      <td>10.0</td>\n      <td>460.0</td>\n      <td>615.0</td>\n      <td>21.0</td>\n      <td>600.00</td>\n    </tr>\n    <tr>\n      <th>2</th>\n      <td>2000.0</td>\n      <td>150.0</td>\n      <td>350.0</td>\n      <td>19.0</td>\n      <td>80.0</td>\n      <td>200.0</td>\n      <td>20.0</td>\n      <td>60.0</td>\n      <td>100.0</td>\n      <td>582.5</td>\n      <td>10.0</td>\n      <td>460.0</td>\n      <td>615.0</td>\n      <td>21.0</td>\n      <td>666.67</td>\n    </tr>\n  </tbody>\n</table>\n</div>"
     },
     "metadata": {},
     "execution_count": 10
    }
   ],
   "source": [
    "femaleInfo = []\n",
    "\n",
    "for lifeStyle in ['Sedentary','Moderately active','Active']:\n",
    "    \n",
    "    lifeStyle_df = calorieNeeds_female[['AGE', lifeStyle]]\n",
    "    \n",
    "    for index,row in lifeStyle_df.iterrows():\n",
    "\n",
    "        for key in nutritionParameters_dict.keys():\n",
    "\n",
    "            if key not in lifeStyle_df.columns:\n",
    "\n",
    "                lifeStyle_df[key] = ''\n",
    "\n",
    "                if (key == 'Protein (Cal)') |( key == 'Carbohydrate (Cal)') | (key == 'Total Sugar (Cal)') | (key == 'Total lipid (Cal)')| (key == 'Total Trans Fat (Cal)')|( key == 'Total Saturated Fat (Cal)') | (key == 'Calories per Meal'):\n",
    "\n",
    "                    lifeStyle_df.loc[index, key] = round(row[lifeStyle] * nutritionParameters_dict[key],2)\n",
    "\n",
    "                else:\n",
    "\n",
    "                    lifeStyle_df.loc[index, key] = round(nutritionParameters_dict[key],2)\n",
    "\n",
    "            else:\n",
    "\n",
    "                if (key == 'Protein (Cal)') |( key == 'Carbohydrate (Cal)') | (key == 'Total Sugar (Cal)') | (key == 'Total lipid (Cal)')| (key == 'Total Trans Fat (Cal)')|( key == 'Total Saturated Fat (Cal)') | (key == 'Calories per Meal'):\n",
    "\n",
    "                    lifeStyle_df.loc[index, key] = round(row[lifeStyle] * nutritionParameters_dict[key],2)\n",
    "\n",
    "                else:\n",
    "\n",
    "                    lifeStyle_df.loc[index, key] = round(nutritionParameters_dict[key],2)\n",
    "                    \n",
    "    columns = lifeStyle_df.columns.to_list()\n",
    "\n",
    "    lifeStyle_df[columns] = lifeStyle_df[columns].apply(pd.to_numeric, axis=1) \n",
    "\n",
    "    lifeStyle_df = lifeStyle_df.groupby(lifeStyle).mean().reset_index().drop(['AGE'], axis=1)\n",
    "       \n",
    "                        \n",
    "    femaleInfo.append(lifeStyle_df)\n",
    "                        \n",
    "femaleInfo[0] #List of DataFrames for males and the intake limits for each meal. "
   ]
  },
  {
   "cell_type": "code",
   "execution_count": 11,
   "metadata": {
    "tags": []
   },
   "outputs": [
    {
     "output_type": "stream",
     "name": "stdout",
     "text": "Stored 'maleInfo' (list)\nStored 'femaleInfo' (list)\nStored 'foodFiltered_df' (DataFrame)\n"
    }
   ],
   "source": [
    "#Stores the DataFrames in the system to be abe to read it in another Notebook.\n",
    "\n",
    "%store maleInfo\n",
    "\n",
    "%store femaleInfo\n",
    "\n",
    "%store foodFiltered_df"
   ]
  }
 ],
 "metadata": {
  "kernelspec": {
   "display_name": "Python 3",
   "language": "python",
   "name": "python3"
  },
  "language_info": {
   "codemirror_mode": {
    "name": "ipython",
    "version": 3
   },
   "file_extension": ".py",
   "mimetype": "text/x-python",
   "name": "python",
   "nbconvert_exporter": "python",
   "pygments_lexer": "ipython3",
   "version": "3.7.6-final"
  }
 },
 "nbformat": 4,
 "nbformat_minor": 4
}